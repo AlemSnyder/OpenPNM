{
 "cells": [
  {
   "cell_type": "markdown",
   "id": "25f842ef",
   "metadata": {},
   "source": [
    "# OpenPNM Version 3:  The new @domain syntax "
   ]
  },
  {
   "cell_type": "code",
   "execution_count": 1,
   "id": "60846c77",
   "metadata": {},
   "outputs": [],
   "source": [
    "import openpnm as op"
   ]
  },
  {
   "cell_type": "markdown",
   "id": "c0cd2b30",
   "metadata": {},
   "source": [
    "Start by generating a simple 2D cubic network:"
   ]
  },
  {
   "cell_type": "code",
   "execution_count": 2,
   "id": "1f08b96b",
   "metadata": {},
   "outputs": [
    {
     "name": "stdout",
     "output_type": "stream",
     "text": [
      "――――――――――――――――――――――――――――――――――――――――――――――――――――――――――――――――――――――――――――――\n",
      "openpnm.network.Cubic : net_01\n",
      "――――――――――――――――――――――――――――――――――――――――――――――――――――――――――――――――――――――――――――――\n",
      "#     Properties                                    Valid Values\n",
      "――――――――――――――――――――――――――――――――――――――――――――――――――――――――――――――――――――――――――――――\n",
      "1     pore.coords                                      16 / 16   \n",
      "2     throat.conns                                     24 / 24   \n",
      "――――――――――――――――――――――――――――――――――――――――――――――――――――――――――――――――――――――――――――――\n",
      "#     Labels                                        Assigned Locations\n",
      "――――――――――――――――――――――――――――――――――――――――――――――――――――――――――――――――――――――――――――――\n",
      "1     pore.back                                     4         \n",
      "2     pore.front                                    4         \n",
      "3     pore.left                                     4         \n",
      "4     pore.right                                    4         \n",
      "5     pore.surface                                  12        \n",
      "6     throat.surface                                12        \n",
      "――――――――――――――――――――――――――――――――――――――――――――――――――――――――――――――――――――――――――――――\n",
      "Parameters                          Values\n",
      "――――――――――――――――――――――――――――――――――――――――――――――――――――――――――――――――――――――――――――――\n",
      "――――――――――――――――――――――――――――――――――――――――――――――――――――――――――――――――――――――――――――――\n"
     ]
    }
   ],
   "source": [
    "pn = op.network.Cubic([4, 4, 1])\n",
    "print(pn)"
   ]
  },
  {
   "cell_type": "markdown",
   "id": "268eeec6",
   "metadata": {},
   "source": [
    "This network includes a few pre-defined labels, which are boolean masks of ``True|False`` values which indicate whether that label applies to a given pore/throat or not."
   ]
  },
  {
   "cell_type": "markdown",
   "id": "914af165",
   "metadata": {},
   "source": [
    "We can use labels as masks to view only values for given locations, as follows:"
   ]
  },
  {
   "cell_type": "code",
   "execution_count": 3,
   "id": "5671e36e",
   "metadata": {},
   "outputs": [
    {
     "data": {
      "text/plain": [
       "array([[0.5, 0.5, 0.5],\n",
       "       [0.5, 1.5, 0.5],\n",
       "       [0.5, 2.5, 0.5],\n",
       "       [0.5, 3.5, 0.5]])"
      ]
     },
     "execution_count": 3,
     "metadata": {},
     "output_type": "execute_result"
    }
   ],
   "source": [
    "pn['pore.coords'][pn['pore.left']]"
   ]
  },
  {
   "cell_type": "markdown",
   "id": "24397475",
   "metadata": {},
   "source": [
    "or using the ``pores`` method:"
   ]
  },
  {
   "cell_type": "code",
   "execution_count": 4,
   "id": "5ac6b851",
   "metadata": {},
   "outputs": [
    {
     "data": {
      "text/plain": [
       "array([[0.5, 0.5, 0.5],\n",
       "       [0.5, 1.5, 0.5],\n",
       "       [0.5, 2.5, 0.5],\n",
       "       [0.5, 3.5, 0.5]])"
      ]
     },
     "execution_count": 4,
     "metadata": {},
     "output_type": "execute_result"
    }
   ],
   "source": [
    "pn['pore.coords'][pn.pores('left')]"
   ]
  },
  {
   "cell_type": "markdown",
   "id": "879bcb66",
   "metadata": {},
   "source": [
    "In OpenPNM V3 there is a very handy new syntax, the @ symbol used as follows:"
   ]
  },
  {
   "cell_type": "code",
   "execution_count": 5,
   "id": "bc2ecbd5",
   "metadata": {},
   "outputs": [
    {
     "data": {
      "text/plain": [
       "array([[0.5, 0.5, 0.5],\n",
       "       [0.5, 1.5, 0.5],\n",
       "       [0.5, 2.5, 0.5],\n",
       "       [0.5, 3.5, 0.5]])"
      ]
     },
     "execution_count": 5,
     "metadata": {},
     "output_type": "execute_result"
    }
   ],
   "source": [
    "pn['pore.coords@left']"
   ]
  },
  {
   "cell_type": "markdown",
   "id": "eb27e64f",
   "metadata": {},
   "source": [
    "Using the @ symbol in this way is actually a side effect of a *major change* made in V3.  The ``Geometry`` and ``Physics`` objects are now *gone*.  There was essentially only one use case for these, which was to model heterogeneous domains, like bimodal pore size distributions or layered structures.  \n",
    "\n",
    "In V2 this was accomplished by using 2 (or more) ``Geometry`` objects to represent each class of pores, with unique pore-scale models attached to each.  Without getting lost in the details, it is sufficient to say that having separate objects for managing each class of pores (and/or throats) created a *lot* of complications, both to the user and the to maintenence of the backend.  \n",
    "\n",
    "In V3 we have developed what we think is a much tidier approach to managing heterogeneous domains.  Instead of creating multiple ``Geometry`` objects (and consequently multiple ``Physics`` objects), you now add all the pore-scale models to the ``Network`` object directly.  The trick is that when adding models you specify one additional argument: which pores (or throats) the model applies to, as follows:"
   ]
  },
  {
   "cell_type": "code",
   "execution_count": 6,
   "id": "bbf650bb",
   "metadata": {},
   "outputs": [],
   "source": [
    "pn.add_model(propname='pore.seed', \n",
    "             model=op.models.geometry.pore_seed.random,\n",
    "             domain='left',\n",
    "             seed=0,\n",
    "             num_range=[0.2, 0.8])"
   ]
  },
  {
   "cell_type": "markdown",
   "id": "3bf8b634",
   "metadata": {},
   "source": [
    "where ``domain`` is a label which has already been defined and added to the network.  This means that to create a heterogeneous model you only need to create labels indicating each domain, the pass those labels when adding models.  You can also leave ``domain`` unspecified which means the model is applied everywhere.  For the above case, we can see that the 'pore.seed' model was computed for 4 locations (corresponding the 4 pores labelled 'left'):"
   ]
  },
  {
   "cell_type": "code",
   "execution_count": 9,
   "id": "3f1ee6b1",
   "metadata": {},
   "outputs": [
    {
     "name": "stdout",
     "output_type": "stream",
     "text": [
      "――――――――――――――――――――――――――――――――――――――――――――――――――――――――――――――――――――――――――――――\n",
      "openpnm.network.Cubic : net_01\n",
      "――――――――――――――――――――――――――――――――――――――――――――――――――――――――――――――――――――――――――――――\n",
      "#     Properties                                    Valid Values\n",
      "――――――――――――――――――――――――――――――――――――――――――――――――――――――――――――――――――――――――――――――\n",
      "1     pore.coords                                      16 / 16   \n",
      "2     pore.seed                                         4 / 16   \n",
      "3     throat.conns                                     24 / 24   \n",
      "――――――――――――――――――――――――――――――――――――――――――――――――――――――――――――――――――――――――――――――\n",
      "#     Labels                                        Assigned Locations\n",
      "――――――――――――――――――――――――――――――――――――――――――――――――――――――――――――――――――――――――――――――\n",
      "1     pore.back                                     4         \n",
      "2     pore.front                                    4         \n",
      "3     pore.left                                     4         \n",
      "4     pore.right                                    4         \n",
      "5     pore.surface                                  12        \n",
      "6     throat.surface                                12        \n",
      "――――――――――――――――――――――――――――――――――――――――――――――――――――――――――――――――――――――――――――――\n",
      "Parameters                          Values\n",
      "――――――――――――――――――――――――――――――――――――――――――――――――――――――――――――――――――――――――――――――\n",
      "――――――――――――――――――――――――――――――――――――――――――――――――――――――――――――――――――――――――――――――\n"
     ]
    }
   ],
   "source": [
    "print(pn)"
   ]
  }
 ],
 "metadata": {
  "kernelspec": {
   "display_name": "Python 3 (ipykernel)",
   "language": "python",
   "name": "python3"
  },
  "language_info": {
   "codemirror_mode": {
    "name": "ipython",
    "version": 3
   },
   "file_extension": ".py",
   "mimetype": "text/x-python",
   "name": "python",
   "nbconvert_exporter": "python",
   "pygments_lexer": "ipython3",
   "version": "3.9.7"
  }
 },
 "nbformat": 4,
 "nbformat_minor": 5
}

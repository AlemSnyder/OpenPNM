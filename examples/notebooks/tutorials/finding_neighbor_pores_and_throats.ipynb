{
 "cells": [
  {
   "cell_type": "markdown",
   "metadata": {},
   "source": [
    "# Using Neighborhood Queries"
   ]
  },
  {
   "cell_type": "markdown",
   "metadata": {
    "toc": true
   },
   "source": [
    "<h1><span class=\"tocSkip\"></span></h1>\n",
    "<div class=\"toc\"><ul class=\"toc-item\"><li><span><a href=\"#Setup-Network\" data-toc-modified-id=\"Setup-Network-1\">Setup Network</a></span></li><li><span><a href=\"#Find-Neighoring-Pores\" data-toc-modified-id=\"Find-Neighoring-Pores-2\">Find Neighoring Pores</a></span><ul class=\"toc-item\"><li><span><a href=\"#Find-All-Neighbors:-OR\" data-toc-modified-id=\"Find-All-Neighbors:-OR-2.1\">Find All Neighbors: OR</a></span></li><li><span><a href=\"#Find-Non-Shared-Neighbors:-XOR\" data-toc-modified-id=\"Find-Non-Shared-Neighbors:-XOR-2.2\">Find Non-Shared Neighbors: XOR</a></span></li><li><span><a href=\"#Find-Common-Neighbors-of-Two-Sets:-XNOR\" data-toc-modified-id=\"Find-Common-Neighbors-of-Two-Sets:-XNOR-2.3\">Find Common Neighbors of Two Sets: XNOR</a></span></li></ul></li><li><span><a href=\"#Find-Neighboring-Throats\" data-toc-modified-id=\"Find-Neighboring-Throats-3\">Find Neighboring Throats</a></span><ul class=\"toc-item\"><li><span><a href=\"#Find-All-Neighboring-Throats:-OR\" data-toc-modified-id=\"Find-All-Neighboring-Throats:-OR-3.1\">Find All Neighboring Throats: OR</a></span></li><li><span><a href=\"#Find-Common-Neighbors:-XNOR\" data-toc-modified-id=\"Find-Common-Neighbors:-XNOR-3.2\">Find Common Neighbors: XNOR</a></span></li><li><span><a href=\"#Find-Non-Shared-Neighbors:-XOR\" data-toc-modified-id=\"Find-Non-Shared-Neighbors:-XOR-3.3\">Find Non-Shared Neighbors: XOR</a></span></li></ul></li></ul></div>"
   ]
  },
  {
   "cell_type": "code",
   "execution_count": 1,
   "metadata": {},
   "outputs": [],
   "source": [
    "import openpnm as op\n",
    "import numpy as np\n",
    "np.random.seed(10)\n",
    "%matplotlib inline\n",
    "ws = op.Workspace()\n",
    "ws.settings[\"loglevel\"] = 40"
   ]
  },
  {
   "cell_type": "markdown",
   "metadata": {},
   "source": [
    "## Setup Network\n",
    "\n",
    "The OpenPNM *GenericNetwork* objects (e.g. Cubic, Voronoi, etc) have methods that let you query the connected pores and throats.  This tutorial will explain how these work and illustrate why they are useful."
   ]
  },
  {
   "cell_type": "code",
   "execution_count": 2,
   "metadata": {},
   "outputs": [],
   "source": [
    "pn = op.network.Cubic(shape=[4, 4, 1])"
   ]
  },
  {
   "cell_type": "markdown",
   "metadata": {},
   "source": [
    "The following examples are relatively trivial, but their intention is to illustrate the different functions and options.  More realistic use cases will be presented further down."
   ]
  },
  {
   "cell_type": "markdown",
   "metadata": {},
   "source": [
    "Start by finding all pores on the 'left' and 'front'"
   ]
  },
  {
   "cell_type": "code",
   "execution_count": 3,
   "metadata": {},
   "outputs": [],
   "source": [
    "P_left = pn.pores('left')\n",
    "P_bottom = pn.pores('front')"
   ]
  },
  {
   "cell_type": "markdown",
   "metadata": {},
   "source": [
    "## Find Neighoring Pores\n",
    "We now have two sets of pores that actually overlap each other, as illustrated below:"
   ]
  },
  {
   "cell_type": "code",
   "execution_count": 4,
   "metadata": {},
   "outputs": [
    {
     "data": {
      "image/png": "[encoded data removed]",
      "text/plain": [
       "<Figure size 432x288 with 1 Axes>"
      ]
     },
     "metadata": {
      "needs_background": "light"
     },
     "output_type": "display_data"
    }
   ],
   "source": [
    "#NBVAL_IGNORE_OUTPUT\n",
    "fig = op.topotools.plot_coordinates(pn, pn.Ps, c='lightgrey')\n",
    "fig = op.topotools.plot_coordinates(pn, P_left, c='red', marker='*', fig=fig)\n",
    "fig = op.topotools.plot_coordinates(pn, P_bottom, c='blue', marker='.', fig=fig)"
   ]
  },
  {
   "cell_type": "markdown",
   "metadata": {},
   "source": [
    "We'll merge these pores into a single set, and explore the different ways to find neighbors to this set.  Note that the pore at [x,y] = [1.5, 1.5] has two neighbors (one 'bottom' and one 'left'). "
   ]
  },
  {
   "cell_type": "markdown",
   "metadata": {},
   "source": [
    "### Find All Neighbors: OR\n",
    "> *Finds all pores with one or more connections to the input pores*\n",
    "\n",
    "Given a set of pores, find the pores that are neighbors to one or more of the inputs.  This is called **OR** since it gives the neighbors of either the bottom pores *or* the left pores, *or* both.  "
   ]
  },
  {
   "cell_type": "code",
   "execution_count": 5,
   "metadata": {},
   "outputs": [
    {
     "name": "stdout",
     "output_type": "stream",
     "text": [
      "[ 0  1  2  3  4  8 12]\n",
      "[ 5  6  7  9 13]\n"
     ]
    }
   ],
   "source": [
    "Ps = pn.pores(['left', 'front'])\n",
    "print(Ps)\n",
    "Ps = pn.find_neighbor_pores(pores=Ps, mode='or')\n",
    "print(Ps)"
   ]
  },
  {
   "cell_type": "code",
   "execution_count": 6,
   "metadata": {},
   "outputs": [
    {
     "data": {
      "image/png": "[encoded data removed]",
      "text/plain": [
       "<Figure size 432x288 with 1 Axes>"
      ]
     },
     "metadata": {
      "needs_background": "light"
     },
     "output_type": "display_data"
    }
   ],
   "source": [
    "#NBVAL_IGNORE_OUTPUT\n",
    "fig = op.topotools.plot_coordinates(pn, pn.Ps, c='lightgrey')\n",
    "fig = op.topotools.plot_coordinates(pn, P_left, c='red', marker='*', fig=fig)\n",
    "fig = op.topotools.plot_coordinates(pn, P_bottom, c='blue', marker='.', fig=fig)\n",
    "fig = op.topotools.plot_coordinates(pn, Ps, c='green', marker='s', fig=fig)"
   ]
  },
  {
   "cell_type": "markdown",
   "metadata": {},
   "source": [
    "### Find Non-Shared Neighbors: XOR\n",
    "> *Finds all pores with exactly one connection to the input pores*\n",
    "\n",
    "Given a set of pores find the pores that are neighbors of one and only one of the input pores.  This is called **XOR**, or 'exclusve_or' because it finds the pores that are neigbhors to the 'bottom' *or* the 'left', but *not* both. "
   ]
  },
  {
   "cell_type": "code",
   "execution_count": 7,
   "metadata": {},
   "outputs": [
    {
     "name": "stdout",
     "output_type": "stream",
     "text": [
      "[ 0  1  2  3  4  8 12]\n",
      "[ 6  7  9 13]\n"
     ]
    }
   ],
   "source": [
    "Ps = pn.pores(['left', 'front'])\n",
    "print(Ps)\n",
    "Ps = pn.find_neighbor_pores (pores=Ps, mode='xor')\n",
    "print(Ps)"
   ]
  },
  {
   "cell_type": "code",
   "execution_count": 8,
   "metadata": {},
   "outputs": [
    {
     "data": {
      "image/png": "[encoded data removed]",
      "text/plain": [
       "<Figure size 432x288 with 1 Axes>"
      ]
     },
     "metadata": {
      "needs_background": "light"
     },
     "output_type": "display_data"
    }
   ],
   "source": [
    "#NBVAL_IGNORE_OUTPUT\n",
    "fig = op.topotools.plot_coordinates(pn, pn.Ps, c='lightgrey')\n",
    "fig = op.topotools.plot_coordinates(pn, P_left, c='red', marker='*', fig=fig)\n",
    "fig = op.topotools.plot_coordinates(pn, P_bottom, c='blue', marker='.', fig=fig)\n",
    "fig = op.topotools.plot_coordinates(pn, Ps, c='green', marker='s', fig=fig)"
   ]
  },
  {
   "cell_type": "markdown",
   "metadata": {},
   "source": [
    "### Find Common Neighbors of Two Sets: XNOR\n",
    "\n",
    "> *Finds all the pores with 2 or more connections to the input pores*\n",
    "\n",
    "This finds pores that are common to both 'left' and 'bottom' pores.  It is called **XNOR** since it is the opposite of **XOR** , incidated by the *N for not* .   Note that **XNOR** and **NXOR** are interchangable."
   ]
  },
  {
   "cell_type": "code",
   "execution_count": 9,
   "metadata": {},
   "outputs": [
    {
     "name": "stdout",
     "output_type": "stream",
     "text": [
      "[ 0  1  2  3  4  8 12]\n",
      "[5]\n"
     ]
    }
   ],
   "source": [
    "Ps = pn.pores(['left', 'front'])\n",
    "print(Ps)\n",
    "Ps = pn.find_neighbor_pores(pores=Ps, mode='xnor')\n",
    "print(Ps)"
   ]
  },
  {
   "cell_type": "code",
   "execution_count": 10,
   "metadata": {},
   "outputs": [
    {
     "data": {
      "image/png": "[encoded data removed]",
      "text/plain": [
       "<Figure size 432x288 with 1 Axes>"
      ]
     },
     "metadata": {
      "needs_background": "light"
     },
     "output_type": "display_data"
    }
   ],
   "source": [
    "#NBVAL_IGNORE_OUTPUT\n",
    "fig = op.topotools.plot_coordinates(pn, pn.Ps, c='lightgrey')\n",
    "fig = op.topotools.plot_coordinates(pn, P_left, c='red', marker='*', fig=fig)\n",
    "fig = op.topotools.plot_coordinates(pn, P_bottom, c='blue', marker='.', fig=fig)\n",
    "fig = op.topotools.plot_coordinates(pn, Ps, c='green', marker='s', fig=fig)"
   ]
  },
  {
   "cell_type": "markdown",
   "metadata": {},
   "source": [
    "## Find Neighboring Throats\n",
    "Neighbor throat queries follow essentially the same logic as the neighboring queries outlined above.  "
   ]
  },
  {
   "cell_type": "markdown",
   "metadata": {},
   "source": [
    "### Find All Neighboring Throats: OR\n",
    "> *Finds all throats connected to any of the input pores*\n",
    "\n"
   ]
  },
  {
   "cell_type": "code",
   "execution_count": 11,
   "metadata": {},
   "outputs": [],
   "source": [
    "Ps = pn.pores(['left', 'front'])\n",
    "Ts = pn.find_neighbor_throats(pores=Ps, mode='or')"
   ]
  },
  {
   "cell_type": "code",
   "execution_count": 12,
   "metadata": {},
   "outputs": [
    {
     "data": {
      "text/plain": [
       "(0.25, 3.75)"
      ]
     },
     "execution_count": 12,
     "metadata": {},
     "output_type": "execute_result"
    },
    {
     "data": {
      "image/png": "[encoded data removed]",
      "text/plain": [
       "<Figure size 432x288 with 1 Axes>"
      ]
     },
     "metadata": {
      "needs_background": "light"
     },
     "output_type": "display_data"
    }
   ],
   "source": [
    "##NBVAL_IGNORE_OUTPUT\n",
    "fig = op.topotools.plot_connections(pn, Ts)\n",
    "fig = op.topotools.plot_coordinates(pn, pn.Ps, c='lightgrey', fig=fig)\n",
    "fig = op.topotools.plot_coordinates(pn, P_left, c='red', marker='*', fig=fig)\n",
    "fig = op.topotools.plot_coordinates(pn, P_bottom, c='blue', marker='.', fig=fig)\n",
    "ax = fig.gca()\n",
    "ax.set_xlim(0.25, 3.75)\n",
    "ax.set_ylim(0.25, 3.75)"
   ]
  },
  {
   "cell_type": "markdown",
   "metadata": {},
   "source": [
    "### Find Common Neighbors: XNOR\n",
    "> *Finds throats shared by input pores only*"
   ]
  },
  {
   "cell_type": "code",
   "execution_count": 13,
   "metadata": {},
   "outputs": [],
   "source": [
    "Ps = pn.pores(['left', 'front'])\n",
    "Ts = pn.find_neighbor_throats(pores=Ps, mode='xnor')"
   ]
  },
  {
   "cell_type": "code",
   "execution_count": 14,
   "metadata": {},
   "outputs": [
    {
     "data": {
      "text/plain": [
       "(0.25, 3.75)"
      ]
     },
     "execution_count": 14,
     "metadata": {},
     "output_type": "execute_result"
    },
    {
     "data": {
      "image/png": "[encoded data removed]",
      "text/plain": [
       "<Figure size 432x288 with 1 Axes>"
      ]
     },
     "metadata": {
      "needs_background": "light"
     },
     "output_type": "display_data"
    }
   ],
   "source": [
    "##NBVAL_IGNORE_OUTPUT\n",
    "fig = op.topotools.plot_connections(pn, Ts)\n",
    "fig = op.topotools.plot_coordinates(pn, pn.Ps, c='lightgrey', fig=fig)\n",
    "fig = op.topotools.plot_coordinates(pn, P_left, c='red', marker='*', fig=fig)\n",
    "fig = op.topotools.plot_coordinates(pn, P_bottom, c='blue', marker='.', fig=fig)\n",
    "ax = fig.gca()\n",
    "ax.set_xlim(0.25, 3.75)\n",
    "ax.set_ylim(0.25, 3.75)"
   ]
  },
  {
   "cell_type": "markdown",
   "metadata": {},
   "source": [
    "### Find Non-Shared Neighbors: XOR\n",
    "> *Finds throats that are only connected to one input pore*"
   ]
  },
  {
   "cell_type": "code",
   "execution_count": 15,
   "metadata": {},
   "outputs": [],
   "source": [
    "Ps = pn.pores(['left', 'front'])\n",
    "Ts = pn.find_neighbor_throats(pores=Ps, mode='xor')"
   ]
  },
  {
   "cell_type": "code",
   "execution_count": 16,
   "metadata": {},
   "outputs": [
    {
     "data": {
      "text/plain": [
       "(0.25, 3.75)"
      ]
     },
     "execution_count": 16,
     "metadata": {},
     "output_type": "execute_result"
    },
    {
     "data": {
      "image/png": "[encoded data removed]",
      "text/plain": [
       "<Figure size 432x288 with 1 Axes>"
      ]
     },
     "metadata": {
      "needs_background": "light"
     },
     "output_type": "display_data"
    }
   ],
   "source": [
    "##NBVAL_IGNORE_OUTPUT\n",
    "fig = op.topotools.plot_connections(pn, Ts)\n",
    "fig = op.topotools.plot_coordinates(pn, pn.Ps, c='lightgrey', fig=fig)\n",
    "fig = op.topotools.plot_coordinates(pn, P_left, c='red', marker='*', fig=fig)\n",
    "fig = op.topotools.plot_coordinates(pn, P_bottom, c='blue', marker='.', fig=fig)\n",
    "ax = fig.gca()\n",
    "ax.set_xlim(0.25, 3.75)\n",
    "ax.set_ylim(0.25, 3.75)"
   ]
  },
  {
   "cell_type": "code",
   "execution_count": null,
   "metadata": {},
   "outputs": [],
   "source": []
  }
 ],
 "metadata": {
  "kernelspec": {
   "display_name": "Python 3",
   "language": "python",
   "name": "python3"
  },
  "language_info": {
   "codemirror_mode": {
    "name": "ipython",
    "version": 3
   },
   "file_extension": ".py",
   "mimetype": "text/x-python",
   "name": "python",
   "nbconvert_exporter": "python",
   "pygments_lexer": "ipython3",
   "version": "3.7.6"
  },
  "toc": {
   "base_numbering": 1,
   "nav_menu": {},
   "number_sections": false,
   "sideBar": true,
   "skip_h1_title": true,
   "title_cell": "",
   "title_sidebar": "Contents",
   "toc_cell": true,
   "toc_position": {},
   "toc_section_display": true,
   "toc_window_display": false
  }
 },
 "nbformat": 4,
 "nbformat_minor": 2
}

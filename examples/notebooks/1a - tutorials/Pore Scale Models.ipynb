{
 "cells": [
  {
   "cell_type": "markdown",
   "metadata": {},
   "source": [
    "# Pore-Scale Models\n",
    "\n",
    "Pore scale models are one of the more important facets of OpenPNM, but they can be a bit confusing at first.  The best way to explain their importance is via illustration.  \n",
    "\n",
    "Consider a diffusion simulation, where the diffusive conductance is defined as:\n",
    "\n",
    "$$ g_D = D_{AB}\\frac{A}{L} $$\n",
    "\n",
    "The diffusion coefficient is typically given by the [Chapman-Enskog equation](https://en.wikipedia.org/wiki/Mass_diffusivity):\n",
    "\n",
    "$$ D_{AB} = \\frac{A ⋅ T^{3/2} \\sqrt{1/M_1 + 1/M_2}}{\\rho \\sigma ^2 _{12} \\Omega} $$\n",
    "\n",
    "Now say you want to re-run the diffusion simulation at different temperature.  This would require recalculating $D_{AB}$, followed by updating the diffusive conductance.\n",
    "\n",
    "Using pore-scale models in OpenPNM allows for simple and reliable updating of these properties, for instance within a for-loop where temperature is being varied.  "
   ]
  },
  {
   "cell_type": "markdown",
   "metadata": {},
   "source": [
    "## Using Existing Pore-Scale Models"
   ]
  },
  {
   "cell_type": "code",
   "execution_count": null,
   "metadata": {},
   "outputs": [],
   "source": []
  },
  {
   "cell_type": "markdown",
   "metadata": {},
   "source": [
    "## Altering Existing Pore-Scale Models"
   ]
  },
  {
   "cell_type": "code",
   "execution_count": null,
   "metadata": {},
   "outputs": [],
   "source": []
  },
  {
   "cell_type": "markdown",
   "metadata": {},
   "source": [
    "## Creating Custom Models"
   ]
  },
  {
   "cell_type": "code",
   "execution_count": null,
   "metadata": {},
   "outputs": [],
   "source": []
  }
 ],
 "metadata": {
  "kernelspec": {
   "display_name": "Python 3",
   "language": "python",
   "name": "python3"
  },
  "language_info": {
   "codemirror_mode": {
    "name": "ipython",
    "version": 3
   },
   "file_extension": ".py",
   "mimetype": "text/x-python",
   "name": "python",
   "nbconvert_exporter": "python",
   "pygments_lexer": "ipython3",
   "version": "3.7.6"
  }
 },
 "nbformat": 4,
 "nbformat_minor": 2
}

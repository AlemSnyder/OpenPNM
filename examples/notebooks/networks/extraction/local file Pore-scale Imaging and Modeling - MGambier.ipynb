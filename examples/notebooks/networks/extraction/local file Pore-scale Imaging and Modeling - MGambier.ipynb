{
 "cells": [
  {
   "cell_type": "markdown",
   "metadata": {},
   "source": [
    "# Pore Scale Imaging and Modeling Section I"
   ]
  },
  {
   "cell_type": "markdown",
   "metadata": {},
   "source": [
    "In this example we calculate the permeability of a Mount Gambier rock sample. A comprehensive related paper to this rock sample is [pore scale imaging and modeling](https://www.sciencedirect.com/science/article/pii/S0309170812000528)."
   ]
  },
  {
   "cell_type": "code",
   "execution_count": null,
   "metadata": {},
   "outputs": [],
   "source": [
    "%%html\n",
    "<style>\n",
    "table {float:left}\n",
    "</style>"
   ]
  },
  {
   "cell_type": "markdown",
   "metadata": {},
   "source": [
    "### Extracted network\n",
    "In this project, we have used [SNOW algorithm](https://journals.aps.org/pre/abstract/10.1103/PhysRevE.96.023307) in [Porespy](http://porespy.org/) which is a network extraction method based on marker-based watershed segmentation.  The following figures illustrate one segment of CT images of the rock sample in binarized version and its recunstructed image:"
   ]
  },
  {
   "cell_type": "markdown",
   "metadata": {},
   "source": [
    "<img src=\"https://i.imgur.com/sZoo5xO.jpg\" style=\"width: 25%\" align=\"left\"/>\n",
    "<img src=\"https://i.imgur.com/ls3ar6c.jpg\" style=\"width: 25%\"align=\"left\"/>"
   ]
  },
  {
   "cell_type": "markdown",
   "metadata": {},
   "source": [
    "| Sample                           | Size           | Resolution | Porosity |\n",
    "| :---                             | :---           |:---        |:---      |\n",
    "| Mount Gambier (our model)        | 512 512 512    | 3.024  μm  | 0.436    |\n",
    "| Mount Gambier (paper)            | 350 350 350    | 9  μm      | 0.556    | "
   ]
  },
  {
   "cell_type": "markdown",
   "metadata": {},
   "source": [
    "Let's import the modules and required models:"
   ]
  },
  {
   "cell_type": "code",
   "execution_count": 1,
   "metadata": {},
   "outputs": [],
   "source": [
    "import porespy as ps\n",
    "import matplotlib.pyplot as plt\n",
    "import openpnm as op\n",
    "import numpy as np\n",
    "import scipy as sp\n",
    "from skimage import io"
   ]
  },
  {
   "cell_type": "code",
   "execution_count": null,
   "metadata": {},
   "outputs": [],
   "source": [
    "We extracted the network using SNOW algorithm. To save the time we load the extracted network model in this example:"
   ]
  },
  {
   "cell_type": "code",
   "execution_count": 8,
   "metadata": {},
   "outputs": [
    {
     "name": "stdout",
     "output_type": "stream",
     "text": [
      "――――――――――――――――――――――――――――――――――――――――――――――――――――――――――――――――――――――――――――――\n",
      "openpnm.network.GenericNetwork : net_01\n",
      "――――――――――――――――――――――――――――――――――――――――――――――――――――――――――――――――――――――――――――――\n",
      "#     Properties                                    Valid Values\n",
      "――――――――――――――――――――――――――――――――――――――――――――――――――――――――――――――――――――――――――――――\n",
      "1     pore.area                                      5780 / 5780 \n",
      "2     pore.centroid                                  5780 / 5780 \n",
      "3     pore.coords                                    5780 / 5780 \n",
      "4     pore.diameter                                  5780 / 5780 \n",
      "5     pore.equivalent_diameter                       5780 / 5780 \n",
      "6     pore.extended_diameter                         5780 / 5780 \n",
      "7     pore.inscribed_diameter                        5780 / 5780 \n",
      "8     pore.label                                     5780 / 5780 \n",
      "9     pore.surface_area                              5780 / 5780 \n",
      "10    pore.volume                                    5780 / 5780 \n",
      "11    throat.area                                   10128 / 10128\n",
      "12    throat.centroid                               10128 / 10128\n",
      "13    throat.conduit_lengths.pore1                  10128 / 10128\n",
      "14    throat.conduit_lengths.pore2                  10128 / 10128\n",
      "15    throat.conduit_lengths.throat                 10128 / 10128\n",
      "16    throat.conns                                  10128 / 10128\n",
      "17    throat.diameter                               10128 / 10128\n",
      "18    throat.direct_length                          10128 / 10128\n",
      "19    throat.endpoints.head                         10128 / 10128\n",
      "20    throat.endpoints.tail                         10128 / 10128\n",
      "21    throat.equivalent_diameter                    10128 / 10128\n",
      "22    throat.inscribed_diameter                     10128 / 10128\n",
      "23    throat.length                                 10128 / 10128\n",
      "24    throat.perimeter                              10128 / 10128\n",
      "25    throat.total_length                           10128 / 10128\n",
      "26    throat.volume                                 10128 / 10128\n",
      "――――――――――――――――――――――――――――――――――――――――――――――――――――――――――――――――――――――――――――――\n",
      "#     Labels                                        Assigned Locations\n",
      "――――――――――――――――――――――――――――――――――――――――――――――――――――――――――――――――――――――――――――――\n",
      "1     pore.all                                      5780      \n",
      "2     pore.back                                     181       \n",
      "3     pore.bottom                                   218       \n",
      "4     pore.boundary                                 1101      \n",
      "5     pore.front                                    167       \n",
      "6     pore.internal                                 4679      \n",
      "7     pore.left                                     188       \n",
      "8     pore.right                                    196       \n",
      "9     pore.top                                      153       \n",
      "10    throat.all                                    10128     \n",
      "11    throat.boundary                               1101      \n",
      "12    throat.internal                               9027      \n",
      "――――――――――――――――――――――――――――――――――――――――――――――――――――――――――――――――――――――――――――――\n"
     ]
    }
   ],
   "source": [
    "mgr = op.Workspace()\n",
    "mgr.clear()\n",
    "mgr.keys()\n",
    "fname = '../../fixtures/Extracted-Networks/MountGampn'\n",
    "mgr.load_workspace(fname)\n",
    "pn=mgr['sim_03']['net_01']\n",
    "print(pn)"
   ]
  },
  {
   "cell_type": "markdown",
   "metadata": {},
   "source": [
    "Add a generic geometry object to the network. The geometry parameters (pore diameter, ..) are already inclded in the extracted network."
   ]
  },
  {
   "cell_type": "code",
   "execution_count": 10,
   "metadata": {},
   "outputs": [],
   "source": [
    "proj = pn.project\n",
    "coord_num_avg=np.mean(pn.num_neighbors(pores=pn.Ps))\n",
    "geom = op.geometry.GenericGeometry(network=pn, pores=pn['pore.all'], throats=pn['throat.all'],project=proj)"
   ]
  },
  {
   "cell_type": "markdown",
   "metadata": {},
   "source": [
    "We then define a generic phase and physics object for oil phase and assign the related physics models that are required in hydraulic flow."
   ]
  },
  {
   "cell_type": "code",
   "execution_count": 11,
   "metadata": {},
   "outputs": [],
   "source": [
    "oil = op.phases.GenericPhase(network=pn,project=proj)\n",
    "oil['pore.viscosity']=0.547e-3\n",
    "phys_oil = op.physics.GenericPhysics(network=pn, phase=oil, geometry=geom,project=proj)\n",
    "mod = op.models.physics.hydraulic_conductance.hagen_poiseuille\n",
    "phys_oil.add_model(propname='throat.hydraulic_conductance',\n",
    "                              model=mod)"
   ]
  },
  {
   "cell_type": "markdown",
   "metadata": {},
   "source": [
    "The network properties of our model and the sample in the paper are given in the following table. Note that the difference are related to the difference in the image samples we used (size, connections,...)"
   ]
  },
  {
   "cell_type": "code",
   "execution_count": 12,
   "metadata": {},
   "outputs": [
    {
     "name": "stdout",
     "output_type": "stream",
     "text": [
      "Number of pores:5780 Number of throats:10128 avg coordination number:3.5044982698961937\n"
     ]
    }
   ],
   "source": [
    "print('Number of pores:'+str(len(pn.Ps))+' Number of throats:'+str(len(pn.Ts))+' avg coordination number:'+str(coord_num_avg))"
   ]
  },
  {
   "cell_type": "markdown",
   "metadata": {},
   "source": [
    "| Model | Number of pores | Number of throats | Volume (mm3) | Coordination number |\n",
    "| --- | --- | --- | --- | --- |\n",
    "| Mount Gambier Carbonate (512) | 5780 (4679 internal) | 10128 (9027 internal) | 27.65 | 3.504 |\n",
    "| MG Paper (350) | 22665 (257 elements isolated) | 84593 | 31.3 | 7.41 |"
   ]
  },
  {
   "cell_type": "markdown",
   "metadata": {},
   "source": [
    "## Permeability Calculation Algorithm"
   ]
  },
  {
   "cell_type": "markdown",
   "metadata": {},
   "source": [
    "The StokesFlow class is for simulation of viscous flow. In this class default property names will be set. The main role of this class would be calculation of the hydraulic permeability. Having its effective permeability calculation method, it can deal with nonuniform medias."
   ]
  },
  {
   "cell_type": "markdown",
   "metadata": {},
   "source": [
    "As we have mentioned the permeability will be a tensor, which represents $K_x,K_y,K_z$. Permeability tensor plays an important role in anisotropic medias charactarization. We calculate permeabilities in three directions.\n",
    "\n",
    "To find the permeability of the medium, \"calc_effective_permeability\" method is used. This method can estimate the length and area of the medium automatically. However,in this example we define methods to find domain length and area. These methods are called within the permeability calculation loop."
   ]
  },
  {
   "cell_type": "code",
   "execution_count": 13,
   "metadata": {},
   "outputs": [],
   "source": [
    "K_oil = [None,None,None]\n",
    "bounds = [ ['top', 'bottom'], ['left', 'right'],['front', 'back']]\n",
    "[amax, bmax, cmax] = np.max(pn['pore.coords'], axis=0)\n",
    "[amin, bmin, cmin] = np.min(pn['pore.coords'], axis=0)\n",
    "lx = amax-amin\n",
    "ly = bmax-bmin\n",
    "lz = cmax-cmin\n",
    "da = lx*ly\n",
    "dl = lz\n",
    "\n",
    "def top_b(lx,ly,lz):\n",
    "    da = lx*ly\n",
    "    dl = lz\n",
    "    res_2=[da,dl]\n",
    "    return res_2\n",
    "\n",
    "def left_r(lx,ly,lz):\n",
    "    \n",
    "    da = lx*lz\n",
    "    dl = ly\n",
    "    res_2=[da,dl]\n",
    "    return res_2\n",
    "\n",
    "def front_b(lx,ly,lz):\n",
    "    da = ly*lz\n",
    "    dl = lx\n",
    "    res_2=[da,dl]\n",
    "    return res_2\n",
    "\n",
    "options = {0 : top_b(lx,ly,lz),1 : left_r(lx,ly,lz),2 : front_b(lx,ly,lz)}\n",
    "\n",
    "for bound_increment in range(len(bounds)):\n",
    "    BC1_pores = pn.pores(labels=bounds[bound_increment][0])\n",
    "    BC2_pores = pn.pores(labels=bounds[bound_increment][1])\n",
    "    [da,dl]=options[bound_increment]\n",
    "    # Permeability - oil\n",
    "    sf_oil = op.algorithms.StokesFlow(network=pn, phase=oil)\n",
    "    sf_oil.setup(conductance='throat.hydraulic_conductance')\n",
    "    sf_oil._set_BC(pores=BC1_pores, bctype='value', bcvalues=1000)\n",
    "    sf_oil._set_BC(pores=BC2_pores, bctype='value', bcvalues=0)\n",
    "    sf_oil.run()\n",
    "    K_oil[bound_increment] = sf_oil.calc_effective_permeability(domain_area=da,\n",
    "                                                                             domain_length=dl,\n",
    "                                                                             inlets=BC1_pores,\n",
    "                                                                             outlets=BC2_pores)\n",
    "    proj.purge_object(obj=sf_oil)"
   ]
  },
  {
   "cell_type": "code",
   "execution_count": 14,
   "metadata": {},
   "outputs": [
    {
     "name": "stdout",
     "output_type": "stream",
     "text": [
      "Permeabilities in x,y,z direction:[1.98721524e-12][2.32942385e-12][1.75726297e-12]m^2/s\n",
      "avg permeability 20.24634018983047 darcy\n"
     ]
    }
   ],
   "source": [
    "print('Permeabilities in x,y,z direction:'+ str(K_oil[0])+str(K_oil[1])+str(K_oil[2])+'m^2/s')\n",
    "print('avg permeability '+str(np.mean(K_oil)/1e-13)+' darcy')"
   ]
  },
  {
   "cell_type": "markdown",
   "metadata": {},
   "source": [
    "Results for permeability calculation of four samples are given in the following. As we see the results for Bentheimer which is a sand stone rock is very close to the value given in the paper."
   ]
  },
  {
   "cell_type": "markdown",
   "metadata": {},
   "source": [
    "|Sample paper | Mount Gambier 350 |  |\n",
    "| --- | --- | --- | \n",
    "|Kavg (from image)| 19.2 |  |"
   ]
  },
  {
   "cell_type": "markdown",
   "metadata": {},
   "source": [
    "#### Notes on network extraction:\n",
    "\n",
    "1) The SNOW algorithm concludes four main steps:\n",
    "- Prefiltering the distance map\n",
    "- Eliminating peaks on saddles and plateaus\n",
    "- Merging peaks that are too near each other\n",
    "- Assigning void voxels to the appropriate pore using a marker-based watershed.\n",
    "\n",
    "In the prefilterin step parameters of the gaussian filter in Porespy can be adjusted to reach even better segmentations. The idea have been shown in Fig.4 of the related [paper](https://journals.aps.org/pre/abstract/10.1103/PhysRevE.96.023307). For this example we kept the parameters as default.\n",
    "\n",
    "2) Based on new porespy package, there is also some changes in SNOW algorithm previous version. In the previous version the area was estimated as the number of voxels on the surface multiplied by the area of\n",
    "one voxel face. Now the user can have the chance to use [Marching Cube](https://en.wikipedia.org/wiki/Marching_cubes) algorithm. Although this option will give better results, we can still turn it off in SNOW algorithm for the sake of time efficiency and still have good results."
   ]
  },
  {
   "cell_type": "markdown",
   "metadata": {},
   "source": [
    "#### Notes on the results:\n",
    "\n",
    "The porosity is being calculated from the voxelated image in a similar manner of the paper.  The permeabilities have been calculated using stokes flow algorithm. The difference might be related to the error which lays behind the parameters in filtering process (sigma, R). We have used default values of sigma=0.4 and R=5 in all samples, which may lead to misrepresentation of the network.\n",
    "\n",
    "The difference in permeability may also be related to the different conduit lengths. In the Blunt's paper they have defined a shape factor to account for the non-cylindrical deviation of the throats. This shape factor is whithin the maximal extraction method. In the SNOW algorithm, using the equivalent diameter rather than inscribed diameter for the hydraulic conductance (assumming no P loss in the pores) will provide better results in the permeability calculation.\n",
    "\n",
    "From the Berea sandstone results in another example, we can also comment on the effect of the structures of the rock sample. For sandstones, the morphology is more ideal than carbonates for network extractions. We also get a good result for Bentheimer Sandstone permeability. But for the carbonate cases, it is different. As we see in their CT images, there are Fossil grains (Pebbles in ketton, other fossil shells in two other sample) which provide different length scales of micro to macro pores. For example it is recommended to use multiscale pore network extraction.\n",
    "\n",
    "As long as our sample is not the same sample in the Blunt's paper (they are from the same rock but different resolution, size, and part of the rock), the slight difference in results is acceptable."
   ]
  }
 ],
 "metadata": {
  "kernelspec": {
   "display_name": "Python 3",
   "language": "python",
   "name": "python3"
  },
  "language_info": {
   "codemirror_mode": {
    "name": "ipython",
    "version": 3
   },
   "file_extension": ".py",
   "mimetype": "text/x-python",
   "name": "python",
   "nbconvert_exporter": "python",
   "pygments_lexer": "ipython3",
   "version": "3.7.6"
  }
 },
 "nbformat": 4,
 "nbformat_minor": 2
}

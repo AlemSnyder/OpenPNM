{
 "cells": [
  {
   "cell_type": "markdown",
   "metadata": {
    "toc": true
   },
   "source": [
    "<h1>Table of Contents<span class=\"tocSkip\"></span></h1>\n",
    "<div class=\"toc\"><ul class=\"toc-item\"><li><span><a href=\"#Generating-the-Network,-adding-Geometry-and-creating-Phases\" data-toc-modified-id=\"Generating-the-Network,-adding-Geometry-and-creating-Phases-1\"><span class=\"toc-item-num\">1&nbsp;&nbsp;</span>Generating the Network, adding Geometry and creating Phases</a></span></li><li><span><a href=\"#Define-the-Pore-Scale-Physics\" data-toc-modified-id=\"Define-the-Pore-Scale-Physics-2\"><span class=\"toc-item-num\">2&nbsp;&nbsp;</span>Define the Pore-Scale Physics</a></span></li><li><span><a href=\"#Set-up-and-run-the-Percolation-Algorithm\" data-toc-modified-id=\"Set-up-and-run-the-Percolation-Algorithm-3\"><span class=\"toc-item-num\">3&nbsp;&nbsp;</span>Set up and run the Percolation Algorithm</a></span></li><li><span><a href=\"#Run-a-Fickian-Diffusion-Algorithm-for-each-step-of-the-invasion-process\" data-toc-modified-id=\"Run-a-Fickian-Diffusion-Algorithm-for-each-step-of-the-invasion-process-4\"><span class=\"toc-item-num\">4&nbsp;&nbsp;</span>Run a Fickian Diffusion Algorithm for each step of the invasion process</a></span></li><li><span><a href=\"#Plot-the-Relative-Diffusivity-Curves-for-each-direction-and-Phase\" data-toc-modified-id=\"Plot-the-Relative-Diffusivity-Curves-for-each-direction-and-Phase-5\"><span class=\"toc-item-num\">5&nbsp;&nbsp;</span>Plot the Relative Diffusivity Curves for each direction and Phase</a></span></li></ul></div>"
   ]
  },
  {
   "cell_type": "markdown",
   "metadata": {},
   "source": [
    "# Relative Diffusivity\n",
    "\n",
    "## Generating the Network, adding Geometry and creating Phases\n",
    "\n",
    "This example is about calculation of relative diffusivity of phases in a multiphase transport. The term **relative** indicates the existence of another phase in the medium. The concept of relative property (permeability) in multiphase transport was applied in __[relative permeability example](https://github.com/PMEAL/OpenPNM/tree/examples_galore/examples/notebooks/algorithms/multiphase)__ for a flow problem. In this example the transport mechanism is defined as diffusion. Start by importing OpenPNM and some other useful packages:"
   ]
  },
  {
   "cell_type": "code",
   "execution_count": 1,
   "metadata": {},
   "outputs": [],
   "source": [
    "import numpy as np\n",
    "import openpnm as op\n",
    "import matplotlib.pyplot as plt\n",
    "%matplotlib inline\n",
    "ws = op.Workspace()\n",
    "np.random.seed(10)\n",
    "ws.settings[\"loglevel\"] = 40\n",
    "np.set_printoptions(precision=5)"
   ]
  },
  {
   "cell_type": "markdown",
   "metadata": {},
   "source": [
    "Next create a **Network** object with a cubic topology and lattice spacing of 25 microns and add boundary pores. A ``StickAndBall`` **Geometry** is then assgined to the network. This class applies randomly distributed pore and throat sizes to the internal pores. Note that based on the specific problem you can assign a separate geometry to boundary pores as well. The ``Boundary`` class is suitable for boundary pores because of its predifined properties for boundaries such as 0 volume and length. Once the geometry is defined, we then create two phases of ``air`` and ``water``."
   ]
  },
  {
   "cell_type": "code",
   "execution_count": 2,
   "metadata": {},
   "outputs": [],
   "source": [
    "pn = op.network.Cubic(shape=[20, 20, 20], spacing=25e-6)\n",
    "geom = op.geometry.StickAndBall(network=pn, pores=pn.Ps, throats=pn.Ts)\n",
    "air = op.phases.Air(network=pn, name='air')\n",
    "water = op.phases.Water(network=pn, name='water')"
   ]
  },
  {
   "cell_type": "markdown",
   "metadata": {},
   "source": [
    "## Define the Pore-Scale Physics\n",
    "\n",
    "For this simulation the **Standard** physics object can be used as it contains capillary pressure for use in the percolation algorithm and diffusive conductance for use in the ``FickianDiffusion`` algorithm."
   ]
  },
  {
   "cell_type": "code",
   "execution_count": 3,
   "metadata": {},
   "outputs": [],
   "source": [
    "phys_air = op.physics.Standard(network=pn, phase=air, geometry=geom)\n",
    "phys_water = op.physics.Standard(network=pn, phase=water, geometry=geom)"
   ]
  },
  {
   "cell_type": "markdown",
   "metadata": {},
   "source": [
    "## Set up and run the Percolation Algorithm\n",
    "In order to simulate a partially saturated material we first invade some non-wetting phase.  This will be accomplished using the ``InvasonPercolation`` or ``OrdinaryPercolation`` **Algorithm**. In both algorithms the invading phase invades the network based on the capillary pressure of the throats in the network. These two algorithms have difference in their percolation algorithm and results. The results that we are going to work with are the pores and throats occupancies and saturation of phases. These can be obtained from both methods. If we choose IP, occupancies can be directly extracted from the results for a saturation point. If we choose OP, occupancies and saturation can be extracted from the results for a capillary pressure point. Here, we choose OP algorithm to provide an example of how to work with OP results and saturation."
   ]
  },
  {
   "cell_type": "code",
   "execution_count": 4,
   "metadata": {},
   "outputs": [],
   "source": [
    "OP_1 = op.algorithms.OrdinaryPercolation(network=pn)\n",
    "OP_1.setup(phase=water, pore_volume='pore.volume', throat_volume='throat.volume')\n",
    "OP_1.set_inlets(pn.pores('left'))\n",
    "OP_1.run()"
   ]
  },
  {
   "cell_type": "markdown",
   "metadata": {},
   "source": [
    "Note that the results of OP provides the array of occupancies (0 and 1) for the invading phase at a given capillary pressure. The air occupancies are then found as following:"
   ]
  },
  {
   "cell_type": "code",
   "execution_count": 5,
   "metadata": {},
   "outputs": [],
   "source": [
    "water.update(OP_1.results(Pc=10000))\n",
    "air['pore.occupancy'] = 1 - water['pore.occupancy']\n",
    "air['throat.occupancy'] = 1 - water['throat.occupancy']"
   ]
  },
  {
   "cell_type": "markdown",
   "metadata": {},
   "source": [
    "## Run a Fickian Diffusion Algorithm for each step of the invasion process\n",
    "\n",
    "We now need to model how the presence of the phases affects the diffusive conductivity of the network. Currently the **Physics** objects have a property called ``throat.diffusive_conductance`` but this model does not account for the occupancy of each phase and assumes that the phase occupies every pore-throat-pore conduit. OpenPNM has a number of multiphase models including a conduit conductance that multiplies the single phase conductance by a factor (default 0.000001) when the phase associated with the physics object is not present. The model has a mode which defaults to 'strict' which applies the conductivity reduction if any one of the connected pores or connecting throat is unoccupied."
   ]
  },
  {
   "cell_type": "code",
   "execution_count": 6,
   "metadata": {},
   "outputs": [],
   "source": [
    "import openpnm.models.physics as pm\n",
    "phys_air.add_model(model=pm.multiphase.conduit_conductance,\n",
    "                   propname='throat.conduit_diffusive_conductance',\n",
    "                   throat_conductance='throat.diffusive_conductance')\n",
    "phys_water.add_model(model=pm.multiphase.conduit_conductance,\n",
    "                     propname='throat.conduit_diffusive_conductance',\n",
    "                     throat_conductance='throat.diffusive_conductance')"
   ]
  },
  {
   "cell_type": "markdown",
   "metadata": {},
   "source": [
    "Now for each invasion step we cycle through the principle directions and create ``FickianDiffusion`` objects for each phase and calculate the effective diffusivity.  First we create some variables to store our data in for each principle direction (x, y, z). The boundary planes at each side of the domain are used as boundary pores for the Diffusion algorithm. The ```results``` method updates the two **Phase** objects with the occupancy at the given capillary pressure (Pc). The **Physics** objects are then regenerated to re-calculate the ```conduit_diffusive_conductance``` property. Note that for each pressure point, the saturation of a phase is found by ratio of the total volume of pores and throats that are occupied by that phase to the bulk volume of the network."
   ]
  },
  {
   "cell_type": "code",
   "execution_count": 7,
   "metadata": {},
   "outputs": [],
   "source": [
    "bounds = [['front', 'back'], ['left', 'right'], ['top', 'bottom']]\n",
    "diff_air = {'0': [], '1': [], '2': []}\n",
    "diff_water = {'0': [], '1': [], '2': []}\n",
    "sat= []\n",
    "tot_vol = np.sum(pn[\"pore.volume\"]) + np.sum(pn[\"throat.volume\"])\n",
    "for Pc in np.unique(OP_1['pore.invasion_pressure']):\n",
    "    water.update(OP_1.results(Pc=Pc))\n",
    "    air['pore.occupancy'] = 1 - water['pore.occupancy']\n",
    "    air['throat.occupancy'] = 1 - water['throat.occupancy']\n",
    "    phys_air.regenerate_models()\n",
    "    phys_water.regenerate_models()\n",
    "    this_sat = 0\n",
    "    this_sat += np.sum(pn[\"pore.volume\"][water[\"pore.occupancy\"] == 1])\n",
    "    this_sat += np.sum(pn[\"throat.volume\"][water[\"throat.occupancy\"] == 1])\n",
    "    sat.append(this_sat)\n",
    "    for bound_increment in range(len(bounds)):\n",
    "        BC1_pores = pn.pores(labels=bounds[bound_increment][0])\n",
    "        BC2_pores = pn.pores(labels=bounds[bound_increment][1])\n",
    "        FD_1 = op.algorithms.FickianDiffusion(network=pn)\n",
    "        FD_1.setup(phase=air, conductance='throat.conduit_diffusive_conductance')\n",
    "        FD_1.set_value_BC(values=0.6, pores=BC1_pores)\n",
    "        FD_1.set_value_BC(values=0.2, pores=BC2_pores)\n",
    "        FD_1.run()\n",
    "        eff_diff = FD_1.calc_effective_diffusivity(domain_area=2.5e-3, domain_length=0.25e-3)\n",
    "        diff_air[str(bound_increment)].append(eff_diff)\n",
    "        FD_2 = op.algorithms.FickianDiffusion(network=pn)\n",
    "        FD_2.setup(phase=water, conductance='throat.conduit_diffusive_conductance')\n",
    "        FD_2.set_value_BC(values=0.6, pores=BC1_pores)\n",
    "        FD_2.set_value_BC(values=0.2, pores=BC2_pores)\n",
    "        FD_2.run()\n",
    "        eff_diff = FD_2.calc_effective_diffusivity(domain_area=2.5e-3, domain_length=0.25e-3)\n",
    "        diff_water[str(bound_increment)].append(eff_diff)\n",
    "        pn.project.purge_object(FD_1)\n",
    "        pn.project.purge_object(FD_2)"
   ]
  },
  {
   "cell_type": "markdown",
   "metadata": {},
   "source": [
    "## Plot the Relative Diffusivity Curves for each direction and Phase\n",
    "\n",
    "Now we convert the data to Numpy arrays for fast and easy plotting. The relative diffusivity values of each phase is the ratio of its effective diffusivity over its effective diffusivity for f"
   ]
  },
  {
   "cell_type": "code",
   "execution_count": 8,
   "metadata": {},
   "outputs": [],
   "source": [
    "sat = np.asarray(sat)\n",
    "sat /= tot_vol\n",
    "rel_diff_air_x    =  np.asarray(diff_air['0'])\n",
    "rel_diff_air_x   /=  rel_diff_air_x[0]\n",
    "rel_diff_air_y    =  np.asarray(diff_air['1'])\n",
    "rel_diff_air_y   /=  rel_diff_air_y[0]\n",
    "rel_diff_air_z    =  np.asarray(diff_air['2'])\n",
    "rel_diff_air_z   /=  rel_diff_air_z[0]\n",
    "rel_diff_water_x  =  np.asarray(diff_water['0'])\n",
    "rel_diff_water_x /=  rel_diff_water_x[-1]\n",
    "rel_diff_water_y  =  np.asarray(diff_water['1'])\n",
    "rel_diff_water_y /=  rel_diff_water_y[-1]\n",
    "rel_diff_water_z  =  np.asarray(diff_water['2'])\n",
    "rel_diff_water_z /=  rel_diff_water_z[-1]"
   ]
  },
  {
   "cell_type": "markdown",
   "metadata": {},
   "source": [
    "Finally plot the relative diffusivity curves for both phases:"
   ]
  },
  {
   "cell_type": "code",
   "execution_count": 13,
   "metadata": {},
   "outputs": [
    {
     "data": {
      "image/png": "[encoded data removed]",
      "text/plain": [
       "<Figure size 432x288 with 1 Axes>"
      ]
     },
     "metadata": {
      "needs_background": "light"
     },
     "output_type": "display_data"
    }
   ],
   "source": [
    "#NBVAL_IGNORE_OUTPUT\n",
    "f = plt.figure()\n",
    "ax = f.add_subplot(111)\n",
    "ax.plot(sat, rel_diff_air_x, '^-r', label='Dr_a_x')\n",
    "ax.plot(sat, rel_diff_air_y, '^-g', label='Dr_a_y')\n",
    "ax.plot(sat, rel_diff_air_z, '^-b', label='Dr_a_z')\n",
    "ax.plot(sat, rel_diff_water_x, '*-r', label='Dr_w_x')\n",
    "ax.plot(sat, rel_diff_water_y, '*-g', label='Dr_w_y')\n",
    "ax.plot(sat, rel_diff_water_z, '*-b', label='Dr_w_z')\n",
    "ax.set_xlabel('Snw')\n",
    "ax.set_ylabel('rel_diff')\n",
    "ax.set_title('Relative Diffusivity Curves')\n",
    "plt.legend();"
   ]
  }
 ],
 "metadata": {
  "@webio": {
   "lastCommId": null,
   "lastKernelId": null
  },
  "kernelspec": {
   "display_name": "Python 3",
   "language": "python",
   "name": "python3"
  },
  "language_info": {
   "codemirror_mode": {
    "name": "ipython",
    "version": 3
   },
   "file_extension": ".py",
   "mimetype": "text/x-python",
   "name": "python",
   "nbconvert_exporter": "python",
   "pygments_lexer": "ipython3",
   "version": "3.7.6"
  },
  "toc": {
   "base_numbering": 1,
   "nav_menu": {},
   "number_sections": true,
   "sideBar": true,
   "skip_h1_title": true,
   "title_cell": "Table of Contents",
   "title_sidebar": "Contents",
   "toc_cell": true,
   "toc_position": {},
   "toc_section_display": true,
   "toc_window_display": false
  }
 },
 "nbformat": 4,
 "nbformat_minor": 2
}

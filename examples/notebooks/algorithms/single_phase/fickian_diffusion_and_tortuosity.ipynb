{
 "cells": [
  {
   "cell_type": "markdown",
   "metadata": {
    "toc": true
   },
   "source": [
    "<h1>Table of Contents<span class=\"tocSkip\"></span></h1>\n",
    "<div class=\"toc\"><ul class=\"toc-item\"><li><span><a href=\"#Generating-network\" data-toc-modified-id=\"Generating-network-1\"><span class=\"toc-item-num\">1&nbsp;&nbsp;</span>Generating network</a></span></li><li><span><a href=\"#Adding-geometry\" data-toc-modified-id=\"Adding-geometry-2\"><span class=\"toc-item-num\">2&nbsp;&nbsp;</span>Adding geometry</a></span></li><li><span><a href=\"#Adding-phase\" data-toc-modified-id=\"Adding-phase-3\"><span class=\"toc-item-num\">3&nbsp;&nbsp;</span>Adding phase</a></span></li><li><span><a href=\"#Adding-physics\" data-toc-modified-id=\"Adding-physics-4\"><span class=\"toc-item-num\">4&nbsp;&nbsp;</span>Adding physics</a></span></li><li><span><a href=\"#Adding-boundary-conditions\" data-toc-modified-id=\"Adding-boundary-conditions-5\"><span class=\"toc-item-num\">5&nbsp;&nbsp;</span>Adding boundary conditions</a></span></li><li><span><a href=\"#Running-the-algorithm\" data-toc-modified-id=\"Running-the-algorithm-6\"><span class=\"toc-item-num\">6&nbsp;&nbsp;</span>Running the algorithm</a></span></li><li><span><a href=\"#Visualizing\" data-toc-modified-id=\"Visualizing-7\"><span class=\"toc-item-num\">7&nbsp;&nbsp;</span>Visualizing</a></span></li><li><span><a href=\"#Calculating-flux\" data-toc-modified-id=\"Calculating-flux-8\"><span class=\"toc-item-num\">8&nbsp;&nbsp;</span>Calculating flux</a></span></li></ul></div>"
   ]
  },
  {
   "cell_type": "markdown",
   "metadata": {},
   "source": [
    "# Fickian Diffusion\n",
    "\n",
    "In this example, we will learn how to perform Fickian diffusion on a `Cubic` network. The algorithm works fine with every other network type, but for now we want to keep it simple.  [See here](/examples/notebooks/networks/generation) for more details on different network types."
   ]
  },
  {
   "cell_type": "code",
   "execution_count": 1,
   "metadata": {},
   "outputs": [],
   "source": [
    "import numpy as np\n",
    "import openpnm as op\n",
    "import matplotlib.pyplot as plt\n",
    "%matplotlib inline\n",
    "np.random.seed(10)\n",
    "ws = op.Workspace()\n",
    "ws.settings[\"loglevel\"] = 40\n",
    "np.set_printoptions(precision=5)"
   ]
  },
  {
   "cell_type": "markdown",
   "metadata": {},
   "source": [
    "## Generating network\n",
    "First, we need to generate a `Cubic` network. For now, we stick to a 2d network, but you might as well try it in 3d!"
   ]
  },
  {
   "cell_type": "code",
   "execution_count": 2,
   "metadata": {},
   "outputs": [],
   "source": [
    "shape = [1, 10, 10]\n",
    "spacing = 1e-5\n",
    "net = op.network.Cubic(shape=shape, spacing=spacing)"
   ]
  },
  {
   "cell_type": "markdown",
   "metadata": {},
   "source": [
    "## Adding geometry\n",
    "Next, we need to add a geometry to the generated network. A geometry contains information about size of the pores/throats in a network. `OpenPNM` has tons of prebuilt geometries that represent the microstructure of different materials such as Toray090 carbon papers, sand stone, electrospun fibers, etc. For now, we'll stick to a simple geometry called `StickAndBall` that assigns random values to pore/throat diameters."
   ]
  },
  {
   "cell_type": "code",
   "execution_count": 3,
   "metadata": {},
   "outputs": [],
   "source": [
    "geom = op.geometry.StickAndBall(network=net, pores=net.Ps, throats=net.Ts)"
   ]
  },
  {
   "cell_type": "markdown",
   "metadata": {},
   "source": [
    "## Adding phase\n",
    "Next, we need to add a phase to our simulation. A phase object(s) contain(s) thermophysical information about the working fluid(s) in the simulation. `OpenPNM` has tons of prebuilt phases as well! For this simulation, we use air as our working fluid."
   ]
  },
  {
   "cell_type": "code",
   "execution_count": 4,
   "metadata": {},
   "outputs": [],
   "source": [
    "air = op.phases.Air(network=net)"
   ]
  },
  {
   "cell_type": "markdown",
   "metadata": {},
   "source": [
    "## Adding physics\n",
    "Finally, we need to add a physics. A physics object contains information about the working fluid in the simulation that depend on the geometry of the network. A good example is diffusive conductance, which not only depends on the thermophysical properties of the working fluid, but also depends on the geometry of pores/throats.  OpenPNM includes a pre-defined physics class called ``Standard`` which as the name suggests contains all the standard pore-scale models to get you going:"
   ]
  },
  {
   "cell_type": "code",
   "execution_count": 5,
   "metadata": {},
   "outputs": [],
   "source": [
    "phys_air = op.physics.Standard(network=net, phase=air, geometry=geom)"
   ]
  },
  {
   "cell_type": "markdown",
   "metadata": {},
   "source": [
    "# Performing Fickian diffusion"
   ]
  },
  {
   "cell_type": "markdown",
   "metadata": {},
   "source": [
    "Now that everything's set up, it's time to perform our Fickian diffusion simulation. For this purpose, we need to add the `FickianDiffusion` algorithm to our simulation. Here's how we do it:"
   ]
  },
  {
   "cell_type": "code",
   "execution_count": 6,
   "metadata": {},
   "outputs": [],
   "source": [
    "fd = op.algorithms.FickianDiffusion(network=net, phase=air)"
   ]
  },
  {
   "cell_type": "markdown",
   "metadata": {},
   "source": [
    "Note that `network` and `phase` are required parameters for pretty much every algorithm we add, since we need to specify on which network and for which phase we want to run the algorithm."
   ]
  },
  {
   "cell_type": "markdown",
   "metadata": {},
   "source": [
    "## Adding boundary conditions\n",
    "Next, we need to add some boundary conditions to the simulation. By default, `OpenPNM` assumes zero flux for the boundary pores."
   ]
  },
  {
   "cell_type": "code",
   "execution_count": 7,
   "metadata": {},
   "outputs": [],
   "source": [
    "inlet  = net.pores('left') \n",
    "outlet = net.pores('right')\n",
    "C_in = 1.0\n",
    "C_out = 0.0\n",
    "fd.set_value_BC(pores=inlet, values=C_in)\n",
    "fd.set_value_BC(pores=outlet, values=C_out)"
   ]
  },
  {
   "cell_type": "markdown",
   "metadata": {},
   "source": [
    "`set_value_BC` applies the so-called \"Dirichlet\" boundary condition to the specified pores. Note that unless you want to apply a single value to all of the specified pores (like we just did), you must pass a list (or `ndarray`) as the `values` parameter."
   ]
  },
  {
   "cell_type": "markdown",
   "metadata": {},
   "source": [
    "## Running the algorithm\n",
    "Now, it's time to run the algorithm. This is done by calling the `run` method attached to the algorithm object."
   ]
  },
  {
   "cell_type": "code",
   "execution_count": 8,
   "metadata": {},
   "outputs": [],
   "source": [
    "fd.run()"
   ]
  },
  {
   "cell_type": "markdown",
   "metadata": {},
   "source": [
    "# Post processing\n",
    "When an algorithm is successfully run, the results are attached to the same object. To access the results, you need to know the quantity for which the algorithm was solving. For instance, `FickianDiffusion` solves for the quantity `pore.concentration`, which is somewhat intuitive. However, if you ever forget it, or wanted to manually check the quantity, you can take a look at the algorithm `settings`:"
   ]
  },
  {
   "cell_type": "code",
   "execution_count": 9,
   "metadata": {},
   "outputs": [
    {
     "name": "stdout",
     "output_type": "stream",
     "text": [
      "――――――――――――――――――――――――――――――――――――――――――――――――――――――――――――――――――――――――――――――\n",
      "key                                 value\n",
      "――――――――――――――――――――――――――――――――――――――――――――――――――――――――――――――――――――――――――――――\n",
      "cache_A                             True\n",
      "cache_b                             True\n",
      "conductance                         throat.diffusive_conductance\n",
      "phase                               phase_01\n",
      "quantity                            pore.concentration\n",
      "solver_atol                         None\n",
      "solver_family                       scipy\n",
      "solver_max_iter                     5000\n",
      "solver_preconditioner               jacobi\n",
      "solver_rtol                         None\n",
      "solver_tol                          1e-08\n",
      "solver_type                         spsolve\n",
      "prefix                              alg\n",
      "nlin_max_iter                       5000\n",
      "relaxation_quantity                 1.0\n",
      "relaxation_source                   1.0\n",
      "sources                             []\n",
      "variable_props                      []\n",
      "――――――――――――――――――――――――――――――――――――――――――――――――――――――――――――――――――――――――――――――\n"
     ]
    }
   ],
   "source": [
    "print(fd.settings)"
   ]
  },
  {
   "cell_type": "markdown",
   "metadata": {},
   "source": [
    "Now that we know the quantity for which `FickianDiffusion` was solved, let's take a look at the results:"
   ]
  },
  {
   "cell_type": "code",
   "execution_count": 10,
   "metadata": {},
   "outputs": [
    {
     "name": "stdout",
     "output_type": "stream",
     "text": [
      "[1.      1.      1.      1.      1.      1.      1.      1.      1.\n",
      " 1.      0.91337 0.9027  0.90122 0.912   0.91149 0.89046 0.87493 0.87743\n",
      " 0.85069 0.84281 0.80997 0.80214 0.77949 0.82358 0.84042 0.82003 0.81628\n",
      " 0.77634 0.80587 0.7963  0.71402 0.69612 0.70543 0.70796 0.70568 0.68883\n",
      " 0.68759 0.66212 0.69278 0.73835 0.63602 0.63711 0.59846 0.6043  0.58074\n",
      " 0.56718 0.57254 0.59279 0.55155 0.57938 0.50945 0.48409 0.44291 0.47565\n",
      " 0.51677 0.51963 0.51152 0.49198 0.45323 0.42504 0.39419 0.35525 0.35866\n",
      " 0.33035 0.37632 0.43706 0.37632 0.34388 0.32492 0.30221 0.24301 0.25058\n",
      " 0.25166 0.25424 0.22324 0.25012 0.21119 0.2167  0.20701 0.20723 0.0852\n",
      " 0.12852 0.1457  0.12419 0.11529 0.11315 0.107   0.11574 0.12471 0.10392\n",
      " 0.      0.      0.      0.      0.      0.      0.      0.      0.\n",
      " 0.     ]\n"
     ]
    }
   ],
   "source": [
    "c = fd['pore.concentration']\n",
    "print(c)"
   ]
  },
  {
   "cell_type": "markdown",
   "metadata": {},
   "source": [
    "## Visualizing\n",
    "Let's quickly visualize the results using the simple plotting tools in OpenPNM.topotools."
   ]
  },
  {
   "cell_type": "code",
   "execution_count": 17,
   "metadata": {},
   "outputs": [
    {
     "ename": "AttributeError",
     "evalue": "'numpy.ndarray' object has no attribute 'startswith'",
     "output_type": "error",
     "traceback": [
      "\u001b[1;31m---------------------------------------------------------------------------\u001b[0m",
      "\u001b[1;31mAttributeError\u001b[0m                            Traceback (most recent call last)",
      "\u001b[1;32m<ipython-input-17-da3dc96f6242>\u001b[0m in \u001b[0;36m<module>\u001b[1;34m\u001b[0m\n\u001b[0;32m      4\u001b[0m \u001b[0mfig\u001b[0m \u001b[1;33m=\u001b[0m \u001b[0mop\u001b[0m\u001b[1;33m.\u001b[0m\u001b[0mtopotools\u001b[0m\u001b[1;33m.\u001b[0m\u001b[0mplot_connections\u001b[0m\u001b[1;33m(\u001b[0m\u001b[0mnetwork\u001b[0m\u001b[1;33m=\u001b[0m\u001b[0mnet\u001b[0m\u001b[1;33m,\u001b[0m \u001b[0mcolor_by\u001b[0m\u001b[1;33m=\u001b[0m\u001b[1;34m'throat.rate'\u001b[0m\u001b[1;33m,\u001b[0m \u001b[0mlinewidth\u001b[0m\u001b[1;33m=\u001b[0m\u001b[1;36m3\u001b[0m\u001b[1;33m,\u001b[0m \u001b[0mfig\u001b[0m\u001b[1;33m=\u001b[0m\u001b[0mfig\u001b[0m\u001b[1;33m)\u001b[0m\u001b[1;33m\u001b[0m\u001b[1;33m\u001b[0m\u001b[0m\n\u001b[0;32m      5\u001b[0m fig = op.topotools.plot_coordinates(network=net, color_by=c, \n\u001b[1;32m----> 6\u001b[1;33m                                     size_by='pore.diameter', markersize=4000, fig=fig)\n\u001b[0m\u001b[0;32m      7\u001b[0m \u001b[0m_\u001b[0m \u001b[1;33m=\u001b[0m \u001b[0mplt\u001b[0m\u001b[1;33m.\u001b[0m\u001b[0maxis\u001b[0m\u001b[1;33m(\u001b[0m\u001b[1;34m'off'\u001b[0m\u001b[1;33m)\u001b[0m\u001b[1;33m\u001b[0m\u001b[1;33m\u001b[0m\u001b[0m\n",
      "\u001b[1;32mc:\\users\\jeff\\dropbox\\flash sync\\code\\git\\openpnm\\openpnm\\topotools\\plottools.py\u001b[0m in \u001b[0;36mplot_coordinates\u001b[1;34m(network, pores, fig, size_by, color_by, cmap, color, alpha, marker, markersize, **kwargs)\u001b[0m\n\u001b[0;32m    222\u001b[0m         \u001b[0mmarkersize\u001b[0m \u001b[1;33m=\u001b[0m \u001b[0mkwargs\u001b[0m\u001b[1;33m.\u001b[0m\u001b[0mpop\u001b[0m\u001b[1;33m(\u001b[0m\u001b[1;34m's'\u001b[0m\u001b[1;33m)\u001b[0m\u001b[1;33m\u001b[0m\u001b[1;33m\u001b[0m\u001b[0m\n\u001b[0;32m    223\u001b[0m     \u001b[1;32mif\u001b[0m \u001b[0mcolor_by\u001b[0m \u001b[1;32mis\u001b[0m \u001b[1;32mnot\u001b[0m \u001b[1;32mNone\u001b[0m\u001b[1;33m:\u001b[0m\u001b[1;33m\u001b[0m\u001b[1;33m\u001b[0m\u001b[0m\n\u001b[1;32m--> 224\u001b[1;33m         \u001b[1;32mif\u001b[0m \u001b[1;32mnot\u001b[0m \u001b[0mcolor_by\u001b[0m\u001b[1;33m.\u001b[0m\u001b[0mstartswith\u001b[0m\u001b[1;33m(\u001b[0m\u001b[1;34m'pore.'\u001b[0m\u001b[1;33m)\u001b[0m\u001b[1;33m:\u001b[0m\u001b[1;33m\u001b[0m\u001b[1;33m\u001b[0m\u001b[0m\n\u001b[0m\u001b[0;32m    225\u001b[0m             \u001b[0mcolor_by\u001b[0m \u001b[1;33m=\u001b[0m \u001b[1;34m'pore.'\u001b[0m \u001b[1;33m+\u001b[0m \u001b[0mcolor_by\u001b[0m\u001b[1;33m\u001b[0m\u001b[1;33m\u001b[0m\u001b[0m\n\u001b[0;32m    226\u001b[0m         \u001b[0mc\u001b[0m \u001b[1;33m=\u001b[0m \u001b[0mnetwork\u001b[0m\u001b[1;33m[\u001b[0m\u001b[0mcolor_by\u001b[0m\u001b[1;33m]\u001b[0m \u001b[1;33m/\u001b[0m \u001b[0mnetwork\u001b[0m\u001b[1;33m[\u001b[0m\u001b[0mcolor_by\u001b[0m\u001b[1;33m]\u001b[0m\u001b[1;33m.\u001b[0m\u001b[0mmax\u001b[0m\u001b[1;33m(\u001b[0m\u001b[1;33m)\u001b[0m\u001b[1;33m\u001b[0m\u001b[1;33m\u001b[0m\u001b[0m\n",
      "\u001b[1;31mAttributeError\u001b[0m: 'numpy.ndarray' object has no attribute 'startswith'"
     ]
    },
    {
     "data": {
      "image/png": "[encoded data removed]",
      "text/plain": [
       "<Figure size 1080x1080 with 1 Axes>"
      ]
     },
     "metadata": {
      "needs_background": "light"
     },
     "output_type": "display_data"
    }
   ],
   "source": [
    "net['pore.concentration'] = c\n",
    "net['throat.rate'] = fd.rate(throats=net.Ts, mode='single')\n",
    "fig = plt.figure(figsize=[15, 15])\n",
    "fig = op.topotools.plot_connections(network=net, color_by='throat.rate', linewidth=3, fig=fig)\n",
    "fig = op.topotools.plot_coordinates(network=net, color_by='pore.concentration', \n",
    "                                    size_by='pore.diameter', markersize=4000, fig=fig)\n",
    "_ = plt.axis('off')"
   ]
  },
  {
   "cell_type": "markdown",
   "metadata": {},
   "source": [
    "## Calculating flux\n",
    "You might as well be interested in calculating the mass flux from a boundary! This is easily done in `OpenPNM` via calling the `rate` method attached to the algorithm. Let's see how it works:"
   ]
  },
  {
   "cell_type": "code",
   "execution_count": 12,
   "metadata": {},
   "outputs": [
    {
     "name": "stdout",
     "output_type": "stream",
     "text": [
      "Mass flow rate from inlet: 7.16784e-12 mol/s\n"
     ]
    }
   ],
   "source": [
    "rate_inlet = fd.rate(pores=inlet)[0]\n",
    "print(f'Mass flow rate from inlet: {rate_inlet:.5e} mol/s')"
   ]
  },
  {
   "cell_type": "markdown",
   "metadata": {},
   "source": [
    "We can determine the effective diffusivity of the network by solving Fick's law:\n",
    "\n",
    "$$ D_{eff} = \\frac{N_A L}{ A \\Delta C} $$"
   ]
  },
  {
   "cell_type": "code",
   "execution_count": 13,
   "metadata": {},
   "outputs": [
    {
     "name": "stdout",
     "output_type": "stream",
     "text": [
      "7.167843454987569e-07\n"
     ]
    }
   ],
   "source": [
    "A = (shape[0] * shape[1])*(spacing**2)\n",
    "L = shape[2]*spacing\n",
    "D_eff = rate_inlet * L / (A * (C_in - C_out))\n",
    "print(D_eff)"
   ]
  },
  {
   "cell_type": "markdown",
   "metadata": {},
   "source": [
    "And the formation factor can be found since the diffusion coefficient of open air is known:\n",
    "\n",
    "$$ F = \\frac{D_{AB}}{D_{eff}} $$"
   ]
  },
  {
   "cell_type": "code",
   "execution_count": 14,
   "metadata": {},
   "outputs": [
    {
     "name": "stdout",
     "output_type": "stream",
     "text": [
      "The formation factor is:  28.844768296271017\n"
     ]
    }
   ],
   "source": [
    "D_AB = air['pore.diffusivity'][0]\n",
    "F = D_AB / D_eff\n",
    "print('The formation factor is: ', F)"
   ]
  },
  {
   "cell_type": "markdown",
   "metadata": {},
   "source": [
    "The tortuosity requires knowing the porosity, which is annoying difficult to calculate accurately, so here we will just gloss over the details:\n",
    "\n",
    "$$ \\tau = \\varepsilon \\frac{ D_{AB}}{D_{eff}} $$"
   ]
  },
  {
   "cell_type": "code",
   "execution_count": 15,
   "metadata": {},
   "outputs": [
    {
     "name": "stdout",
     "output_type": "stream",
     "text": [
      "The porosity is:  0.08546958945615883\n"
     ]
    }
   ],
   "source": [
    "V_p = geom['pore.volume'].sum()\n",
    "V_t = geom['throat.volume'].sum()\n",
    "V_bulk = np.prod(shape)*(spacing**3)\n",
    "e = (V_p + V_t) / V_bulk\n",
    "print('The porosity is: ', e)"
   ]
  },
  {
   "cell_type": "code",
   "execution_count": 16,
   "metadata": {},
   "outputs": [
    {
     "name": "stdout",
     "output_type": "stream",
     "text": [
      "The tortuosity is: 2.46535050424031\n"
     ]
    }
   ],
   "source": [
    "tau = e * D_AB / D_eff\n",
    "print('The tortuosity is:', tau)"
   ]
  }
 ],
 "metadata": {
  "hide_input": false,
  "kernelspec": {
   "display_name": "Python 3",
   "language": "python",
   "name": "python3"
  },
  "language_info": {
   "codemirror_mode": {
    "name": "ipython",
    "version": 3
   },
   "file_extension": ".py",
   "mimetype": "text/x-python",
   "name": "python",
   "nbconvert_exporter": "python",
   "pygments_lexer": "ipython3",
   "version": "3.7.6"
  },
  "toc": {
   "base_numbering": 1,
   "nav_menu": {},
   "number_sections": true,
   "sideBar": true,
   "skip_h1_title": true,
   "title_cell": "Table of Contents",
   "title_sidebar": "Contents",
   "toc_cell": true,
   "toc_position": {},
   "toc_section_display": true,
   "toc_window_display": false
  }
 },
 "nbformat": 4,
 "nbformat_minor": 4
}

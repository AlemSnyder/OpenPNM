{
 "cells": [
  {
   "cell_type": "markdown",
   "metadata": {},
   "source": [
    "# Applying Continuum Properties to Pores\n",
    "\n",
    "When attempting to model materials with pore sizes that span multiple length scales, it can become computationally infeasible to resolve all the pores at all scales.  Often this is not really necessary since the transport on the smaller scales can be effectively treated as occuring in a continua with minimal heterogeneity.  This example will illustrate how to assign continuum properties to some nodes in the network, while retaining the pore-scale resolution elsewhere."
   ]
  },
  {
   "cell_type": "code",
   "execution_count": 1,
   "metadata": {},
   "outputs": [],
   "source": [
    "import openpnm as op\n",
    "import matplotlib.pyplot as plt\n",
    "ws = op.Workspace()\n",
    "ws.settings['log_level'] = 50"
   ]
  },
  {
   "cell_type": "markdown",
   "metadata": {},
   "source": [
    "First we need to create our network:"
   ]
  },
  {
   "cell_type": "code",
   "execution_count": 2,
   "metadata": {},
   "outputs": [],
   "source": [
    "pn = op.network.Cubic(shape=[10, 10, 1], spacing=1)"
   ]
  },
  {
   "cell_type": "markdown",
   "metadata": {},
   "source": [
    "Let's assume that the left half of the network will retain pore network properties, and the right half will be treated as a continua.  For convenience, let's label the pores and throats accordingly.  \n",
    "\n",
    "| Further Reading |\n",
    "|:---|\n",
    "| The use of labels is explained in [this tutorial](../tutorials/using_and_creating_labels.ipynb) |\n"
   ]
  },
  {
   "cell_type": "code",
   "execution_count": 3,
   "metadata": {},
   "outputs": [],
   "source": [
    "Ps = pn['pore.coords'][:, 0] <= 5\n",
    "Ts = pn.find_neighbor_throats(pores=Ps, mode='or')\n",
    "pn.set_label(label='pnm', pores=Ps, throats=Ts)"
   ]
  },
  {
   "cell_type": "markdown",
   "metadata": {},
   "source": [
    "This simulation will require creating two subdomains, one for the PNM pores and another for the continuum pores.  \n",
    "\n",
    "| Further Reading |\n",
    "|:---|\n",
    "| The process of creating and using subdomains is outline in [this tutorial](../tutorials/using_and_creating_labels.ipynb) |\n"
   ]
  },
  {
   "cell_type": "code",
   "execution_count": 5,
   "metadata": {},
   "outputs": [],
   "source": [
    "geo_pnm = op.geometry.StickAndBall(network=pn, pores=pn.pores('pnm'), throats=pn.throats('pnm'))\n",
    "geo_con = op.geometry.GenericGeometry(network=pn, pores=pn.pores('pnm', mode='not'), throats=pn.throats('pnm', mode='not'))"
   ]
  },
  {
   "cell_type": "code",
   "execution_count": null,
   "metadata": {},
   "outputs": [],
   "source": [
    "class Continua(GenericGeometry):\n",
    "    def __init__(self, porosity, **kwargs):\n",
    "        self['pore.porosity'] = porosity\n",
    "        "
   ]
  }
 ],
 "metadata": {
  "kernelspec": {
   "display_name": "Python 3",
   "language": "python",
   "name": "python3"
  },
  "language_info": {
   "codemirror_mode": {
    "name": "ipython",
    "version": 3
   },
   "file_extension": ".py",
   "mimetype": "text/x-python",
   "name": "python",
   "nbconvert_exporter": "python",
   "pygments_lexer": "ipython3",
   "version": "3.7.6"
  }
 },
 "nbformat": 4,
 "nbformat_minor": 4
}

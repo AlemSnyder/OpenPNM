{
 "cells": [
  {
   "cell_type": "markdown",
   "id": "7788ca42",
   "metadata": {},
   "source": [
    "# Overview of the Settings Attribute\n",
    "\n",
    "OpenPNM objects all include a ``settings`` attribute which contains certain information used by OpenPNM. The best example is the ``algorithm`` classes, which often require numerous settings such as number of iterations and tolerance for iterative calculations.  This tutorial will provide an overview of how these settings work."
   ]
  },
  {
   "cell_type": "code",
   "execution_count": 1,
   "id": "935fc26e",
   "metadata": {},
   "outputs": [],
   "source": [
    "import openpnm as op\n",
    "from traits.api import TraitError"
   ]
  },
  {
   "cell_type": "code",
   "execution_count": 2,
   "id": "62603b78",
   "metadata": {},
   "outputs": [],
   "source": [
    "pn = op.network.Cubic([4, 4,])\n",
    "geo = op.geometry.SpheresAndCylinders(network=pn, pores=pn.Ps, throats=pn.Ts)\n",
    "air = op.phases.Air(network=pn)\n",
    "phys = op.physics.Basic(network=pn, phase=air, geometry=geo)"
   ]
  },
  {
   "cell_type": "markdown",
   "id": "fabc4bc9",
   "metadata": {},
   "source": [
    "## Normal Usage\n",
    "\n",
    "> This section is relevant to users of OpenPNM, while the next section is more relevant to developers\n",
    "\n",
    "Let's an algorithm that has numerous settings:"
   ]
  },
  {
   "cell_type": "code",
   "execution_count": 3,
   "id": "169ee3fc",
   "metadata": {},
   "outputs": [],
   "source": [
    "alg = op.algorithms.ReactiveTransport(network=pn, phase=air)"
   ]
  },
  {
   "cell_type": "markdown",
   "id": "f3e33afd",
   "metadata": {},
   "source": [
    "We can see that many default settings are already present by printing the ``settings`` attribute:"
   ]
  },
  {
   "cell_type": "code",
   "execution_count": 4,
   "id": "b1300415",
   "metadata": {},
   "outputs": [
    {
     "name": "stdout",
     "output_type": "stream",
     "text": [
      "――――――――――――――――――――――――――――――――――――――――――――――――――――――――――――――――――――――――――――――\n",
      "Key                                 Value\n",
      "――――――――――――――――――――――――――――――――――――――――――――――――――――――――――――――――――――――――――――――\n",
      "sources                             []\n",
      "test                                3\n",
      "phase                               \n",
      "prefix                              alg\n",
      "――――――――――――――――――――――――――――――――――――――――――――――――――――――――――――――――――――――――――――――\n"
     ]
    }
   ],
   "source": [
    "print(alg.sets)"
   ]
  },
  {
   "cell_type": "markdown",
   "id": "139ca821",
   "metadata": {},
   "source": [
    "We can override these settings manually:"
   ]
  },
  {
   "cell_type": "code",
   "execution_count": 5,
   "id": "2b34f12f",
   "metadata": {},
   "outputs": [
    {
     "name": "stdout",
     "output_type": "stream",
     "text": [
      "――――――――――――――――――――――――――――――――――――――――――――――――――――――――――――――――――――――――――――――\n",
      "Key                                 Value\n",
      "――――――――――――――――――――――――――――――――――――――――――――――――――――――――――――――――――――――――――――――\n",
      "sources                             []\n",
      "test                                3\n",
      "phase                               \n",
      "prefix                              rxn\n",
      "――――――――――――――――――――――――――――――――――――――――――――――――――――――――――――――――――――――――――――――\n"
     ]
    }
   ],
   "source": [
    "alg.sets.prefix = 'rxn'\n",
    "print(alg.sets)"
   ]
  },
  {
   "cell_type": "markdown",
   "id": "f391c36d",
   "metadata": {},
   "source": [
    "We could also have updated these settings when creating the algorithm object by passing in a set of arguments:"
   ]
  },
  {
   "cell_type": "code",
   "execution_count": 6,
   "id": "c875ccf2",
   "metadata": {},
   "outputs": [
    {
     "name": "stdout",
     "output_type": "stream",
     "text": [
      "――――――――――――――――――――――――――――――――――――――――――――――――――――――――――――――――――――――――――――――\n",
      "Key                                 Value\n",
      "――――――――――――――――――――――――――――――――――――――――――――――――――――――――――――――――――――――――――――――\n",
      "sources                             []\n",
      "test                                3\n",
      "phase                               \n",
      "prefix                              rxn\n",
      "――――――――――――――――――――――――――――――――――――――――――――――――――――――――――――――――――――――――――――――\n"
     ]
    }
   ],
   "source": [
    "s = {\"prefix\": \"rxn\"}\n",
    "alg = op.algorithms.ReactiveTransport(network=pn, phase=air, settings=s)\n",
    "print(alg.sets)"
   ]
  },
  {
   "cell_type": "markdown",
   "id": "51550d12",
   "metadata": {},
   "source": [
    "One new feature on OpenPNM V3 is that the datatype of some settings is enforced.  For instance the ``'prefix'`` setting must be a ``str``, otherwise an error is raised:"
   ]
  },
  {
   "cell_type": "code",
   "execution_count": 7,
   "id": "dc8e7e85",
   "metadata": {},
   "outputs": [
    {
     "name": "stdout",
     "output_type": "stream",
     "text": [
      "The 'phase' trait of a SettingsReactiveTransport instance must be a string, but a value of 1 <class 'int'> was specified.\n"
     ]
    }
   ],
   "source": [
    "try:\n",
    "    alg.sets.phase = 1\n",
    "except TraitError as e:\n",
    "    print(e)"
   ]
  },
  {
   "cell_type": "markdown",
   "id": "005777df",
   "metadata": {},
   "source": [
    "Use use the [traits package](https://docs.enthought.com/traits/traits_user_manual/index.html) to control this behavior, which will be xplained in more detail in the next section."
   ]
  },
  {
   "cell_type": "markdown",
   "id": "cee9ec4c",
   "metadata": {},
   "source": [
    "## Advanced Usage\n",
    "\n",
    "> The following sections are probably only relevant if you plan to do some development in OpenPN\n",
    "\n",
    "In the previous section we saw how to define settings, as well as the data-type protections of some settings.  In this section we'll explain how this mechanism works.\n",
    "\n",
    "OpenPNM has two settings related classes:  ``SettingsData`` and ``SettingsAttr``.  The first is a subclass of the ``HasTraits`` class from the ``traits`` package.  It preceeded the [Python dataclass](https://docs.python.org/3/library/dataclasses.html) by many years and offers far more functionality.  For our purposes the main difference is that ``dataclasses`` allow developers to specify the type of attributes (i.e. ``obj.a`` must be an ``int``), but these are only enforced during object creation. Once the object if made, any value can be assigned to ``a``.  The ``traits`` package offers the same functionality but also enforces the type of ``a`` for all assignments.  We saw this in action in the previous section when we tried to assign an integer to ``alg.sets.prefix``.  \n",
    "\n",
    "Let's dissect this process:"
   ]
  },
  {
   "cell_type": "code",
   "execution_count": 8,
   "id": "d9e8cab4",
   "metadata": {},
   "outputs": [],
   "source": [
    "from openpnm.utils import SettingsData, SettingsAttr\n",
    "from traits.api import Int, Str, Float, List, Set"
   ]
  },
  {
   "cell_type": "code",
   "execution_count": 9,
   "id": "aec62abe",
   "metadata": {},
   "outputs": [],
   "source": [
    "class CustomSettings(SettingsData):\n",
    "    a = Int()\n",
    "    b = Float(4.4)\n",
    "    c = Set()\n",
    "    d = List(Str)\n",
    "    \n",
    "s = CustomSettings()"
   ]
  },
  {
   "cell_type": "markdown",
   "id": "9c4ea576",
   "metadata": {},
   "source": [
    "Now we can print ``s`` to inspect the settings.  We'll see some default values for things that were not initialized like ``a``, while ``b`` is the specified value."
   ]
  },
  {
   "cell_type": "code",
   "execution_count": 10,
   "id": "f5b3f018",
   "metadata": {},
   "outputs": [
    {
     "name": "stdout",
     "output_type": "stream",
     "text": [
      "――――――――――――――――――――――――――――――――――――――――――――――――――――――――――――――――――――――――――――――\n",
      "Key                                 Settings\n",
      "――――――――――――――――――――――――――――――――――――――――――――――――――――――――――――――――――――――――――――――\n",
      "a                                   0\n",
      "b                                   4.4\n",
      "c                                   TraitSetObject()\n",
      "d                                   []\n",
      "――――――――――――――――――――――――――――――――――――――――――――――――――――――――――――――――――――――――――――――\n"
     ]
    }
   ],
   "source": [
    "print(s)"
   ]
  },
  {
   "cell_type": "markdown",
   "id": "61c4fe34",
   "metadata": {},
   "source": [
    "The ``traits`` package enforces the datatype of each of these attributes:"
   ]
  },
  {
   "cell_type": "code",
   "execution_count": 11,
   "id": "32135a93",
   "metadata": {},
   "outputs": [
    {
     "name": "stdout",
     "output_type": "stream",
     "text": [
      "――――――――――――――――――――――――――――――――――――――――――――――――――――――――――――――――――――――――――――――\n",
      "Key                                 Settings\n",
      "――――――――――――――――――――――――――――――――――――――――――――――――――――――――――――――――――――――――――――――\n",
      "a                                   2\n",
      "b                                   5.5\n",
      "c                                   TraitSetObject()\n",
      "d                                   []\n",
      "――――――――――――――――――――――――――――――――――――――――――――――――――――――――――――――――――――――――――――――\n"
     ]
    }
   ],
   "source": [
    "s.a = 2\n",
    "s.b = 5.5\n",
    "print(s)"
   ]
  },
  {
   "cell_type": "code",
   "execution_count": 12,
   "id": "d080441f",
   "metadata": {},
   "outputs": [
    {
     "name": "stdout",
     "output_type": "stream",
     "text": [
      "The 'a' trait of a CustomSettings instance must be an integer, but a value of 1.1 <class 'float'> was specified.\n"
     ]
    }
   ],
   "source": [
    "try:\n",
    "    s.a = 1.1\n",
    "except TraitError as e:\n",
    "    print(e)"
   ]
  },
  {
   "cell_type": "markdown",
   "id": "338c080d",
   "metadata": {},
   "source": [
    "The ``traits`` package also enforces the type of values we can put into the list stored in ``d``:"
   ]
  },
  {
   "cell_type": "code",
   "execution_count": 13,
   "id": "eb7bebc1",
   "metadata": {},
   "outputs": [],
   "source": [
    "s.d.append('item')"
   ]
  },
  {
   "cell_type": "code",
   "execution_count": 14,
   "id": "e2748ced",
   "metadata": {},
   "outputs": [
    {
     "name": "stdout",
     "output_type": "stream",
     "text": [
      "Each element of the 'd' trait of a CustomSettings instance must be a string, but a value of 100 <class 'int'> was specified.\n"
     ]
    }
   ],
   "source": [
    "try:\n",
    "    s.d.append(100)\n",
    "except TraitError as e:\n",
    "    print(e)"
   ]
  },
  {
   "cell_type": "markdown",
   "id": "59c3bfa7",
   "metadata": {},
   "source": [
    "Also, we can't accidentally overwrite an attribute that is supposed to be a list with a scalar:"
   ]
  },
  {
   "cell_type": "code",
   "execution_count": 15,
   "id": "5251f0f9",
   "metadata": {},
   "outputs": [
    {
     "name": "stdout",
     "output_type": "stream",
     "text": [
      "The 'd' trait of a CustomSettings instance must be a list of items which are a string, but a value of 5 <class 'int'> was specified.\n"
     ]
    }
   ],
   "source": [
    "try:\n",
    "    s.d = 5\n",
    "except TraitError as e:\n",
    "    print(e)"
   ]
  },
  {
   "cell_type": "markdown",
   "id": "80e983ad",
   "metadata": {},
   "source": [
    "The problem with the ``HasTraits`` class is that there is are lot of helper methods attached to it.  This means that when we use the autocomplete functionality of our favorite IDE, we will have a hard time finding the attributes we set amongst the noise. For this reason we have created a wrapper class called ``SettingsAttr`` which works as follows:"
   ]
  },
  {
   "cell_type": "code",
   "execution_count": 16,
   "id": "060bd3a8",
   "metadata": {},
   "outputs": [
    {
     "name": "stdout",
     "output_type": "stream",
     "text": [
      "――――――――――――――――――――――――――――――――――――――――――――――――――――――――――――――――――――――――――――――\n",
      "Key                                 Value\n",
      "――――――――――――――――――――――――――――――――――――――――――――――――――――――――――――――――――――――――――――――\n",
      "a                                   2\n",
      "b                                   5.5\n",
      "c                                   TraitSetObject()\n",
      "d                                   ['item']\n",
      "――――――――――――――――――――――――――――――――――――――――――――――――――――――――――――――――――――――――――――――\n"
     ]
    }
   ],
   "source": [
    "S = SettingsAttr(s)\n",
    "print(S)"
   ]
  },
  {
   "cell_type": "markdown",
   "id": "5300f8a5",
   "metadata": {},
   "source": [
    "Importantly on the the user-created attributes show up, which can be test using the ``dir()`` command:"
   ]
  },
  {
   "cell_type": "code",
   "execution_count": 17,
   "id": "f7f176d4",
   "metadata": {},
   "outputs": [
    {
     "data": {
      "text/plain": [
       "['a', 'b', 'c', 'd']"
      ]
     },
     "execution_count": 17,
     "metadata": {},
     "output_type": "execute_result"
    }
   ],
   "source": [
    "dir(S)"
   ]
  },
  {
   "cell_type": "markdown",
   "id": "2f3096da",
   "metadata": {},
   "source": [
    "``SettingsAttr`` has as few additional features.  You can add new settings as follows:"
   ]
  },
  {
   "cell_type": "code",
   "execution_count": 18,
   "id": "d6aaa6b3",
   "metadata": {},
   "outputs": [
    {
     "name": "stdout",
     "output_type": "stream",
     "text": [
      "――――――――――――――――――――――――――――――――――――――――――――――――――――――――――――――――――――――――――――――\n",
      "Key                                 Value\n",
      "――――――――――――――――――――――――――――――――――――――――――――――――――――――――――――――――――――――――――――――\n",
      "a                                   2\n",
      "b                                   5.5\n",
      "c                                   TraitSetObject()\n",
      "d                                   ['item']\n",
      "e                                   6\n",
      "――――――――――――――――――――――――――――――――――――――――――――――――――――――――――――――――――――――――――――――\n"
     ]
    }
   ],
   "source": [
    "s_new = {'a': 5, 'e': 6}\n",
    "S._update(s_new)\n",
    "print(S)"
   ]
  },
  {
   "cell_type": "markdown",
   "id": "d46a76fb",
   "metadata": {},
   "source": [
    "We can see the updated value of ``a``, as well as the newly added ``e``.  Because ``e`` contained an integer (6), the datatype of ``e`` will be forced to remain an integer:"
   ]
  },
  {
   "cell_type": "code",
   "execution_count": 19,
   "id": "1f379d38",
   "metadata": {},
   "outputs": [
    {
     "name": "stdout",
     "output_type": "stream",
     "text": [
      "The 'e' trait of a CustomSettings instance must be a value of class 'int', but a value of 5.5 <class 'float'> was specified.\n"
     ]
    }
   ],
   "source": [
    "try:\n",
    "    S.e = 5.5\n",
    "except TraitError as e:\n",
    "    print(e)"
   ]
  },
  {
   "cell_type": "markdown",
   "id": "0a2deaf2",
   "metadata": {},
   "source": [
    "Note that the ``_update`` method begins with an underscore.  This prevents it from appearing in the autocomplete menu to ensure it stays clean."
   ]
  },
  {
   "cell_type": "markdown",
   "id": "4481d552",
   "metadata": {},
   "source": [
    "For the sake of completeness, it should also be mentioned that the ``CustomSettings`` object which was passed to the ``SettingsAttr`` constructor was stored under ``_settings``.  The ``SettingsAttr`` class has overloaded ``__getattr__`` and ``__setattr__`` methods which dispatch the values to the ``_settings`` attribute:"
   ]
  },
  {
   "cell_type": "code",
   "execution_count": 20,
   "id": "76be6af4",
   "metadata": {},
   "outputs": [
    {
     "data": {
      "text/plain": [
       "True"
      ]
     },
     "execution_count": 20,
     "metadata": {},
     "output_type": "execute_result"
    }
   ],
   "source": [
    "S.d is S._settings.d"
   ]
  },
  {
   "cell_type": "markdown",
   "id": "2a4d80db",
   "metadata": {},
   "source": [
    "## Adding Documentation to a SettingsAttr Class\n",
    "\n",
    "One the main reasons for using a ``dataclass`` style object for holding settings is so that docstrings for each attribute can be defined and explained:"
   ]
  },
  {
   "cell_type": "code",
   "execution_count": 21,
   "id": "a97a5664",
   "metadata": {},
   "outputs": [],
   "source": [
    "class DocumentedSettingsData(SettingsData):\n",
    "    r\"\"\"\n",
    "    A class that holds the following settings.\n",
    "    \n",
    "    Parameters\n",
    "    ----------\n",
    "    name : str\n",
    "        The name of the object\n",
    "    id_num : int\n",
    "        The id number of the object\n",
    "    \"\"\"\n",
    "    name = Str('foo')\n",
    "    id_num = Int(0)\n",
    "\n",
    "d = DocumentedSettingsData()"
   ]
  },
  {
   "cell_type": "code",
   "execution_count": 22,
   "id": "c9c9b475",
   "metadata": {},
   "outputs": [
    {
     "name": "stdout",
     "output_type": "stream",
     "text": [
      "\n",
      "    A class that holds the following settings.\n",
      "    \n",
      "    Parameters\n",
      "    ----------\n",
      "    name : str\n",
      "        The name of the object\n",
      "    id_num : int\n",
      "        The id number of the object\n",
      "    \n"
     ]
    }
   ],
   "source": [
    "print(d.__doc__)"
   ]
  },
  {
   "cell_type": "markdown",
   "id": "6dc4ce63",
   "metadata": {},
   "source": [
    "Note that this docstring is attached to the ``SettingsData`` but we'll be interacting with the ``SettingsAttr`` class.  When a ``SettingsAttr`` is created is adopts the docstring of the received ``SettingsData`` class."
   ]
  },
  {
   "cell_type": "code",
   "execution_count": 23,
   "id": "08b18d48",
   "metadata": {},
   "outputs": [
    {
     "name": "stdout",
     "output_type": "stream",
     "text": [
      "\n",
      "    A class that holds the following settings.\n",
      "    \n",
      "    Parameters\n",
      "    ----------\n",
      "    name : str\n",
      "        The name of the object\n",
      "    id_num : int\n",
      "        The id number of the object\n",
      "    \n"
     ]
    }
   ],
   "source": [
    "D = SettingsAttr(d)\n",
    "print(D.__doc__)"
   ]
  },
  {
   "cell_type": "markdown",
   "id": "bceadd14",
   "metadata": {},
   "source": [
    "This machinery was designed with the idea of inheriting docstrings using the ``docrep`` package.  The following illustrates not only how the ``SettingsData`` class can be subclassed to add new settings (e.g. from ``GenericTransport`` to ``ReactiveTransport``), but also how to use the hightly under-rated ``docrep`` package to also inherit the docstrings:"
   ]
  },
  {
   "cell_type": "code",
   "execution_count": 24,
   "id": "8145e373",
   "metadata": {},
   "outputs": [
    {
     "name": "stdout",
     "output_type": "stream",
     "text": [
      "A subclass of DocumentedSettingsData that holds some addtional settings\n",
      "\n",
      "Parameters\n",
      "----------\n",
      "name : str\n",
      "    The name of the object\n",
      "id_num : int\n",
      "    The id number of the object\n",
      "max_iter : int\n",
      "    The maximum number of iterations to do\n"
     ]
    }
   ],
   "source": [
    "import docrep\n",
    "docstr = docrep.DocstringProcessor()\n",
    "\n",
    "\n",
    "# This docorator tells docrep to fetch the docstring from this class and make it available elsewhere:\n",
    "@docstr.get_sections(base='DocumentSettingsData', sections=['Parameters'])\n",
    "class DocumentedSettingsData(SettingsData):\n",
    "    r\"\"\"\n",
    "    A class that holds the following settings.\n",
    "    \n",
    "    Parameters\n",
    "    ----------\n",
    "    name : str\n",
    "        The name of the object\n",
    "    id_num : int\n",
    "        The id number of the object\n",
    "    \"\"\"\n",
    "    name = Str('foo')\n",
    "    id_num = Int(0)\n",
    "\n",
    "\n",
    "# This tells docrep to parse this docstring and insert text at the %\n",
    "@docstr.dedent\n",
    "class ChildSettingsData(DocumentedSettingsData):\n",
    "    r\"\"\"\n",
    "    A subclass of DocumentedSettingsData that holds some addtional settings\n",
    "    \n",
    "    Parameters\n",
    "    ----------\n",
    "    %(DocumentSettingsData.parameters)s\n",
    "    max_iter : int\n",
    "        The maximum number of iterations to do\n",
    "    \"\"\"\n",
    "    max_iter = Int(10)\n",
    "\n",
    "    \n",
    "E = ChildSettingsData()\n",
    "print(E.__doc__)"
   ]
  },
  {
   "cell_type": "markdown",
   "id": "32ed9608",
   "metadata": {},
   "source": [
    "And we can also see that ``max_iter`` was added to the values of ``name`` and ``id_num`` on the parent class:"
   ]
  },
  {
   "cell_type": "code",
   "execution_count": 25,
   "id": "fe6f486e",
   "metadata": {},
   "outputs": [
    {
     "data": {
      "text/plain": [
       "['id_num', 'max_iter', 'name']"
      ]
     },
     "execution_count": 25,
     "metadata": {},
     "output_type": "execute_result"
    }
   ],
   "source": [
    "dir(E)"
   ]
  },
  {
   "cell_type": "markdown",
   "id": "c9f4562e",
   "metadata": {},
   "source": [
    "Again, as mentioned above, this inherited docstring is adopted by the ``SettingsAttr``:"
   ]
  },
  {
   "cell_type": "code",
   "execution_count": 26,
   "id": "61a324d6",
   "metadata": {},
   "outputs": [
    {
     "name": "stdout",
     "output_type": "stream",
     "text": [
      "A subclass of DocumentedSettingsData that holds some addtional settings\n",
      "\n",
      "Parameters\n",
      "----------\n",
      "name : str\n",
      "    The name of the object\n",
      "id_num : int\n",
      "    The id number of the object\n",
      "max_iter : int\n",
      "    The maximum number of iterations to do\n"
     ]
    }
   ],
   "source": [
    "S = SettingsAttr(E)\n",
    "print(S.__doc__)"
   ]
  },
  {
   "cell_type": "markdown",
   "id": "ed235703",
   "metadata": {},
   "source": [
    "\n",
    "## Attaching to an OpenPNM Object\n",
    "\n",
    "The ``SettingsAttr`` wrapper class is so named because it is meant to be an attribute (i.e. attr) on OpenPNM objects.  These attached to the ``settings`` attribute:"
   ]
  },
  {
   "cell_type": "code",
   "execution_count": 27,
   "id": "0c0c8881",
   "metadata": {},
   "outputs": [
    {
     "data": {
      "text/plain": [
       "True"
      ]
     },
     "execution_count": 27,
     "metadata": {},
     "output_type": "execute_result"
    }
   ],
   "source": [
    "isinstance(alg.sets, SettingsAttr)"
   ]
  },
  {
   "cell_type": "markdown",
   "id": "c6cfbb21",
   "metadata": {},
   "source": [
    "OpenPNM declares ``SettingsData`` classes with each file where class is defined, then this is attached upon initialization.  This is illustrated below:"
   ]
  },
  {
   "cell_type": "code",
   "execution_count": 28,
   "id": "69787f81",
   "metadata": {},
   "outputs": [
    {
     "name": "stdout",
     "output_type": "stream",
     "text": [
      "――――――――――――――――――――――――――――――――――――――――――――――――――――――――――――――――――――――――――――――\n",
      "Key                                 Value\n",
      "――――――――――――――――――――――――――――――――――――――――――――――――――――――――――――――――――――――――――――――\n",
      "a                                   4\n",
      "――――――――――――――――――――――――――――――――――――――――――――――――――――――――――――――――――――――――――――――\n"
     ]
    }
   ],
   "source": [
    "class SpecificSettings(SettingsData):\n",
    "    a = Int(4)\n",
    "    \n",
    "\n",
    "class SomeAlg:\n",
    "    def __init__(self, settings={}, **kwargs):\n",
    "        self.settings = SettingsAttr(SpecificSettings())\n",
    "        self.settings._update(settings)\n",
    "        \n",
    "\n",
    "alg = SomeAlg()\n",
    "print(alg.settings)"
   ]
  },
  {
   "cell_type": "markdown",
   "id": "13ee3435",
   "metadata": {},
   "source": [
    "Or with some user-defined settings:"
   ]
  },
  {
   "cell_type": "code",
   "execution_count": 30,
   "id": "be62b71f",
   "metadata": {},
   "outputs": [
    {
     "name": "stdout",
     "output_type": "stream",
     "text": [
      "――――――――――――――――――――――――――――――――――――――――――――――――――――――――――――――――――――――――――――――\n",
      "Key                                 Value\n",
      "――――――――――――――――――――――――――――――――――――――――――――――――――――――――――――――――――――――――――――――\n",
      "a                                   3\n",
      "name                                bob\n",
      "――――――――――――――――――――――――――――――――――――――――――――――――――――――――――――――――――――――――――――――\n"
     ]
    }
   ],
   "source": [
    "s = {'name': 'bob', 'a': 3}\n",
    "alg2 = SomeAlg(settings=s)\n",
    "print(alg2.settings)"
   ]
  }
 ],
 "metadata": {
  "kernelspec": {
   "display_name": "Python 3 (ipykernel)",
   "language": "python",
   "name": "python3"
  },
  "language_info": {
   "codemirror_mode": {
    "name": "ipython",
    "version": 3
   },
   "file_extension": ".py",
   "mimetype": "text/x-python",
   "name": "python",
   "nbconvert_exporter": "python",
   "pygments_lexer": "ipython3",
   "version": "3.9.7"
  }
 },
 "nbformat": 4,
 "nbformat_minor": 5
}

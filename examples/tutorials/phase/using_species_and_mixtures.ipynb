{
 "cells": [
  {
   "cell_type": "markdown",
   "id": "83fb1ab5",
   "metadata": {},
   "source": [
    "# Using Species and Mixtures\n",
    "\n",
    "OpenPNM provides a small set of default function for computing the physical properties of pure fluids as well as mixtures.  This notebook will cover their use"
   ]
  },
  {
   "cell_type": "code",
   "execution_count": 1,
   "id": "f6387a06",
   "metadata": {},
   "outputs": [],
   "source": [
    "import openpnm as op\n",
    "import numpy as np"
   ]
  },
  {
   "cell_type": "code",
   "execution_count": 2,
   "id": "2523d79d",
   "metadata": {},
   "outputs": [],
   "source": [
    "pn = op.network.Demo()"
   ]
  },
  {
   "cell_type": "markdown",
   "id": "b36eba00",
   "metadata": {},
   "source": [
    "## Pure Species"
   ]
  },
  {
   "cell_type": "code",
   "execution_count": 3,
   "id": "65d58e25",
   "metadata": {},
   "outputs": [
    {
     "name": "stdout",
     "output_type": "stream",
     "text": [
      "\n",
      "══════════════════════════════════════════════════════════════════════════════\n",
      "phase_01 : <openpnm.phase.Species at 0x21ccdde7540>\n",
      "――――――――――――――――――――――――――――――――――――――――――――――――――――――――――――――――――――――――――――――\n",
      "  #  Properties                                                   Valid Values\n",
      "――――――――――――――――――――――――――――――――――――――――――――――――――――――――――――――――――――――――――――――\n",
      "  1  pore.pressure                                                       9 / 9\n",
      "  2  pore.temperature                                                    9 / 9\n",
      "――――――――――――――――――――――――――――――――――――――――――――――――――――――――――――――――――――――――――――――\n",
      "  #  Labels                                                 Assigned Locations\n",
      "――――――――――――――――――――――――――――――――――――――――――――――――――――――――――――――――――――――――――――――\n",
      "  1  pore.all                                                                9\n",
      "  2  throat.all                                                             12\n",
      "――――――――――――――――――――――――――――――――――――――――――――――――――――――――――――――――――――――――――――――\n"
     ]
    }
   ],
   "source": [
    "A = op.phase.Species(network=pn, species='ethanol')\n",
    "print(A)"
   ]
  },
  {
   "cell_type": "markdown",
   "id": "9e3c95bb",
   "metadata": {},
   "source": [
    "As can be seen above the ``Species`` class does not compute any properties of the given species, *BUT* it does contain a host of thermodynamic properties in the ``params`` attribute:"
   ]
  },
  {
   "cell_type": "code",
   "execution_count": 4,
   "id": "3371aa9b",
   "metadata": {},
   "outputs": [
    {
     "name": "stdout",
     "output_type": "stream",
     "text": [
      "――――――――――――――――――――――――――――――――――――――――――――――――――――――――――――――――――――――――――――――\n",
      "Parameters                          Value\n",
      "――――――――――――――――――――――――――――――――――――――――――――――――――――――――――――――――――――――――――――――\n",
      "CAS                                 64-17-5\n",
      "common_name                         ethanol\n",
      "charge                              0\n",
      "formula                             C2H6O\n",
      "boiling_temperature                 351.39\n",
      "melting_temperature                 159.05\n",
      "triple_point_temperature            150.0\n",
      "triple_point_pressure               0.0003029719071725671\n",
      "dipole_moment                       1.44\n",
      "LJ_diameter                         4.23738\n",
      "LJ_energy                           1.7829839250900002e-20\n",
      "surface_tension_Tb                  0.016709805941752066\n",
      "molar_volume_Tb                     6.269082962629869e-05\n",
      "molecular_weight                    46.06844\n",
      "critical_temperature                514.0\n",
      "critical_pressure                   6137000.0\n",
      "critical_volume                     0.000168\n",
      "critical_compressibilty_factor      0.24125043269792065\n",
      "acentric_factor                     0.635\n",
      "――――――――――――――――――――――――――――――――――――――――――――――――――――――――――――――――――――――――――――――\n"
     ]
    }
   ],
   "source": [
    "print(A.params)"
   ]
  },
  {
   "cell_type": "markdown",
   "id": "573ee809",
   "metadata": {},
   "source": [
    "*Pro Tip*: You can read and write values to this ``params`` attribute directly or by using ``A['params.<item>']``.  This latter option allows pore scale models to accept both ``acentric_factor='pore.acentric_factor'`` or ``acentric_factor='param.acentric_factor'``.  In both cases the function will call ``target[acentric_factor]``, but in the former case it will look in the ``target`` dictionary as normal, while in the latter case it will be redirected to the ``target.params`` dictionary. This functionality was implmented in V3 to avoid the need to store values that are truly constant in every every pore."
   ]
  },
  {
   "cell_type": "markdown",
   "id": "1d140c95",
   "metadata": {},
   "source": [
    "These parameters are all used in the various property estimation methods.  For instance, to compute the viscosity of ethanol, OpenPNM provides a function that implements the model of Steil and Thodos (``openpnm.models.phase.viscosity.liquid_pure_ls``):"
   ]
  },
  {
   "cell_type": "code",
   "execution_count": 5,
   "id": "37e579e7",
   "metadata": {},
   "outputs": [
    {
     "name": "stdout",
     "output_type": "stream",
     "text": [
      "[0.00041951 0.00041951 0.00041951 0.00041951 0.00041951 0.00041951\n",
      " 0.00041951 0.00041951 0.00041951]\n"
     ]
    }
   ],
   "source": [
    "f = op.models.phase.viscosity.liquid_pure_ls\n",
    "A.add_model(propname='pore.viscosity',\n",
    "            model=f)\n",
    "print(A['pore.viscosity'])"
   ]
  },
  {
   "cell_type": "markdown",
   "id": "a1029a40",
   "metadata": {},
   "source": [
    "This function requires several pieces of thermodynamics information, such as the critical temperature and pressure. You can see all the arguments below:"
   ]
  },
  {
   "cell_type": "code",
   "execution_count": 6,
   "id": "ca912b99",
   "metadata": {},
   "outputs": [
    {
     "name": "stdout",
     "output_type": "stream",
     "text": [
      "―――――――――――――――――――――――――――――――――――――――――――――――――――――――――――――――――――――――――――――――――――――\n",
      "#   Property Name                       Parameter                 Value\n",
      "―――――――――――――――――――――――――――――――――――――――――――――――――――――――――――――――――――――――――――――――――――――\n",
      "1   pore.viscosity@all                  model:                    liquid_pure_ls\n",
      "                                        T:                        pore.temperature\n",
      "                                        MW:                       param.molecular_weight\n",
      "                                        Tc:                       param.critical_temperature\n",
      "                                        Pc:                       param.critical_pressure\n",
      "                                        omega:                    param.acentric_factor\n",
      "                                        regeneration mode:        normal\n",
      "―――――――――――――――――――――――――――――――――――――――――――――――――――――――――――――――――――――――――――――――――――――\n"
     ]
    }
   ],
   "source": [
    "print(A.models)"
   ]
  },
  {
   "cell_type": "markdown",
   "id": "34a7b72d",
   "metadata": {},
   "source": [
    "The above shows that the temperature of the phase is fetched as ``'pore.temperature'``, while all the rest are retrieved from the ``params`` attribute.  To further illustrate this behavior, we could write the critical temperature ``A['pore.critical_temperature']`` and also overwrite the default argument:"
   ]
  },
  {
   "cell_type": "code",
   "execution_count": 7,
   "id": "6bcf36b3",
   "metadata": {},
   "outputs": [],
   "source": [
    "A.models['pore.viscosity@all']['Tc'] = 'pore.critical_temperature'\n",
    "A['pore.critical_temperature'] = A['param.critical_temperature']"
   ]
  },
  {
   "cell_type": "code",
   "execution_count": 8,
   "id": "811626ab",
   "metadata": {},
   "outputs": [
    {
     "name": "stdout",
     "output_type": "stream",
     "text": [
      "―――――――――――――――――――――――――――――――――――――――――――――――――――――――――――――――――――――――――――――――――――――\n",
      "#   Property Name                       Parameter                 Value\n",
      "―――――――――――――――――――――――――――――――――――――――――――――――――――――――――――――――――――――――――――――――――――――\n",
      "1   pore.viscosity@all                  model:                    liquid_pure_ls\n",
      "                                        T:                        pore.temperature\n",
      "                                        MW:                       param.molecular_weight\n",
      "                                        Tc:                       pore.critical_temperature\n",
      "                                        Pc:                       param.critical_pressure\n",
      "                                        omega:                    param.acentric_factor\n",
      "                                        regeneration mode:        normal\n",
      "―――――――――――――――――――――――――――――――――――――――――――――――――――――――――――――――――――――――――――――――――――――\n"
     ]
    }
   ],
   "source": [
    "print(A.models)"
   ]
  },
  {
   "cell_type": "markdown",
   "id": "fd806b08",
   "metadata": {},
   "source": [
    "Now when we regenerate the model it will fetch the critical temperature values for each pore but will work as expected:"
   ]
  },
  {
   "cell_type": "code",
   "execution_count": 9,
   "id": "1ab22b64",
   "metadata": {},
   "outputs": [
    {
     "name": "stdout",
     "output_type": "stream",
     "text": [
      "[0.00041951 0.00041951 0.00041951 0.00041951 0.00041951 0.00041951\n",
      " 0.00041951 0.00041951 0.00041951]\n"
     ]
    }
   ],
   "source": [
    "A.regenerate_models()\n",
    "print(A['pore.viscosity'])"
   ]
  },
  {
   "cell_type": "markdown",
   "id": "9196a282",
   "metadata": {},
   "source": [
    "### Gas and Liquid Species\n",
    "\n",
    "OpenPNM has a suite of functions for computing the properties of pure phases, but these functions differ for gases and liquids.  For this reason we offer two classes for gas and liquid with the appropriate models already defined.  These are referred to as ``StandardLiquid`` and ``StandardGas`` to indicate that the models being used are the standard selection which provide a first-approximatation:"
   ]
  },
  {
   "cell_type": "code",
   "execution_count": 10,
   "id": "bbf84846",
   "metadata": {},
   "outputs": [],
   "source": [
    "A = op.phase.StandardGas(network=pn, species='o2')\n",
    "B = op.phase.StandardLiquid(network=pn, species='h2o')"
   ]
  },
  {
   "cell_type": "markdown",
   "id": "e8c5a237",
   "metadata": {},
   "source": [
    "These objects are populated with their respective thermodynamic properties:"
   ]
  },
  {
   "cell_type": "code",
   "execution_count": 11,
   "id": "dd35e029",
   "metadata": {},
   "outputs": [
    {
     "name": "stdout",
     "output_type": "stream",
     "text": [
      "――――――――――――――――――――――――――――――――――――――――――――――――――――――――――――――――――――――――――――――\n",
      "Parameters                          Value\n",
      "――――――――――――――――――――――――――――――――――――――――――――――――――――――――――――――――――――――――――――――\n",
      "CAS                                 7782-44-7\n",
      "common_name                         oxygen\n",
      "charge                              0\n",
      "formula                             O2\n",
      "boiling_temperature                 90.188\n",
      "melting_temperature                 54.36\n",
      "triple_point_temperature            54.33\n",
      "triple_point_pressure               148.9796864589355\n",
      "dipole_moment                       0.0\n",
      "LJ_diameter                         3.29728\n",
      "LJ_energy                           1.6520845934e-21\n",
      "surface_tension_Tb                  0.013145633010272155\n",
      "molar_volume_Tb                     2.802254619756072e-05\n",
      "molecular_weight                    31.9988\n",
      "critical_temperature                154.58\n",
      "critical_pressure                   5042945.25\n",
      "critical_volume                     7.34e-05\n",
      "critical_compressibilty_factor      0.2880002236716698\n",
      "acentric_factor                     0.021\n",
      "――――――――――――――――――――――――――――――――――――――――――――――――――――――――――――――――――――――――――――――\n"
     ]
    }
   ],
   "source": [
    "print(A.params)"
   ]
  },
  {
   "cell_type": "markdown",
   "id": "7ef48c42",
   "metadata": {},
   "source": [
    "The models used on each can be seen by printing the models attribute:"
   ]
  },
  {
   "cell_type": "code",
   "execution_count": 12,
   "id": "1a773a67",
   "metadata": {},
   "outputs": [
    {
     "name": "stdout",
     "output_type": "stream",
     "text": [
      "\n",
      "══════════════════════════════════════════════════════════════════════════════\n",
      "phase_02 : <openpnm.phase.StandardGas at 0x21cd8fca270>\n",
      "――――――――――――――――――――――――――――――――――――――――――――――――――――――――――――――――――――――――――――――\n",
      "  #  Properties                                                   Valid Values\n",
      "――――――――――――――――――――――――――――――――――――――――――――――――――――――――――――――――――――――――――――――\n",
      "  1  pore.density                                                        9 / 9\n",
      "  2  pore.heat_capacity                                                  9 / 9\n",
      "  3  pore.heat_capacity_gas                                              9 / 9\n",
      "  4  pore.pressure                                                       9 / 9\n",
      "  5  pore.temperature                                                    9 / 9\n",
      "  6  pore.thermal_conductivity                                           9 / 9\n",
      "  7  pore.viscosity                                                      9 / 9\n",
      "――――――――――――――――――――――――――――――――――――――――――――――――――――――――――――――――――――――――――――――\n",
      "  #  Labels                                                 Assigned Locations\n",
      "――――――――――――――――――――――――――――――――――――――――――――――――――――――――――――――――――――――――――――――\n",
      "  1  pore.all                                                                9\n",
      "  2  throat.all                                                             12\n",
      "――――――――――――――――――――――――――――――――――――――――――――――――――――――――――――――――――――――――――――――\n"
     ]
    }
   ],
   "source": [
    "print(A)"
   ]
  },
  {
   "cell_type": "code",
   "execution_count": 13,
   "id": "1d063eb2",
   "metadata": {},
   "outputs": [
    {
     "name": "stdout",
     "output_type": "stream",
     "text": [
      "\n",
      "══════════════════════════════════════════════════════════════════════════════\n",
      "phase_03 : <openpnm.phase.StandardLiquid at 0x21cd8fcaf40>\n",
      "――――――――――――――――――――――――――――――――――――――――――――――――――――――――――――――――――――――――――――――\n",
      "  #  Properties                                                   Valid Values\n",
      "――――――――――――――――――――――――――――――――――――――――――――――――――――――――――――――――――――――――――――――\n",
      "  1  pore.density                                                        9 / 9\n",
      "  2  pore.heat_capacity                                                  9 / 9\n",
      "  3  pore.heat_capacity_gas                                              9 / 9\n",
      "  4  pore.pressure                                                       9 / 9\n",
      "  5  pore.temperature                                                    9 / 9\n",
      "  6  pore.thermal_conductivity                                           9 / 9\n",
      "  7  pore.vapor_pressure                                                 9 / 9\n",
      "  8  pore.viscosity                                                      9 / 9\n",
      "――――――――――――――――――――――――――――――――――――――――――――――――――――――――――――――――――――――――――――――\n",
      "  #  Labels                                                 Assigned Locations\n",
      "――――――――――――――――――――――――――――――――――――――――――――――――――――――――――――――――――――――――――――――\n",
      "  1  pore.all                                                                9\n",
      "  2  throat.all                                                             12\n",
      "――――――――――――――――――――――――――――――――――――――――――――――――――――――――――――――――――――――――――――――\n"
     ]
    }
   ],
   "source": [
    "print(B)"
   ]
  },
  {
   "cell_type": "markdown",
   "id": "7ae54894",
   "metadata": {},
   "source": [
    "## Gas and Liquid Mixtures\n",
    "\n",
    "The framework for defining mixtures was officially added in V3, and it allows for the calculation of mixture properties based on the properties of the individual phases and their relative concentrations. There are a number of pore-scale models added to the ``openpnm.models.phase`` library for making these estimations, either using mixing rules or other correlations."
   ]
  },
  {
   "cell_type": "markdown",
   "id": "50a5617e",
   "metadata": {},
   "source": [
    "Creating a mixture first requires defining each of the pure components.  In this case, let's create vodka:"
   ]
  },
  {
   "cell_type": "code",
   "execution_count": 14,
   "id": "bffa0538",
   "metadata": {},
   "outputs": [],
   "source": [
    "water = op.phase.StandardLiquid(network=pn, species='h2o')\n",
    "etoh = op.phase.StandardLiquid(network=pn, species='ethanol')"
   ]
  },
  {
   "cell_type": "markdown",
   "id": "0c45a22a",
   "metadata": {},
   "source": [
    "Next let's create the mixture:"
   ]
  },
  {
   "cell_type": "code",
   "execution_count": 15,
   "id": "aef234c0",
   "metadata": {},
   "outputs": [],
   "source": [
    "vodka = op.phase.StandardLiquidMixture(network=pn, components=[water, etoh])"
   ]
  },
  {
   "cell_type": "markdown",
   "id": "62025cbe",
   "metadata": {},
   "source": [
    "Before using this we must first specify the compositions:"
   ]
  },
  {
   "cell_type": "code",
   "execution_count": 16,
   "id": "27b5ef20",
   "metadata": {},
   "outputs": [],
   "source": [
    "vodka.x(water, 0.6)\n",
    "vodka.x(etoh, 0.4)"
   ]
  },
  {
   "cell_type": "markdown",
   "id": "ca460ac4",
   "metadata": {},
   "source": [
    "Now we can run the models, which all require knowing the composition:"
   ]
  },
  {
   "cell_type": "code",
   "execution_count": 17,
   "id": "6d220667",
   "metadata": {},
   "outputs": [],
   "source": [
    "vodka.regenerate_models()"
   ]
  },
  {
   "cell_type": "markdown",
   "id": "5d708a21",
   "metadata": {},
   "source": [
    "The main class is the ``Mixture`` class, and there are several subclasses which each add some specific functionality"
   ]
  },
  {
   "cell_type": "markdown",
   "id": "b114ed19",
   "metadata": {},
   "source": [
    "The printout of a mixture includes not only the mixture properties, but also shows the individual components as well:"
   ]
  },
  {
   "cell_type": "code",
   "execution_count": 18,
   "id": "83d679c6",
   "metadata": {},
   "outputs": [],
   "source": [
    "f = vodka.models['pore.heat_capacity@all']['model']"
   ]
  },
  {
   "cell_type": "markdown",
   "id": "b3c56558",
   "metadata": {},
   "source": [
    "We can see that several properties for the mixture have been computed:"
   ]
  },
  {
   "cell_type": "code",
   "execution_count": 20,
   "id": "f0c36188",
   "metadata": {},
   "outputs": [
    {
     "name": "stdout",
     "output_type": "stream",
     "text": [
      "\n",
      "══════════════════════════════════════════════════════════════════════════════\n",
      "mixture_01 : <openpnm.phase.StandardLiquidMixture at 0x21cd8fa35e0>\n",
      "――――――――――――――――――――――――――――――――――――――――――――――――――――――――――――――――――――――――――――――\n",
      "  #  Properties                                                   Valid Values\n",
      "――――――――――――――――――――――――――――――――――――――――――――――――――――――――――――――――――――――――――――――\n",
      "  1  pore.density                                                        9 / 9\n",
      "  2  pore.heat_capacity                                                  9 / 9\n",
      "  3  pore.mole_fraction.phase_04                                         9 / 9\n",
      "  4  pore.mole_fraction.phase_05                                         9 / 9\n",
      "  5  pore.pressure                                                       9 / 9\n",
      "  6  pore.temperature                                                    9 / 9\n",
      "  7  pore.thermal_conductivity                                           9 / 9\n",
      "  8  pore.viscosity                                                      9 / 9\n",
      "――――――――――――――――――――――――――――――――――――――――――――――――――――――――――――――――――――――――――――――\n",
      "  #  Labels                                                 Assigned Locations\n",
      "――――――――――――――――――――――――――――――――――――――――――――――――――――――――――――――――――――――――――――――\n",
      "  1  pore.all                                                                9\n",
      "  2  throat.all                                                             12\n",
      "――――――――――――――――――――――――――――――――――――――――――――――――――――――――――――――――――――――――――――――\n"
     ]
    }
   ],
   "source": [
    "print(vodka)"
   ]
  },
  {
   "cell_type": "markdown",
   "id": "74a52c07",
   "metadata": {},
   "source": [
    "If we change the composition of the components, and rerun the models, the mixture properties will change:"
   ]
  },
  {
   "cell_type": "code",
   "execution_count": 24,
   "id": "58c18ad1",
   "metadata": {},
   "outputs": [
    {
     "name": "stdout",
     "output_type": "stream",
     "text": [
      "[0.00053084 0.00053084 0.00053084 0.00053084 0.00053084 0.00053084\n",
      " 0.00053084 0.00053084 0.00053084]\n",
      "[0.00057417 0.00057417 0.00057417 0.00057417 0.00057417 0.00057417\n",
      " 0.00057417 0.00057417 0.00057417]\n"
     ]
    }
   ],
   "source": [
    "print(vodka['pore.viscosity'])\n",
    "vodka.x(water, 0.8)\n",
    "vodka.x(etoh, 0.2)\n",
    "vodka.regenerate_models()\n",
    "print(vodka['pore.viscosity'])"
   ]
  },
  {
   "cell_type": "markdown",
   "id": "a62c06ed",
   "metadata": {},
   "source": [
    "## Exploring the Features of the Mixture Objects"
   ]
  },
  {
   "cell_type": "markdown",
   "id": "340d8a1f",
   "metadata": {},
   "source": [
    "### ``info``\n",
    "The info attribute reports all the existing properties on the mixture (similar to ``print``) but also of each of the components:"
   ]
  },
  {
   "cell_type": "code",
   "execution_count": 25,
   "id": "72e1d461",
   "metadata": {},
   "outputs": [
    {
     "name": "stdout",
     "output_type": "stream",
     "text": [
      "\n",
      "══════════════════════════════════════════════════════════════════════════════\n",
      "mixture_01 : <openpnm.phase.StandardLiquidMixture at 0x21cd8fa35e0>\n",
      "――――――――――――――――――――――――――――――――――――――――――――――――――――――――――――――――――――――――――――――\n",
      "  #  Properties                                                   Valid Values\n",
      "――――――――――――――――――――――――――――――――――――――――――――――――――――――――――――――――――――――――――――――\n",
      "  1  pore.density                                                        9 / 9\n",
      "  2  pore.heat_capacity                                                  9 / 9\n",
      "  3  pore.mole_fraction.phase_04                                         9 / 9\n",
      "  4  pore.mole_fraction.phase_05                                         9 / 9\n",
      "  5  pore.pressure                                                       9 / 9\n",
      "  6  pore.temperature                                                    9 / 9\n",
      "  7  pore.thermal_conductivity                                           9 / 9\n",
      "  8  pore.viscosity                                                      9 / 9\n",
      "――――――――――――――――――――――――――――――――――――――――――――――――――――――――――――――――――――――――――――――\n",
      "  #  Labels                                                 Assigned Locations\n",
      "――――――――――――――――――――――――――――――――――――――――――――――――――――――――――――――――――――――――――――――\n",
      "  1  pore.all                                                                9\n",
      "  2  throat.all                                                             12\n",
      "――――――――――――――――――――――――――――――――――――――――――――――――――――――――――――――――――――――――――――――\n",
      "Component Phases\n",
      "══════════════════════════════════════════════════════════════════════════════\n",
      "phase_04 : <openpnm.phase.StandardLiquid at 0x21cd8fbad10>\n",
      "――――――――――――――――――――――――――――――――――――――――――――――――――――――――――――――――――――――――――――――\n",
      "  #  Properties                                                   Valid Values\n",
      "――――――――――――――――――――――――――――――――――――――――――――――――――――――――――――――――――――――――――――――\n",
      "  1  pore.density.phase_04                                               9 / 9\n",
      "  2  pore.heat_capacity.phase_04                                         9 / 9\n",
      "  3  pore.heat_capacity_gas.phase_04                                     9 / 9\n",
      "  4  pore.pressure.phase_04                                              9 / 9\n",
      "  5  pore.temperature.phase_04                                           9 / 9\n",
      "  6  pore.thermal_conductivity.phase_04                                  9 / 9\n",
      "  7  pore.vapor_pressure.phase_04                                        9 / 9\n",
      "  8  pore.viscosity.phase_04                                             9 / 9\n",
      "――――――――――――――――――――――――――――――――――――――――――――――――――――――――――――――――――――――――――――――\n",
      "  #  Labels                                                 Assigned Locations\n",
      "――――――――――――――――――――――――――――――――――――――――――――――――――――――――――――――――――――――――――――――\n",
      "  1  pore.all.phase_04                                                       9\n",
      "  2  throat.all.phase_04                                                    12\n",
      "══════════════════════════════════════════════════════════════════════════════\n",
      "phase_05 : <openpnm.phase.StandardLiquid at 0x21cd8fa3e50>\n",
      "――――――――――――――――――――――――――――――――――――――――――――――――――――――――――――――――――――――――――――――\n",
      "  #  Properties                                                   Valid Values\n",
      "――――――――――――――――――――――――――――――――――――――――――――――――――――――――――――――――――――――――――――――\n",
      "  1  pore.density.phase_05                                               9 / 9\n",
      "  2  pore.heat_capacity.phase_05                                         9 / 9\n",
      "  3  pore.heat_capacity_gas.phase_05                                     9 / 9\n",
      "  4  pore.pressure.phase_05                                              9 / 9\n",
      "  5  pore.temperature.phase_05                                           9 / 9\n",
      "  6  pore.thermal_conductivity.phase_05                                  9 / 9\n",
      "  7  pore.vapor_pressure.phase_05                                        9 / 9\n",
      "  8  pore.viscosity.phase_05                                             9 / 9\n",
      "――――――――――――――――――――――――――――――――――――――――――――――――――――――――――――――――――――――――――――――\n",
      "  #  Labels                                                 Assigned Locations\n",
      "――――――――――――――――――――――――――――――――――――――――――――――――――――――――――――――――――――――――――――――\n",
      "  1  pore.all.phase_05                                                       9\n",
      "  2  throat.all.phase_05                                                    12\n",
      "――――――――――――――――――――――――――――――――――――――――――――――――――――――――――――――――――――――――――――――\n"
     ]
    }
   ],
   "source": [
    "vodka.info"
   ]
  },
  {
   "cell_type": "markdown",
   "id": "7ae52406",
   "metadata": {},
   "source": [
    "### Get component mole fractions\n",
    "\n",
    "You'll notice that the mixture object has arrays called ``'pore.mole_fraction.<compname>'`` for each component. The dictionary look-up in OpenPNM will return a subdictionary if the given key is just ``'pore.mole_fraction'``."
   ]
  },
  {
   "cell_type": "code",
   "execution_count": 33,
   "id": "77913264",
   "metadata": {},
   "outputs": [
    {
     "data": {
      "text/plain": [
       "{'phase_04': array([0.8, 0.8, 0.8, 0.8, 0.8, 0.8, 0.8, 0.8, 0.8]),\n",
       " 'phase_05': array([0.2, 0.2, 0.2, 0.2, 0.2, 0.2, 0.2, 0.2, 0.2])}"
      ]
     },
     "execution_count": 33,
     "metadata": {},
     "output_type": "execute_result"
    }
   ],
   "source": [
    "vodka['pore.mole_fraction']"
   ]
  },
  {
   "cell_type": "markdown",
   "id": "77f5ce8a",
   "metadata": {},
   "source": [
    "### ``components``\n",
    "This attribute returns a dictionary with each of the components accessible by their name:"
   ]
  },
  {
   "cell_type": "code",
   "execution_count": 27,
   "id": "7059abd5",
   "metadata": {},
   "outputs": [
    {
     "name": "stdout",
     "output_type": "stream",
     "text": [
      "dict_keys(['phase_04', 'phase_05'])\n"
     ]
    }
   ],
   "source": [
    "d = vodka.components\n",
    "print(d.keys())"
   ]
  },
  {
   "cell_type": "markdown",
   "id": "87df87e9",
   "metadata": {},
   "source": [
    "### ``get_comp_vals``\n",
    "Since the mixture is made from several components, it is often desired get the values of a specific property from each component.  This method provides a convenient way to do this:"
   ]
  },
  {
   "cell_type": "code",
   "execution_count": 29,
   "id": "04b5eea9",
   "metadata": {},
   "outputs": [
    {
     "name": "stdout",
     "output_type": "stream",
     "text": [
      "{'phase_04': array([0.00062103, 0.00062103, 0.00062103, 0.00062103, 0.00062103,\n",
      "       0.00062103, 0.00062103, 0.00062103, 0.00062103]), 'phase_05': array([0.00041951, 0.00041951, 0.00041951, 0.00041951, 0.00041951,\n",
      "       0.00041951, 0.00041951, 0.00041951, 0.00041951])}\n"
     ]
    }
   ],
   "source": [
    "mus = vodka.get_comp_vals('pore.viscosity')\n",
    "print(mus)"
   ]
  },
  {
   "cell_type": "markdown",
   "id": "2bcbeafb",
   "metadata": {},
   "source": [
    "It is also possible to retrieve the properteis of a component by asking the mixture and appending the component name, as follows:"
   ]
  },
  {
   "cell_type": "code",
   "execution_count": 30,
   "id": "7b6a8ad2",
   "metadata": {},
   "outputs": [
    {
     "data": {
      "text/plain": [
       "array([0.00062103, 0.00062103, 0.00062103, 0.00062103, 0.00062103,\n",
       "       0.00062103, 0.00062103, 0.00062103, 0.00062103])"
      ]
     },
     "execution_count": 30,
     "metadata": {},
     "output_type": "execute_result"
    }
   ],
   "source": [
    "vodka['pore.viscosity.' + water.name]"
   ]
  },
  {
   "cell_type": "markdown",
   "id": "99712cad",
   "metadata": {},
   "source": [
    "In reality there is no array on ``vodka`` with the name ``'pore.viscosity.phase_01'``, but failure to find this array is what actually triggers the look-up of the array from ``water``. This is a convenient feature that is added using some 'syntactic sugar' behind the scenes in Python.  "
   ]
  },
  {
   "cell_type": "markdown",
   "id": "11aa2330",
   "metadata": {},
   "source": [
    "### Using the wildcard (``*``) syntax\n",
    "\n",
    "One more feature that has been added is the ability to fetch requested property arrays from *all* the components by replacing the component name with the universal *wildcard* symbmol: ``*`` as follows:"
   ]
  },
  {
   "cell_type": "code",
   "execution_count": 31,
   "id": "9c1a9650",
   "metadata": {},
   "outputs": [
    {
     "data": {
      "text/plain": [
       "{'phase_04': array([0.00062103, 0.00062103, 0.00062103, 0.00062103, 0.00062103,\n",
       "        0.00062103, 0.00062103, 0.00062103, 0.00062103]),\n",
       " 'phase_05': array([0.00041951, 0.00041951, 0.00041951, 0.00041951, 0.00041951,\n",
       "        0.00041951, 0.00041951, 0.00041951, 0.00041951])}"
      ]
     },
     "execution_count": 31,
     "metadata": {},
     "output_type": "execute_result"
    }
   ],
   "source": [
    "vodka['pore.viscosity.*']"
   ]
  },
  {
   "cell_type": "markdown",
   "id": "217d6e1b",
   "metadata": {},
   "source": [
    "Note that this returns exactly the same dictionary as the ``get_comp_vals`` method (in fact this function gets called behind the scenes), but this feature is offered for more than just convenience.  The main reason for supporting this feature is so that pore-scale models can be instructed to fetch the needed arrays for computing the mixture properties.  This is demonstrated in the following simple example of a custom mixture model:"
   ]
  },
  {
   "cell_type": "code",
   "execution_count": 41,
   "id": "27535193",
   "metadata": {},
   "outputs": [],
   "source": [
    "def mole_fraction_weighting(phase, propname):\n",
    "    xs = phase['pore.mole_fraction']\n",
    "    ys = phase[propname]  # This is the key step\n",
    "    z = 0.0\n",
    "    for i in xs.keys():\n",
    "        z += xs[i]*ys[i]\n",
    "    return z"
   ]
  },
  {
   "cell_type": "code",
   "execution_count": 40,
   "id": "053eb23e",
   "metadata": {},
   "outputs": [
    {
     "name": "stdout",
     "output_type": "stream",
     "text": [
      "[0.00058073 0.00058073 0.00058073 0.00058073 0.00058073 0.00058073\n",
      " 0.00058073 0.00058073 0.00058073]\n"
     ]
    }
   ],
   "source": [
    "vals = mole_fraction_weighting(phase=vodka, propname='pore.viscosity.*')\n",
    "print(vals)"
   ]
  },
  {
   "cell_type": "markdown",
   "id": "0b2a2272",
   "metadata": {},
   "source": [
    "The use of the ``'.*'`` as the suffix of the ``propname`` argument is crucial here.  As can be seen in the definition of ``mole_fraction_weighting``, the call to ``phase[propname]`` passes ``'pore.viscsoity.*'`` directly to the dictionary lookup of values from ``phase``, and this in turn triggers the retrieval of the ``'pore.viscosity'`` values from each component. \n",
    "\n",
    "If we were to pass ``'pore.viscosity'`` then the function would throw an error since the call to ``phase['pore.viscosity']`` would return a single numpy array of viscosity values of the mixture (or not find any values at all)."
   ]
  },
  {
   "cell_type": "code",
   "execution_count": null,
   "id": "2d0e0a7f",
   "metadata": {},
   "outputs": [],
   "source": []
  }
 ],
 "metadata": {
  "kernelspec": {
   "display_name": "Python 3 (ipykernel)",
   "language": "python",
   "name": "python3"
  },
  "language_info": {
   "codemirror_mode": {
    "name": "ipython",
    "version": 3
   },
   "file_extension": ".py",
   "mimetype": "text/x-python",
   "name": "python",
   "nbconvert_exporter": "python",
   "pygments_lexer": "ipython3",
   "version": "3.9.7"
  }
 },
 "nbformat": 4,
 "nbformat_minor": 5
}

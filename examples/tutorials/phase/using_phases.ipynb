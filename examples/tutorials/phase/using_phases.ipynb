{
 "cells": [
  {
   "cell_type": "markdown",
   "id": "fce43591",
   "metadata": {},
   "source": [
    "# Using Basic Phases\n",
    "\n",
    "All simulations in OpenPNM eventually require knowing the physical and thermodynamic properties of the fluids and phases.  OpenPNM provides a framework for computing these values in the ``phase`` submodule, along with a *basic* set of functions for predicting the properties pure phases and mixtures. Our policy is to provide a set of reasonable default functions for use as first approximations, without creating a huge amount of extraneous code in OpenPNM.  There are a number of other packages that can be used when more exacting values are required, such as ``chemicals`` and ``cantera``, which can be used within the framework of OpenPNM.\n",
    "\n",
    "In this notebook, we will be cover the use of the basic ``Phase`` class, the specific classes for common fluids like ``Air`` and ``Water``."
   ]
  },
  {
   "cell_type": "code",
   "execution_count": 1,
   "id": "d0583d45",
   "metadata": {},
   "outputs": [],
   "source": [
    "import openpnm as op\n",
    "import numpy as np"
   ]
  },
  {
   "cell_type": "markdown",
   "id": "d8429ae3",
   "metadata": {},
   "source": [
    "All simulations start by defining/creating a network.  The ``Demo`` class creates a very simple cubic network with an assortment of useful properties included:"
   ]
  },
  {
   "cell_type": "code",
   "execution_count": 2,
   "id": "41da6fd0",
   "metadata": {},
   "outputs": [],
   "source": [
    "pn = op.network.Demo()"
   ]
  },
  {
   "cell_type": "markdown",
   "id": "5699516f",
   "metadata": {},
   "source": [
    "## The basic ``Phase`` class\n",
    "\n",
    "If your simulation is simple, then a simple ``Phase`` object may be sufficient.  It has no predefined models from computing anything, so you have to either assign known values directly (e.g ``water['pore.viscosity'] = 0.001``) or define models that will compute the values you need.  The models can be taken from the ``openpnm.models.phase`` library, or you can write your own."
   ]
  },
  {
   "cell_type": "code",
   "execution_count": 3,
   "id": "41924bb8",
   "metadata": {},
   "outputs": [
    {
     "name": "stdout",
     "output_type": "stream",
     "text": [
      "\n",
      "══════════════════════════════════════════════════════════════════════════════\n",
      "phase_01 : <openpnm.phase.Phase at 0x29038034180>\n",
      "――――――――――――――――――――――――――――――――――――――――――――――――――――――――――――――――――――――――――――――\n",
      "  #  Properties                                                   Valid Values\n",
      "――――――――――――――――――――――――――――――――――――――――――――――――――――――――――――――――――――――――――――――\n",
      "  1  pore.pressure                                                       9 / 9\n",
      "  2  pore.temperature                                                    9 / 9\n",
      "――――――――――――――――――――――――――――――――――――――――――――――――――――――――――――――――――――――――――――――\n",
      "  #  Labels                                                 Assigned Locations\n",
      "――――――――――――――――――――――――――――――――――――――――――――――――――――――――――――――――――――――――――――――\n",
      "  1  pore.all                                                                9\n",
      "  2  throat.all                                                             12\n",
      "――――――――――――――――――――――――――――――――――――――――――――――――――――――――――――――――――――――――――――――\n"
     ]
    }
   ],
   "source": [
    "phase1 = op.phase.Phase(network=pn)\n",
    "print(phase1)"
   ]
  },
  {
   "cell_type": "markdown",
   "id": "d00c1a42",
   "metadata": {},
   "source": [
    "Note that all ``phase`` objects need to be associated with a network, which is how ``phase1`` knows how many pore (and throat) values to compute...in this case 9 (and 12). "
   ]
  },
  {
   "cell_type": "markdown",
   "id": "356d4148",
   "metadata": {},
   "source": [
    "### Direct assignment of a constant value"
   ]
  },
  {
   "cell_type": "markdown",
   "id": "ad4bdbeb",
   "metadata": {},
   "source": [
    "The basic ``Phase`` class creates a more or less empty object with only standard temperature and pressure assigned to each pore. In order to use this object for simulations it needs some additional information. For instance, to compute the permeability of ``pn`` we will need the viscosity.  So, let's assign a known value directly for liquid water:"
   ]
  },
  {
   "cell_type": "code",
   "execution_count": 4,
   "id": "8f98fb81",
   "metadata": {},
   "outputs": [],
   "source": [
    "phase1['pore.viscosity'] = 0.001  # Pa.s\n",
    "phase1['pore.temperature'] = 273.0"
   ]
  },
  {
   "cell_type": "markdown",
   "id": "dac6d7d4",
   "metadata": {},
   "source": [
    "*Pro Tip*: When assigning a scalar value to a dictionary key it gets assigned to every pore (or throat).  The result of the above assignment can be seen below:"
   ]
  },
  {
   "cell_type": "code",
   "execution_count": 5,
   "id": "50b97f81",
   "metadata": {},
   "outputs": [
    {
     "data": {
      "text/plain": [
       "array([0.001, 0.001, 0.001, 0.001, 0.001, 0.001, 0.001, 0.001, 0.001])"
      ]
     },
     "execution_count": 5,
     "metadata": {},
     "output_type": "execute_result"
    }
   ],
   "source": [
    "phase1['pore.viscosity']"
   ]
  },
  {
   "cell_type": "markdown",
   "id": "836b20da",
   "metadata": {},
   "source": [
    "### Using a built-in model\n",
    "\n",
    "Perhaps you would like to run simulation in the presence of a temperature gradient, and viscosity is a strong function of temperature.  Instead of assigning a constant viscosity, in this case it is better to assign a pore-scale model that OpenPNM will call to compute the viscosity in each pore.  \n",
    "\n",
    "The ``models`` library in OpenPNM contains some general models which can be used, such as polynomials or linear lines. A 4th order polynomial can be fit to experimental data yielding the following coefficients:"
   ]
  },
  {
   "cell_type": "code",
   "execution_count": 6,
   "id": "0a61bc2a",
   "metadata": {},
   "outputs": [],
   "source": [
    "a4 = 5.8543E-11\n",
    "a3 = -7.6756E-08\n",
    "a2 = 3.7831E-05\n",
    "a1 = -8.3156E-03\n",
    "a0 = 6.8898E-01"
   ]
  },
  {
   "cell_type": "markdown",
   "id": "32fb85d8",
   "metadata": {},
   "source": [
    "These can be used in the the ``op.models.misc.polynomial`` model as follows:"
   ]
  },
  {
   "cell_type": "code",
   "execution_count": 15,
   "id": "57f24409",
   "metadata": {},
   "outputs": [
    {
     "name": "stdout",
     "output_type": "stream",
     "text": [
      "[0.00179952 0.00179952 0.00179952 0.00179952 0.00179952 0.00179952\n",
      " 0.00179952 0.00179952 0.00179952]\n",
      "[0.00078261 0.00047368 0.0006127  0.00042288 0.00066796 0.00083404\n",
      " 0.00047012 0.00059282 0.00056671]\n",
      "[0.00067764 0.00042716 0.00087339 0.0004289  0.00086183 0.00044696\n",
      " 0.00065252 0.0004201  0.00069108]\n"
     ]
    }
   ],
   "source": [
    "print(phase1['pore.viscosity'])\n",
    "f = op.models.misc.polynomial\n",
    "phase1.add_model(propname='pore.viscosity', \n",
    "                 model=f,\n",
    "                 a = (a0, a1, a2, a3, a4),\n",
    "                 prop='pore.temperature')\n",
    "print(phase1['pore.viscosity'])\n",
    "phase1['pore.temperature'] = 300.0 + np.random.rand(pn.Np)*50\n",
    "phase1.regenerate_models()\n",
    "print(phase1['pore.viscosity'])"
   ]
  },
  {
   "cell_type": "markdown",
   "id": "9a0e3c74",
   "metadata": {},
   "source": [
    "In the above block we can see that the values of ``0.001`` are present from the previous assignment, then after we add the model the values are recomputed at the temperature indicated in ``phase1['pore.temperature']``.  To illustrate the point of using a temperature dependent model, we then set the temperature to a random number between 300 and 350 K, the rerun the models at the new temperatures."
   ]
  },
  {
   "cell_type": "markdown",
   "id": "1d74915a",
   "metadata": {},
   "source": [
    "### Using a water-specific model\n",
    "\n",
    "Because water is so common, OpenPNM has some available functions for its properties:"
   ]
  },
  {
   "cell_type": "code",
   "execution_count": 16,
   "id": "97a5b4ec",
   "metadata": {},
   "outputs": [
    {
     "name": "stdout",
     "output_type": "stream",
     "text": [
      "[0.000647   0.00039139 0.00085086 0.0003938  0.00083897 0.00041547\n",
      " 0.00062088 0.00038031 0.00066103]\n"
     ]
    }
   ],
   "source": [
    "f = op.models.phase.viscosity.water_correlation\n",
    "phase1.add_model(propname='pore.viscosity',\n",
    "                 model=f)\n",
    "print(phase1['pore.viscosity'])"
   ]
  },
  {
   "cell_type": "markdown",
   "id": "d79fca2e",
   "metadata": {},
   "source": [
    "### Writing your own custom model\n",
    "\n",
    "This subject is explained in detail in another tutorial, but the basic outline is as follows. "
   ]
  },
  {
   "cell_type": "code",
   "execution_count": 17,
   "id": "a30c7773",
   "metadata": {},
   "outputs": [
    {
     "name": "stdout",
     "output_type": "stream",
     "text": [
      "[ 3.21402876e-04 -1.80439511e-05  5.50708547e-04 -1.49215969e-05\n",
      "  5.37611746e-04  1.48067041e-05  2.90493860e-04 -3.16812236e-05\n",
      "  3.37779603e-04]\n"
     ]
    }
   ],
   "source": [
    "def custom_mu(target, temperature='pore.temperature'):\n",
    "    T = target[temperature]\n",
    "    a4 = 5.854E-11\n",
    "    a3 = -7.676E-08\n",
    "    a2 = 3.783E-05\n",
    "    a1 = -8.316E-03\n",
    "    a0 = 6.890E-01\n",
    "    mu = a0 + a1*T + a2*T**2 + a3*T**3 + a4*T**4\n",
    "    return mu\n",
    "\n",
    "phase1.add_model(propname='pore.viscosity',\n",
    "                 model=custom_mu)\n",
    "print(phase1['pore.viscosity'])\n"
   ]
  },
  {
   "cell_type": "markdown",
   "id": "e69c514a",
   "metadata": {},
   "source": [
    "## Specific Classes for Common Fluids\n",
    "\n",
    "Air, water, and mercury are used commonly enough that OpenPNM not only has pore-scale models for their propertie (i.e. ``op.models.viscosity.water_correlation``, but we have also created pre-defined classes with all the appropriate models already attached:"
   ]
  },
  {
   "cell_type": "code",
   "execution_count": 18,
   "id": "d7232b92",
   "metadata": {},
   "outputs": [],
   "source": [
    "water = op.phase.Water(network=pn)"
   ]
  },
  {
   "cell_type": "code",
   "execution_count": 19,
   "id": "2a00c73f",
   "metadata": {},
   "outputs": [
    {
     "name": "stdout",
     "output_type": "stream",
     "text": [
      "\n",
      "══════════════════════════════════════════════════════════════════════════════\n",
      "phase_03 : <openpnm.phase.Water at 0x29032055e50>\n",
      "――――――――――――――――――――――――――――――――――――――――――――――――――――――――――――――――――――――――――――――\n",
      "  #  Properties                                                   Valid Values\n",
      "――――――――――――――――――――――――――――――――――――――――――――――――――――――――――――――――――――――――――――――\n",
      "  1  pore.contact_angle                                                  9 / 9\n",
      "  2  pore.density                                                        9 / 9\n",
      "  3  pore.molar_density                                                  9 / 9\n",
      "  4  pore.pressure                                                       9 / 9\n",
      "  5  pore.surface_tension                                                9 / 9\n",
      "  6  pore.temperature                                                    9 / 9\n",
      "  7  pore.thermal_conductivity                                           9 / 9\n",
      "  8  pore.vapor_pressure                                                 9 / 9\n",
      "  9  pore.viscosity                                                      9 / 9\n",
      "――――――――――――――――――――――――――――――――――――――――――――――――――――――――――――――――――――――――――――――\n",
      "  #  Labels                                                 Assigned Locations\n",
      "――――――――――――――――――――――――――――――――――――――――――――――――――――――――――――――――――――――――――――――\n",
      "  1  pore.all                                                                9\n",
      "  2  throat.all                                                             12\n",
      "――――――――――――――――――――――――――――――――――――――――――――――――――――――――――――――――――――――――――――――\n"
     ]
    }
   ],
   "source": [
    "print(water)"
   ]
  },
  {
   "cell_type": "markdown",
   "id": "c3578f9a",
   "metadata": {},
   "source": [
    "As can be seen in the above print-out, a variety of things have been computed, most of which is coming from a specific pore-scale model.  These can be viewed with:"
   ]
  },
  {
   "cell_type": "code",
   "execution_count": 20,
   "id": "f9f8f4df",
   "metadata": {},
   "outputs": [
    {
     "name": "stdout",
     "output_type": "stream",
     "text": [
      "―――――――――――――――――――――――――――――――――――――――――――――――――――――――――――――――――――――――――――――――――――――\n",
      "#   Property Name                       Parameter                 Value\n",
      "―――――――――――――――――――――――――――――――――――――――――――――――――――――――――――――――――――――――――――――――――――――\n",
      "1   pore.contact_angle@all              model:                    constant\n",
      "                                        value:                    110.0\n",
      "                                        regeneration mode:        normal\n",
      "―――――――――――――――――――――――――――――――――――――――――――――――――――――――――――――――――――――――――――――――――――――\n",
      "2   pore.density@all                    model:                    water_correlation\n",
      "                                        T:                        pore.temperature\n",
      "                                        salinity:                 pore.salinity\n",
      "                                        regeneration mode:        normal\n",
      "―――――――――――――――――――――――――――――――――――――――――――――――――――――――――――――――――――――――――――――――――――――\n",
      "3   pore.molar_density@all              model:                    mass_to_molar\n",
      "                                        MW:                       param.molecular_weight\n",
      "                                        rho:                      pore.density\n",
      "                                        regeneration mode:        normal\n",
      "―――――――――――――――――――――――――――――――――――――――――――――――――――――――――――――――――――――――――――――――――――――\n",
      "4   pore.surface_tension@all            model:                    water_correlation\n",
      "                                        T:                        pore.temperature\n",
      "                                        salinity:                 pore.salinity\n",
      "                                        regeneration mode:        normal\n",
      "―――――――――――――――――――――――――――――――――――――――――――――――――――――――――――――――――――――――――――――――――――――\n",
      "5   pore.thermal_conductivity@all       model:                    water_correlation\n",
      "                                        T:                        pore.temperature\n",
      "                                        salinity:                 pore.salinity\n",
      "                                        regeneration mode:        normal\n",
      "―――――――――――――――――――――――――――――――――――――――――――――――――――――――――――――――――――――――――――――――――――――\n",
      "6   pore.vapor_pressure@all             model:                    liquid_pure_antoine\n",
      "                                        T:                        pore.temperature\n",
      "                                        Tc:                       param.critical_temperature\n",
      "                                        regeneration mode:        normal\n",
      "―――――――――――――――――――――――――――――――――――――――――――――――――――――――――――――――――――――――――――――――――――――\n",
      "7   pore.viscosity@all                  model:                    water_correlation\n",
      "                                        T:                        pore.temperature\n",
      "                                        salinity:                 pore.salinity\n",
      "                                        regeneration mode:        normal\n",
      "―――――――――――――――――――――――――――――――――――――――――――――――――――――――――――――――――――――――――――――――――――――\n"
     ]
    }
   ],
   "source": [
    "print(water.models)"
   ]
  },
  {
   "cell_type": "markdown",
   "id": "89b218f8",
   "metadata": {},
   "source": [
    "All of these models are functions of all relevant properties, so we can change the temperature and see the new viscosity:"
   ]
  },
  {
   "cell_type": "code",
   "execution_count": 22,
   "id": "b21de53d",
   "metadata": {},
   "outputs": [
    {
     "name": "stdout",
     "output_type": "stream",
     "text": [
      "[0.0005704  0.00062362 0.00041976 0.00053435 0.00062575 0.00080914\n",
      " 0.0004782  0.000501   0.00038744]\n",
      "[0.00042246 0.00037174 0.00071614 0.0003947  0.00047906 0.0005611\n",
      " 0.00037583 0.00041211 0.00075005]\n"
     ]
    }
   ],
   "source": [
    "print(water['pore.viscosity'])\n",
    "water['pore.temperature'] = 300.0 + np.random.rand(pn.Np)*50\n",
    "water.regenerate_models()\n",
    "print(water['pore.viscosity'])"
   ]
  }
 ],
 "metadata": {
  "kernelspec": {
   "display_name": "Python 3 (ipykernel)",
   "language": "python",
   "name": "python3"
  },
  "language_info": {
   "codemirror_mode": {
    "name": "ipython",
    "version": 3
   },
   "file_extension": ".py",
   "mimetype": "text/x-python",
   "name": "python",
   "nbconvert_exporter": "python",
   "pygments_lexer": "ipython3",
   "version": "3.9.7"
  }
 },
 "nbformat": 4,
 "nbformat_minor": 5
}

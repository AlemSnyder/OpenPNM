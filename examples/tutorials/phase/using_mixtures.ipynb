{
 "cells": [
  {
   "cell_type": "markdown",
   "id": "9df75adf",
   "metadata": {},
   "source": [
    "# Using Mixtures\n",
    "\n",
    "The notebook explains how to use the Mixture classes to create *Phase* objects with the thermophysical properties arising from the properties and compositions of the individual components."
   ]
  },
  {
   "cell_type": "code",
   "execution_count": 1,
   "id": "be9093e4",
   "metadata": {},
   "outputs": [],
   "source": [
    "import openpnm as op\n",
    "pn = op.network.Demo()"
   ]
  },
  {
   "cell_type": "markdown",
   "id": "f193e375",
   "metadata": {},
   "source": [
    "## Create individual species objects\n",
    "\n",
    "Let's illustrate this\n",
    "by creating ``air`` as a mixture of oxygen and nitrogen.  First we create a ``Phase`` object for each individual species.  OpenPNM uses a package called [chemicals](https://pypi.org/project/chemicals/) to provide physical properties for a large variety of pure species. So we can create a ``Species`` object \"by name\" which will fetch the corresponding properties from a database:"
   ]
  },
  {
   "cell_type": "code",
   "execution_count": 3,
   "id": "15945f5e",
   "metadata": {},
   "outputs": [],
   "source": [
    "o2 = op.phase.StandardGas(network=pn, species='oxygen')\n",
    "n2 = op.phase.StandardGas(network=pn, species='nitrogen')"
   ]
  },
  {
   "cell_type": "markdown",
   "id": "e3764e88",
   "metadata": {},
   "source": [
    "The ``species`` argument accepts a variety of names for a given species, so that ``species='o2'`` would also work.  We can print these objects to see what properties were calculated:"
   ]
  },
  {
   "cell_type": "code",
   "execution_count": 4,
   "id": "5f268a50",
   "metadata": {},
   "outputs": [
    {
     "name": "stdout",
     "output_type": "stream",
     "text": [
      "\n",
      "══════════════════════════════════════════════════════════════════════════════\n",
      "phase_01 : <openpnm.phase.StandardGas at 0x2b6a15bd270>\n",
      "――――――――――――――――――――――――――――――――――――――――――――――――――――――――――――――――――――――――――――――\n",
      "  #  Properties                                                   Valid Values\n",
      "――――――――――――――――――――――――――――――――――――――――――――――――――――――――――――――――――――――――――――――\n",
      "  1  pore.density                                                        9 / 9\n",
      "  2  pore.heat_capacity                                                  9 / 9\n",
      "  3  pore.heat_capacity_gas                                              9 / 9\n",
      "  4  pore.pressure                                                       9 / 9\n",
      "  5  pore.temperature                                                    9 / 9\n",
      "  6  pore.thermal_conductivity                                           9 / 9\n",
      "  7  pore.viscosity                                                      9 / 9\n",
      "――――――――――――――――――――――――――――――――――――――――――――――――――――――――――――――――――――――――――――――\n",
      "  #  Labels                                                 Assigned Locations\n",
      "――――――――――――――――――――――――――――――――――――――――――――――――――――――――――――――――――――――――――――――\n",
      "  1  pore.all                                                                9\n",
      "  2  throat.all                                                             12\n",
      "――――――――――――――――――――――――――――――――――――――――――――――――――――――――――――――――――――――――――――――\n"
     ]
    }
   ],
   "source": [
    "print(o2)"
   ]
  },
  {
   "cell_type": "markdown",
   "id": "f0894454",
   "metadata": {},
   "source": [
    "This computes a few basic properties, but more importantly, the ``params`` attribute is loaded with a physical constants:"
   ]
  },
  {
   "cell_type": "code",
   "execution_count": 5,
   "id": "4ddf15e3",
   "metadata": {},
   "outputs": [
    {
     "name": "stdout",
     "output_type": "stream",
     "text": [
      "――――――――――――――――――――――――――――――――――――――――――――――――――――――――――――――――――――――――――――――\n",
      "Parameters                          Value\n",
      "――――――――――――――――――――――――――――――――――――――――――――――――――――――――――――――――――――――――――――――\n",
      "CAS                                 7782-44-7\n",
      "common_name                         oxygen\n",
      "charge                              0\n",
      "formula                             O2\n",
      "boiling_temperature                 90.188\n",
      "melting_temperature                 54.36\n",
      "triple_point_temperature            54.33\n",
      "triple_point_pressure               148.9796864589355\n",
      "dipole_moment                       0.0\n",
      "LJ_diameter                         3.29728\n",
      "LJ_energy                           1.6520845934e-21\n",
      "surface_tension_Tb                  0.013145633010272155\n",
      "molar_volume_Tb                     2.802254619756072e-05\n",
      "molecular_weight                    31.9988\n",
      "critical_temperature                154.58\n",
      "critical_pressure                   5042945.25\n",
      "critical_volume                     7.34e-05\n",
      "critical_compressibilty_factor      0.2880002236716698\n",
      "acentric_factor                     0.021\n",
      "――――――――――――――――――――――――――――――――――――――――――――――――――――――――――――――――――――――――――――――\n"
     ]
    }
   ],
   "source": [
    "print(o2.params)"
   ]
  },
  {
   "cell_type": "markdown",
   "id": "c4ce2518",
   "metadata": {},
   "source": [
    "These constants are used for computation of more complex properties, especially for mixtures."
   ]
  },
  {
   "cell_type": "markdown",
   "id": "67d0909b",
   "metadata": {},
   "source": [
    "----\n",
    "💡 **Pro Tip**: You can access the values of these parameters either from the ``params`` attribute or using the dictionary lookup of the main object which will dispatch the query to the ``params`` attribute. "
   ]
  },
  {
   "cell_type": "code",
   "execution_count": 6,
   "id": "9d0cc1fd",
   "metadata": {},
   "outputs": [
    {
     "data": {
      "text/plain": [
       "'7782-44-7'"
      ]
     },
     "execution_count": 6,
     "metadata": {},
     "output_type": "execute_result"
    }
   ],
   "source": [
    "o2.params['CAS']"
   ]
  },
  {
   "cell_type": "code",
   "execution_count": 7,
   "id": "7c48a05f",
   "metadata": {},
   "outputs": [
    {
     "data": {
      "text/plain": [
       "'7782-44-7'"
      ]
     },
     "execution_count": 7,
     "metadata": {},
     "output_type": "execute_result"
    }
   ],
   "source": [
    "o2['param.CAS']"
   ]
  },
  {
   "cell_type": "markdown",
   "id": "102569a4",
   "metadata": {},
   "source": [
    "Writing also works."
   ]
  },
  {
   "cell_type": "code",
   "execution_count": null,
   "id": "62dbe115",
   "metadata": {},
   "outputs": [],
   "source": [
    "o2['param.foo'] = 'bar'\n",
    "o2.params['foo']"
   ]
  },
  {
   "cell_type": "markdown",
   "id": "06996ccd",
   "metadata": {},
   "source": [
    "---"
   ]
  },
  {
   "cell_type": "markdown",
   "id": "019faba9",
   "metadata": {},
   "source": [
    "## Create a mixture object\n",
    "\n",
    "The ``phase`` module contains a few classes designed to work with mixtures.  These basically keep track of which individual species are in the mixture and their compositions, and they have a suite of pore-scale models that compute the mixture properties using common mixing rules or correlations:"
   ]
  },
  {
   "cell_type": "code",
   "execution_count": 9,
   "id": "09f2f79c",
   "metadata": {},
   "outputs": [],
   "source": [
    "air = op.phase.StandardGasMixture(network=pn, components=[o2, n2])"
   ]
  },
  {
   "cell_type": "markdown",
   "id": "511e50e2",
   "metadata": {},
   "source": [
    "The ``air`` object is not quite ready yet because we have not specified the composition of each species.  This can be done a few  ways, but a useful and powerful method is available, ``y``, which allows both *setting* the mole fraction (conventionally referred to as *y* in chemical engineering) and *getting* the current values. When a component name *and* a mole fraction is given it sets this value:"
   ]
  },
  {
   "cell_type": "code",
   "execution_count": 10,
   "id": "1cea0704",
   "metadata": {},
   "outputs": [],
   "source": [
    "air.y(o2.name, 0.21)\n",
    "air.y(n2.name, 0.79)"
   ]
  },
  {
   "cell_type": "markdown",
   "id": "862b9ffc",
   "metadata": {},
   "source": [
    "The values of mole fraction are stored in the ``Mixture`` object with the species names as part of the key:"
   ]
  },
  {
   "cell_type": "code",
   "execution_count": 11,
   "id": "ea409e8d",
   "metadata": {},
   "outputs": [
    {
     "name": "stdout",
     "output_type": "stream",
     "text": [
      "[0.21 0.21 0.21 0.21 0.21 0.21 0.21 0.21 0.21]\n",
      "[0.79 0.79 0.79 0.79 0.79 0.79 0.79 0.79 0.79]\n"
     ]
    }
   ],
   "source": [
    "print(air['pore.mole_fraction.'+o2.name])\n",
    "print(air['pore.mole_fraction.'+n2.name])"
   ]
  },
  {
   "cell_type": "markdown",
   "id": "d8c9d427",
   "metadata": {},
   "source": [
    "----\n",
    "💡 **ProTip!** The mole fractions of *both* species can be retrieved using the `dict` lookup without specifying which component.  OpenPNM will return a dictionary of both components with their names as they keys:"
   ]
  },
  {
   "cell_type": "code",
   "execution_count": 12,
   "id": "5e01fd69",
   "metadata": {},
   "outputs": [
    {
     "name": "stdout",
     "output_type": "stream",
     "text": [
      "{'phase_01': array([0.21, 0.21, 0.21, 0.21, 0.21, 0.21, 0.21, 0.21, 0.21]), 'phase_02': array([0.79, 0.79, 0.79, 0.79, 0.79, 0.79, 0.79, 0.79, 0.79])}\n"
     ]
    }
   ],
   "source": [
    "print(air['pore.mole_fraction'])"
   ]
  },
  {
   "cell_type": "markdown",
   "id": "d008d709",
   "metadata": {},
   "source": [
    "💡 This also means you can index into the returned dictionary using the names:"
   ]
  },
  {
   "cell_type": "code",
   "execution_count": 13,
   "id": "8ef333b6",
   "metadata": {},
   "outputs": [
    {
     "name": "stdout",
     "output_type": "stream",
     "text": [
      "[0.21 0.21 0.21 0.21 0.21 0.21 0.21 0.21 0.21]\n"
     ]
    }
   ],
   "source": [
    "print(air['pore.mole_fraction'][o2.name])"
   ]
  },
  {
   "cell_type": "markdown",
   "id": "1a82dc2a",
   "metadata": {},
   "source": [
    "💡 Alternatively the returned dictionary can be used to get a list of components that are currently part of the mixture:"
   ]
  },
  {
   "cell_type": "code",
   "execution_count": 15,
   "id": "bef07df0",
   "metadata": {},
   "outputs": [
    {
     "data": {
      "text/plain": [
       "dict_keys(['phase_01', 'phase_02'])"
      ]
     },
     "execution_count": 15,
     "metadata": {},
     "output_type": "execute_result"
    }
   ],
   "source": [
    "air['pore.mole_fraction'].keys()"
   ]
  },
  {
   "cell_type": "markdown",
   "id": "256a0a29",
   "metadata": {},
   "source": [
    "💡 The individual species can be retrieved using the ``components`` attribute which returns a dictionary with component names as the keys and handles to the actual objects as values:"
   ]
  },
  {
   "cell_type": "code",
   "execution_count": 16,
   "id": "cc33c69e",
   "metadata": {},
   "outputs": [
    {
     "data": {
      "text/plain": [
       "{'phase_01': phase_01 : <openpnm.phase.StandardGas at 0x2b6a15bd270>,\n",
       " 'phase_02': phase_02 : <openpnm.phase.StandardGas at 0x2b6a71eb400>}"
      ]
     },
     "execution_count": 16,
     "metadata": {},
     "output_type": "execute_result"
    }
   ],
   "source": [
    "air.components"
   ]
  },
  {
   "cell_type": "markdown",
   "id": "3311b23b",
   "metadata": {},
   "source": [
    "----"
   ]
  },
  {
   "cell_type": "markdown",
   "id": "4d6ab62b",
   "metadata": {},
   "source": [
    "The ``y`` method (and ``x`` on ``LiquidMixture``) can also be used to retrieve the mole fraction of one or both components:"
   ]
  },
  {
   "cell_type": "code",
   "execution_count": 17,
   "id": "3a08b345",
   "metadata": {},
   "outputs": [
    {
     "data": {
      "text/plain": [
       "{'phase_01': array([0.21, 0.21, 0.21, 0.21, 0.21, 0.21, 0.21, 0.21, 0.21]),\n",
       " 'phase_02': array([0.79, 0.79, 0.79, 0.79, 0.79, 0.79, 0.79, 0.79, 0.79])}"
      ]
     },
     "execution_count": 17,
     "metadata": {},
     "output_type": "execute_result"
    }
   ],
   "source": [
    "air.y()"
   ]
  },
  {
   "cell_type": "code",
   "execution_count": 18,
   "id": "a45e245e",
   "metadata": {},
   "outputs": [
    {
     "data": {
      "text/plain": [
       "array([0.79, 0.79, 0.79, 0.79, 0.79, 0.79, 0.79, 0.79, 0.79])"
      ]
     },
     "execution_count": 18,
     "metadata": {},
     "output_type": "execute_result"
    }
   ],
   "source": [
    "air.y(n2.name)"
   ]
  },
  {
   "cell_type": "markdown",
   "id": "d56239ab",
   "metadata": {},
   "source": [
    "In addition to keeping track of the species and their compositions, the mixture object also computes mixture properties. These can be seen by printing ``air``.  Note that we must first called ``regenerate_models`` since the models were not run on instantiation since the mole fraction was not set:"
   ]
  },
  {
   "cell_type": "code",
   "execution_count": 22,
   "id": "6fbd2ce3",
   "metadata": {},
   "outputs": [
    {
     "name": "stdout",
     "output_type": "stream",
     "text": [
      "\n",
      "══════════════════════════════════════════════════════════════════════════════\n",
      "mixture_01 : <openpnm.phase.StandardGasMixture at 0x2b6a2682bd0>\n",
      "――――――――――――――――――――――――――――――――――――――――――――――――――――――――――――――――――――――――――――――\n",
      "  #  Properties                                                   Valid Values\n",
      "――――――――――――――――――――――――――――――――――――――――――――――――――――――――――――――――――――――――――――――\n",
      "  1  pore.density                                                        9 / 9\n",
      "  2  pore.diffusivity                                                    9 / 9\n",
      "  3  pore.heat_capacity                                                  9 / 9\n",
      "  4  pore.mole_fraction.phase_01                                         9 / 9\n",
      "  5  pore.mole_fraction.phase_02                                         9 / 9\n",
      "  6  pore.pressure                                                       9 / 9\n",
      "  7  pore.temperature                                                    9 / 9\n",
      "  8  pore.thermal_conductivity                                           9 / 9\n",
      "  9  pore.viscosity                                                      9 / 9\n",
      "――――――――――――――――――――――――――――――――――――――――――――――――――――――――――――――――――――――――――――――\n",
      "  #  Labels                                                 Assigned Locations\n",
      "――――――――――――――――――――――――――――――――――――――――――――――――――――――――――――――――――――――――――――――\n",
      "  1  pore.all                                                                9\n",
      "  2  throat.all                                                             12\n",
      "――――――――――――――――――――――――――――――――――――――――――――――――――――――――――――――――――――――――――――――\n"
     ]
    }
   ],
   "source": [
    "air.regenerate_models()\n",
    "print(air)"
   ]
  },
  {
   "cell_type": "markdown",
   "id": "333728b0",
   "metadata": {},
   "source": [
    "Several of the properties listed above were on the species objects, such as viscosity.  These viscosity of the mixture is computed using a mole-weighted approach. The molecular weight is also the mole-weighted average of the two species.  Diffusivity on the other hand was not present on the species.  It is computed for the mixture using correlations. The binary diffusivity computing for air (i.e oxygen in nitrogen) is:"
   ]
  },
  {
   "cell_type": "code",
   "execution_count": 23,
   "id": "9f145307",
   "metadata": {},
   "outputs": [
    {
     "data": {
      "text/plain": [
       "array([2.13367825e-05, 2.13367825e-05, 2.13367825e-05, 2.13367825e-05,\n",
       "       2.13367825e-05, 2.13367825e-05, 2.13367825e-05, 2.13367825e-05,\n",
       "       2.13367825e-05])"
      ]
     },
     "execution_count": 23,
     "metadata": {},
     "output_type": "execute_result"
    }
   ],
   "source": [
    "air['pore.diffusivity']"
   ]
  },
  {
   "cell_type": "markdown",
   "id": "20964fab",
   "metadata": {},
   "source": [
    "which is only slightly higher than the commonly accepted value of 2.09e-5."
   ]
  },
  {
   "cell_type": "markdown",
   "id": "1ed52cdd",
   "metadata": {},
   "source": [
    "## Other features of mixtures\n",
    "\n",
    "The various mixture classes offer a few other features, which will be explored below."
   ]
  },
  {
   "cell_type": "markdown",
   "id": "b37a24b5",
   "metadata": {},
   "source": [
    "### Adding and Removing Species\n",
    "\n",
    "You can remove a species:"
   ]
  },
  {
   "cell_type": "code",
   "execution_count": 24,
   "id": "6a1e0338",
   "metadata": {},
   "outputs": [
    {
     "data": {
      "text/plain": [
       "{'phase_02': phase_02 : <openpnm.phase.StandardGas at 0x2b6a71eb400>}"
      ]
     },
     "execution_count": 24,
     "metadata": {},
     "output_type": "execute_result"
    }
   ],
   "source": [
    "air.remove_comp(o2.name)\n",
    "air.components"
   ]
  },
  {
   "cell_type": "markdown",
   "id": "16e65acf",
   "metadata": {},
   "source": [
    "----\n",
    "💡 **ProTip!** A species is considered a component of a mixture *if and only if* ``'pore.mole_fraction.<species.name>'`` appears in the mixture dictionary. Adding and removing the corresponding array from the dictionary is literally how the components are defined. For instance:"
   ]
  },
  {
   "cell_type": "code",
   "execution_count": 25,
   "id": "54aa4b9c",
   "metadata": {},
   "outputs": [
    {
     "data": {
      "text/plain": [
       "{}"
      ]
     },
     "execution_count": 25,
     "metadata": {},
     "output_type": "execute_result"
    }
   ],
   "source": [
    "del air['pore.mole_fraction.' + n2.name]\n",
    "air.components"
   ]
  },
  {
   "cell_type": "markdown",
   "id": "f242e651",
   "metadata": {},
   "source": [
    "They can be readded in the same way:"
   ]
  },
  {
   "cell_type": "code",
   "execution_count": 26,
   "id": "98b26e4b",
   "metadata": {},
   "outputs": [
    {
     "data": {
      "text/plain": [
       "{'phase_02': phase_02 : <openpnm.phase.StandardGas at 0x2b6a71eb400>}"
      ]
     },
     "execution_count": 26,
     "metadata": {},
     "output_type": "execute_result"
    }
   ],
   "source": [
    "air['pore.mole_fraction.' + n2.name] = 0.79\n",
    "air.components"
   ]
  },
  {
   "cell_type": "markdown",
   "id": "4f270ad2",
   "metadata": {},
   "source": [
    "But there is a specific method for this:"
   ]
  },
  {
   "cell_type": "code",
   "execution_count": 27,
   "id": "beb1266e",
   "metadata": {},
   "outputs": [
    {
     "data": {
      "text/plain": [
       "{'phase_02': phase_02 : <openpnm.phase.StandardGas at 0x2b6a71eb400>,\n",
       " 'phase_01': phase_01 : <openpnm.phase.StandardGas at 0x2b6a15bd270>}"
      ]
     },
     "execution_count": 27,
     "metadata": {},
     "output_type": "execute_result"
    }
   ],
   "source": [
    "air.add_comp(o2, mole_fraction=0.21)\n",
    "air.components"
   ]
  },
  {
   "cell_type": "markdown",
   "id": "a7b912f4",
   "metadata": {},
   "source": [
    "----"
   ]
  },
  {
   "cell_type": "markdown",
   "id": "4be67b2a",
   "metadata": {},
   "source": [
    "### Check Consistency of Mixture\n",
    "\n",
    "You can also check the health of the mixture, such as whether all the mole fractions add to 1.0 each each pore:"
   ]
  },
  {
   "cell_type": "code",
   "execution_count": null,
   "id": "125c84bc",
   "metadata": {},
   "outputs": [],
   "source": [
    "print(air.check_mixture_health())"
   ]
  },
  {
   "cell_type": "code",
   "execution_count": 29,
   "id": "afdb6dd9",
   "metadata": {},
   "outputs": [
    {
     "name": "stdout",
     "output_type": "stream",
     "text": [
      "――――――――――――――――――――――――――――――――――――――――――――――――――――――――――――――――――――――――――――――\n",
      "Key                                 Value\n",
      "――――――――――――――――――――――――――――――――――――――――――――――――――――――――――――――――――――――――――――――\n",
      "mole_fraction_too_low               (9,)\n",
      "mole_fraction_too_high              []\n",
      "――――――――――――――――――――――――――――――――――――――――――――――――――――――――――――――――――――――――――――――\n"
     ]
    }
   ],
   "source": [
    "air.y(o2.name, 0.1)\n",
    "print(air.check_mixture_health())"
   ]
  },
  {
   "cell_type": "markdown",
   "id": "62dd1947",
   "metadata": {},
   "source": [
    "### Retrieving Species Properties\n",
    "\n",
    "Lastly, the properties of the individual species can be retrieved from the mixture as follows:"
   ]
  },
  {
   "cell_type": "code",
   "execution_count": null,
   "id": "15280faf",
   "metadata": {},
   "outputs": [],
   "source": [
    "air.get_comp_vals('pore.viscosity')"
   ]
  },
  {
   "cell_type": "markdown",
   "id": "6cf26706",
   "metadata": {},
   "source": [
    "----\n",
    "💡 **ProTip!**  It is also possible to use the ``*`` notation as follows:"
   ]
  },
  {
   "cell_type": "code",
   "execution_count": 28,
   "id": "dfcd5542",
   "metadata": {},
   "outputs": [
    {
     "data": {
      "text/plain": [
       "{'phase_02': array([1.69779528e-05, 1.69779528e-05, 1.69779528e-05, 1.69779528e-05,\n",
       "        1.69779528e-05, 1.69779528e-05, 1.69779528e-05, 1.69779528e-05,\n",
       "        1.69779528e-05]),\n",
       " 'phase_01': array([2.09391006e-05, 2.09391006e-05, 2.09391006e-05, 2.09391006e-05,\n",
       "        2.09391006e-05, 2.09391006e-05, 2.09391006e-05, 2.09391006e-05,\n",
       "        2.09391006e-05])}"
      ]
     },
     "execution_count": 28,
     "metadata": {},
     "output_type": "execute_result"
    }
   ],
   "source": [
    "air['pore.viscosity.*']"
   ]
  },
  {
   "cell_type": "markdown",
   "id": "8f480f41",
   "metadata": {},
   "source": [
    "The reason the ``*`` notation is needed is that ``'pore.viscosity'`` is already taken by the mixture viscosity.  Ideally, ``air['pore.viscosity']`` should trigger the lookup of the species values. It was briefly considered that all mixture properties should be labelled ``'pore.viscosity.mixture'``, which would have allowed for ``air['pore.viscosity']`` to trigger the return of the mixture viscosity and all components in a dictionary, but this added a lot of complications behind the scenes so the idea was dropped. As a work around, the ``*`` notation was added to the ``__getitem__`` method such that any dictionary lookups with a key that ends in ``*`` trigger a lookup of the requested property on any component species.\n",
    "\n",
    "----"
   ]
  }
 ],
 "metadata": {
  "kernelspec": {
   "display_name": "Python 3 (ipykernel)",
   "language": "python",
   "name": "python3"
  },
  "language_info": {
   "codemirror_mode": {
    "name": "ipython",
    "version": 3
   },
   "file_extension": ".py",
   "mimetype": "text/x-python",
   "name": "python",
   "nbconvert_exporter": "python",
   "pygments_lexer": "ipython3",
   "version": "3.9.7"
  }
 },
 "nbformat": 4,
 "nbformat_minor": 5
}

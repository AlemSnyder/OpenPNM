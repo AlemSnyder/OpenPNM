{
 "cells": [
  {
   "cell_type": "markdown",
   "id": "5172ee2e",
   "metadata": {},
   "source": [
    "# Data Storage in OpenPNM: Dictionaries and Numpy Arrays"
   ]
  },
  {
   "cell_type": "code",
   "execution_count": 1,
   "id": "097b12ad",
   "metadata": {},
   "outputs": [],
   "source": [
    "import openpnm as op"
   ]
  }
 ],
 "metadata": {
  "kernelspec": {
   "display_name": "Python 3 (ipykernel)",
   "language": "python",
   "name": "python3"
  },
  "language_info": {
   "codemirror_mode": {
    "name": "ipython",
    "version": 3
   },
   "file_extension": ".py",
   "mimetype": "text/x-python",
   "name": "python",
   "nbconvert_exporter": "python",
   "pygments_lexer": "ipython3",
   "version": "3.9.7"
  }
 },
 "nbformat": 4,
 "nbformat_minor": 5
}

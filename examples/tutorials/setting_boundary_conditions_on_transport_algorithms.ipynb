{
 "cells": [
  {
   "cell_type": "markdown",
   "id": "1b0a8ad3",
   "metadata": {},
   "source": [
    "# Adding, Removing, and Changing Boundary Conditions"
   ]
  },
  {
   "cell_type": "code",
   "execution_count": 2,
   "id": "8afe5565",
   "metadata": {},
   "outputs": [],
   "source": [
    "import openpnm as op\n",
    "import numpy as np"
   ]
  },
  {
   "cell_type": "markdown",
   "id": "93487911",
   "metadata": {},
   "source": [
    "Start by creating a basic 'demo' network and phase object:"
   ]
  },
  {
   "cell_type": "code",
   "execution_count": 18,
   "id": "37838c7b",
   "metadata": {},
   "outputs": [],
   "source": [
    "pn = op.network.Demo(shape=[4, 4, 1])\n",
    "water = op.phase.Water(network=pn)\n",
    "water.add_model_collection(op.models.collections.physics.standard)\n",
    "water.regenerate_models()"
   ]
  },
  {
   "cell_type": "markdown",
   "id": "24d493cc",
   "metadata": {},
   "source": [
    "## Initialize a Transport Algorithm\n",
    "Now initialize a transport algorithm, in this case diffusion:"
   ]
  },
  {
   "cell_type": "code",
   "execution_count": 34,
   "id": "d97d6340",
   "metadata": {},
   "outputs": [],
   "source": [
    "fd = op.algorithms.FickianDiffusion(network=pn, phase=water)"
   ]
  },
  {
   "cell_type": "markdown",
   "id": "795420da",
   "metadata": {},
   "source": [
    "All transport algorithms have two arrays pre-defined on them for storing **rate** and **value** boundary conditions, ``'pore.bc.rate'`` and ``'pore.bc.value'``. They both initially contain all ``nans`` which is interpreted to mean no boundary conditions are applied in the corresponding pores. "
   ]
  },
  {
   "cell_type": "code",
   "execution_count": 35,
   "id": "91d0cf2b",
   "metadata": {},
   "outputs": [
    {
     "name": "stdout",
     "output_type": "stream",
     "text": [
      "[nan nan nan nan nan nan nan nan nan nan nan nan nan nan nan nan]\n"
     ]
    }
   ],
   "source": [
    "print(fd['pore.bc.value'])"
   ]
  },
  {
   "cell_type": "code",
   "execution_count": 36,
   "id": "aed6b116",
   "metadata": {},
   "outputs": [
    {
     "name": "stdout",
     "output_type": "stream",
     "text": [
      "[nan nan nan nan nan nan nan nan nan nan nan nan nan nan nan nan]\n"
     ]
    }
   ],
   "source": [
    "print(fd['pore.bc.rate'])"
   ]
  },
  {
   "cell_type": "markdown",
   "id": "86903e88",
   "metadata": {},
   "source": [
    "**Pro Tip**: Omitting the trailing part of a dictionary key will result in the return of a sub-dictionary containing any arrays who have the requested prefix. This can be used to fetch a dictionary containing all available boundary conditions using ``fd['pore.bc']`` as follows:"
   ]
  },
  {
   "cell_type": "code",
   "execution_count": 37,
   "id": "b4b5032e",
   "metadata": {},
   "outputs": [
    {
     "name": "stdout",
     "output_type": "stream",
     "text": [
      "dict_keys(['rate', 'value'])\n"
     ]
    }
   ],
   "source": [
    "print(fd['pore.bc'].keys())"
   ]
  },
  {
   "cell_type": "markdown",
   "id": "91a1717d",
   "metadata": {},
   "source": [
    "## Setting Value Boundary Conditions\n",
    "\n",
    "We can apply 'value' or 'Dirchlet' boundary conditions to the pores on the 'left' side of the domain, which is conveniently already labelled by the network generator.  We can assign a value of 1.0 to *all* the pores by passing in a scalar:"
   ]
  },
  {
   "cell_type": "code",
   "execution_count": 38,
   "id": "e4dbe604",
   "metadata": {},
   "outputs": [],
   "source": [
    "fd.set_value_BC(pores=pn.pores('left'), values=1.0, mode='add')"
   ]
  },
  {
   "cell_type": "markdown",
   "id": "50c8f299",
   "metadata": {},
   "source": [
    "Now when we inspect the 'pore.bc.value' array we can see the 1.0 added to the specified locations:"
   ]
  },
  {
   "cell_type": "code",
   "execution_count": 39,
   "id": "d2598643",
   "metadata": {},
   "outputs": [
    {
     "name": "stdout",
     "output_type": "stream",
     "text": [
      "[ 1.  1.  1.  1. nan nan nan nan nan nan nan nan nan nan nan nan]\n"
     ]
    }
   ],
   "source": [
    "print(fd['pore.bc.value'])"
   ]
  },
  {
   "cell_type": "markdown",
   "id": "4caa738b",
   "metadata": {},
   "source": [
    "We can also specify a unique value for each pore by passing in an array:"
   ]
  },
  {
   "cell_type": "code",
   "execution_count": 40,
   "id": "fae2cac8",
   "metadata": {},
   "outputs": [],
   "source": [
    "vals = np.random.rand(pn.num_pores('front'))*10.0\n",
    "fd.set_value_BC(pores=pn.pores('front'), values=vals, mode='add')"
   ]
  },
  {
   "cell_type": "markdown",
   "id": "82818852",
   "metadata": {},
   "source": [
    "Printing the 'pore.bc.value' array again reveals a problem"
   ]
  },
  {
   "cell_type": "code",
   "execution_count": 41,
   "id": "600a22e9",
   "metadata": {},
   "outputs": [
    {
     "name": "stdout",
     "output_type": "stream",
     "text": [
      "[1.         1.         1.         1.         7.01518322        nan\n",
      "        nan        nan 3.57992658        nan        nan        nan\n",
      " 9.35366259        nan        nan        nan]\n"
     ]
    }
   ],
   "source": [
    "print(fd['pore.bc.value'])"
   ]
  },
  {
   "cell_type": "markdown",
   "id": "4b180e22",
   "metadata": {},
   "source": [
    "Although we added values to 4 locations, only 3 were written, and the pre-existing values of 1.0 all remained. This is because we used ``mode='add'`` for both cases, which does *not* overwrite any pre-existing values. We need to remove the values from the locations first:"
   ]
  },
  {
   "cell_type": "code",
   "execution_count": 42,
   "id": "ea55348d",
   "metadata": {},
   "outputs": [
    {
     "name": "stdout",
     "output_type": "stream",
     "text": [
      "[6.03773194 1.         1.         1.         7.01518322        nan\n",
      "        nan        nan 3.57992658        nan        nan        nan\n",
      " 9.35366259        nan        nan        nan]\n"
     ]
    }
   ],
   "source": [
    "fd.set_value_BC(pores=pn.pores('front'), mode='remove')\n",
    "fd.set_value_BC(pores=pn.pores('front'), values=vals, mode='add')\n",
    "print(fd['pore.bc.value'])"
   ]
  },
  {
   "cell_type": "markdown",
   "id": "f2c753df",
   "metadata": {},
   "source": [
    "Now we can see that the 1.0 in pore 0 has been filled with a random number.  There is a convenient short-cut for this using ``mode='overwrite'``:"
   ]
  },
  {
   "cell_type": "code",
   "execution_count": 43,
   "id": "63da6a19",
   "metadata": {},
   "outputs": [
    {
     "name": "stdout",
     "output_type": "stream",
     "text": [
      "[ 2.  1.  1.  1.  2. nan nan nan  2. nan nan nan  2. nan nan nan]\n"
     ]
    }
   ],
   "source": [
    "fd.set_value_BC(pores=pn.pores('front'), values=2.0, mode='overwrite')\n",
    "print(fd['pore.bc.value'])"
   ]
  },
  {
   "cell_type": "markdown",
   "id": "39159935",
   "metadata": {},
   "source": [
    "**Pro Tip**: The mode argument can be a list of modes, which are each applied in order, so the 'overwrite' behavior can be achieved with ``mode=['remove', 'add']``.  Another useful option may be to clear all existing values the adding new ones, as follows:"
   ]
  },
  {
   "cell_type": "code",
   "execution_count": 44,
   "id": "db441763",
   "metadata": {},
   "outputs": [
    {
     "name": "stdout",
     "output_type": "stream",
     "text": [
      "[ 2. nan nan nan  2. nan nan nan  2. nan nan nan  2. nan nan nan]\n"
     ]
    }
   ],
   "source": [
    "fd.set_value_BC(pores=pn.pores('front'), values=2.0, mode=['clear', 'add'])\n",
    "print(fd['pore.bc.value'])"
   ]
  },
  {
   "cell_type": "markdown",
   "id": "4995dfc6",
   "metadata": {},
   "source": [
    "## Adding Rate Boundary Conditions\n",
    "\n",
    "Adding rate boundary conditions is done in exactly the same manner as value conditions described above, but via the ``set_rate_BC`` method. One special consideration when using rate boundary conditions is that they *must* be combined with a value boundary condition. Therefore, in this section we'll look at the situation of defining two different types of boundary conditions at the same time. \n",
    "\n",
    "When applying rate conditions to pores without any pre-existing value condtions, there is no problem. However, if one wishes to overwrite value BCs with rate BCs (or vice-versa) special treatment is required. To add rate BCs to pores that already have rate BCs one just needs to use ``mode='overwrite'``.  Howver, to add rate BCs to pores with *value* BCs then it is necessary to first remove the values from the target locations since value and rate conditions cannot exist in the same pores.  \n",
    "\n",
    "Firstly, let's try to add rate BCs and note that nothing is written:"
   ]
  },
  {
   "cell_type": "code",
   "execution_count": 45,
   "id": "1b8291a9",
   "metadata": {},
   "outputs": [
    {
     "name": "stderr",
     "output_type": "stream",
     "text": [
      "------------------------------------------------------------\n",
      "    WARNING    : No valid pore locations were specified \n",
      "    SOURCE     : openpnm.algorithms._generic_algorithm.set_BC \n",
      "    TIME STAMP : 2022-06-30 21:38:59,714    \n",
      "------------------------------------------------------------\n"
     ]
    },
    {
     "name": "stdout",
     "output_type": "stream",
     "text": [
      "[nan nan nan nan nan nan nan nan nan nan nan nan nan nan nan nan]\n"
     ]
    }
   ],
   "source": [
    "fd.set_rate_BC(pores=pn.pores('front'), rates=2.0, mode='overwrite')\n",
    "print(fd['pore.bc.rate'])"
   ]
  },
  {
   "cell_type": "markdown",
   "id": "3031b7a2",
   "metadata": {},
   "source": [
    "As can be seen the rate BCs were not written anywhere since value BCs were present in the given pores. If we first ``remove`` the values, then we can get the result we want:"
   ]
  },
  {
   "cell_type": "code",
   "execution_count": 46,
   "id": "7250fa8b",
   "metadata": {},
   "outputs": [
    {
     "name": "stdout",
     "output_type": "stream",
     "text": [
      "[ 2.  2.  2.  2. nan nan nan nan nan nan nan nan nan nan nan nan]\n"
     ]
    }
   ],
   "source": [
    "fd.set_value_BC(pores=pn.pores('left'), mode='remove')\n",
    "fd.set_rate_BC(pores=pn.pores('left'), rates=2.0, mode='overwrite')\n",
    "print(fd['pore.bc.rate'])"
   ]
  }
 ],
 "metadata": {
  "kernelspec": {
   "display_name": "Python 3 (ipykernel)",
   "language": "python",
   "name": "python3"
  },
  "language_info": {
   "codemirror_mode": {
    "name": "ipython",
    "version": 3
   },
   "file_extension": ".py",
   "mimetype": "text/x-python",
   "name": "python",
   "nbconvert_exporter": "python",
   "pygments_lexer": "ipython3",
   "version": "3.9.7"
  }
 },
 "nbformat": 4,
 "nbformat_minor": 5
}

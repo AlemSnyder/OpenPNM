{
 "cells": [
  {
   "cell_type": "markdown",
   "metadata": {},
   "source": [
    "# Quick Plotting Networks\n",
    "## Producing Quick and Easy Plots of Topology within OpenPNM\n",
    "\n",
    "The main way to visualize OpenPNM networks is Paraview, but this can be a bit a hassle when building a new network topology that needs quick feedback for troubleshooting. Starting in V1.6, OpenPNM offers two plotting functions for showing pore locations and the connections between them: openpnm.topotools.plot_coordinates and openpnm.topotools.plot_connections. This example demonstrates how to use these two methods."
   ]
  },
  {
   "cell_type": "markdown",
   "metadata": {},
   "source": [
    "## Visualize pore and throats in a 2D network\n",
    "Start by initializing OpenPNM and creating a network. For easier visualization we'll use a 2D network:"
   ]
  },
  {
   "cell_type": "code",
   "execution_count": 1,
   "metadata": {
    "execution": {
     "iopub.execute_input": "2021-06-24T11:32:40.790489Z",
     "iopub.status.busy": "2021-06-24T11:32:40.788891Z",
     "iopub.status.idle": "2021-06-24T11:32:41.503104Z",
     "shell.execute_reply": "2021-06-24T11:32:41.501633Z"
    }
   },
   "outputs": [],
   "source": [
    "import warnings\n",
    "import scipy as sp\n",
    "import numpy as np\n",
    "import openpnm as op\n",
    "import matplotlib.pyplot as plt"
   ]
  },
  {
   "cell_type": "code",
   "execution_count": 2,
   "metadata": {
    "execution": {
     "iopub.execute_input": "2021-06-24T11:32:40.790489Z",
     "iopub.status.busy": "2021-06-24T11:32:40.788891Z",
     "iopub.status.idle": "2021-06-24T11:32:41.503104Z",
     "shell.execute_reply": "2021-06-24T11:32:41.501633Z"
    }
   },
   "outputs": [],
   "source": [
    "np.random.seed(10)\n",
    "ws = op.Workspace()\n",
    "ws.settings['loglevel'] = 40\n",
    "np.set_printoptions(precision=4)\n",
    "net = op.network.Cubic(shape=[5, 5, 1])"
   ]
  },
  {
   "cell_type": "markdown",
   "metadata": {},
   "source": [
    "Next we'll add boundary pores to two sides of the network, to better illustrate these plot commands:"
   ]
  },
  {
   "cell_type": "code",
   "execution_count": 3,
   "metadata": {
    "execution": {
     "iopub.execute_input": "2021-06-24T11:32:41.512905Z",
     "iopub.status.busy": "2021-06-24T11:32:41.509232Z",
     "iopub.status.idle": "2021-06-24T11:32:41.514758Z",
     "shell.execute_reply": "2021-06-24T11:32:41.515932Z"
    }
   },
   "outputs": [],
   "source": [
    "net['pore.internal'] = True\n",
    "net.add_boundary_pores(['left', 'right'])"
   ]
  },
  {
   "cell_type": "markdown",
   "metadata": {},
   "source": [
    "Now let's use ``plot_coordinates`` to plot the pore centers in a 3D plot, starting with the internal pores:"
   ]
  },
  {
   "cell_type": "code",
   "execution_count": 20,
   "metadata": {
    "execution": {
     "iopub.execute_input": "2021-06-24T11:32:41.599955Z",
     "iopub.status.busy": "2021-06-24T11:32:41.593453Z",
     "iopub.status.idle": "2021-06-24T11:32:41.739087Z",
     "shell.execute_reply": "2021-06-24T11:32:41.740237Z"
    }
   },
   "outputs": [
    {
     "data": {
      "image/png": "[encoded data removed]",
      "text/plain": [
       "<Figure size 432x288 with 1 Axes>"
      ]
     },
     "metadata": {
      "needs_background": "light"
     },
     "output_type": "display_data"
    }
   ],
   "source": [
    "ax = op.topotools.plot_coordinates(network=net, pores=net.pores('internal'), \n",
    "                                   markersize=50, c='r')"
   ]
  },
  {
   "cell_type": "markdown",
   "metadata": {},
   "source": [
    "Note that the above call to `plot_coordinates` returns a figure handle fig. This can be passed into subsequent plotting methods to overlay points."
   ]
  },
  {
   "cell_type": "code",
   "execution_count": 21,
   "metadata": {
    "execution": {
     "iopub.execute_input": "2021-06-24T11:32:41.761999Z",
     "iopub.status.busy": "2021-06-24T11:32:41.758707Z",
     "iopub.status.idle": "2021-06-24T11:32:41.821676Z",
     "shell.execute_reply": "2021-06-24T11:32:41.822794Z"
    }
   },
   "outputs": [],
   "source": [
    "Ps = net.pores('*boundary')\n",
    "ax = op.topotools.plot_coordinates(network=net, pores=Ps, ax=ax, \n",
    "                                   markersize=50, c='b')"
   ]
  },
  {
   "cell_type": "markdown",
   "metadata": {},
   "source": [
    "Next, let's add lines to the above plot indicating the throat connections. Again, by reusing the fig \n",
    "object we can overlay more information:"
   ]
  },
  {
   "cell_type": "code",
   "execution_count": 22,
   "metadata": {
    "execution": {
     "iopub.execute_input": "2021-06-24T11:32:41.829948Z",
     "iopub.status.busy": "2021-06-24T11:32:41.828694Z",
     "iopub.status.idle": "2021-06-24T11:32:41.910744Z",
     "shell.execute_reply": "2021-06-24T11:32:41.911907Z"
    }
   },
   "outputs": [
    {
     "data": {
      "text/plain": [
       "<matplotlib.collections.LineCollection at 0x1fa42edfd30>"
      ]
     },
     "execution_count": 22,
     "metadata": {},
     "output_type": "execute_result"
    }
   ],
   "source": [
    "Ts = net.find_neighbor_throats(pores=Ps)\n",
    "op.topotools.plot_connections(network=net, throats=Ts, ax=ax, c='b')\n",
    "Ts = net.find_neighbor_throats(pores=net.pores('internal'), mode='xnor')\n",
    "op.topotools.plot_connections(network=net, throats=Ts, ax=ax, c='r')"
   ]
  },
  {
   "cell_type": "markdown",
   "metadata": {},
   "source": [
    "These two methods are meant for quick and rough visualizations.  If you require high quality 3D images, you should use Paraview:\n",
    "\n",
    "<img src=\"https://i.imgur.com/uSBVFi9.png\" style=\"width: 60%\" align=\"left\"/>"
   ]
  },
  {
   "cell_type": "markdown",
   "metadata": {},
   "source": [
    "## Visualize in 3D too\n",
    "\n",
    "The ``plot_connections`` and ``plot_coordinates`` methods also work in 3D."
   ]
  },
  {
   "cell_type": "code",
   "execution_count": null,
   "metadata": {
    "execution": {
     "iopub.execute_input": "2021-06-24T11:32:41.918775Z",
     "iopub.status.busy": "2021-06-24T11:32:41.917363Z",
     "iopub.status.idle": "2021-06-24T11:32:42.470488Z",
     "shell.execute_reply": "2021-06-24T11:32:42.471360Z"
    }
   },
   "outputs": [],
   "source": [
    "net = op.network.Voronoi(points=100, shape=[1, 1, 1])\n",
    "fig, ax = plt.subplots(figsize=(10, 10))\n",
    "op.topotools.plot_connections(network=net, c='g', ax=ax)\n",
    "op.topotools.plot_coordinates(network=net, c='r', \n",
    "                              ax=ax, markersize=30)"
   ]
  },
  {
   "cell_type": "markdown",
   "metadata": {},
   "source": [
    "The above plot is a static image generated at a default angle.  It is possible to get an interactive window that can be rotated and zoomed.  This is done by entering ``%matplotlib notebook`` at the top of the notebook.  To return to the default behavior, use ``%matplotlib inline``."
   ]
  },
  {
   "cell_type": "markdown",
   "metadata": {},
   "source": [
    "Any arguments passed to either plot function that are not expected will be passed onto the matplotlib ``plot`` command which is used to generate these graphs.  This means you can adjust the appearance to the extent that you can figure out which commands to send to ``plot``.  For instance, the following code creates fatter lines and makes them slightly transparent, then the markers are changed to an 'x' and their size is selected randomly."
   ]
  },
  {
   "cell_type": "code",
   "execution_count": null,
   "metadata": {
    "execution": {
     "iopub.execute_input": "2021-06-24T11:32:42.513194Z",
     "iopub.status.busy": "2021-06-24T11:32:42.512167Z",
     "iopub.status.idle": "2021-06-24T11:32:42.929396Z",
     "shell.execute_reply": "2021-06-24T11:32:42.930121Z"
    }
   },
   "outputs": [],
   "source": [
    "fig, ax = plt.subplots(figsize=(10, 10))\n",
    "op.topotools.plot_connections(network=net, c='g',\n",
    "                              linewidth=3, alpha=0.5, ax=ax)\n",
    "op.topotools.plot_coordinates(network=net, c='r', \n",
    "                              markersize=np.random.rand(net.Np)*100, \n",
    "                              marker='x', ax=ax)  "
   ]
  }
 ],
 "metadata": {
  "@webio": {
   "lastCommId": null,
   "lastKernelId": null
  },
  "kernelspec": {
   "display_name": "Python 3 (ipykernel)",
   "language": "python",
   "name": "python3"
  },
  "language_info": {
   "codemirror_mode": {
    "name": "ipython",
    "version": 3
   },
   "file_extension": ".py",
   "mimetype": "text/x-python",
   "name": "python",
   "nbconvert_exporter": "python",
   "pygments_lexer": "ipython3",
   "version": "3.9.7"
  }
 },
 "nbformat": 4,
 "nbformat_minor": 2
}

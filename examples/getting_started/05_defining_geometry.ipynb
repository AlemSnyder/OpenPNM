{
 "cells": [
  {
   "cell_type": "markdown",
   "id": "38d84418",
   "metadata": {},
   "source": [
    "# Assigning Geometric Properties"
   ]
  },
  {
   "cell_type": "code",
   "execution_count": 1,
   "id": "94917bac",
   "metadata": {},
   "outputs": [],
   "source": [
    "import numpy as np\n",
    "import matplotlib.pyplot as plt\n",
    "import openpnm as op"
   ]
  },
  {
   "cell_type": "markdown",
   "id": "f63bbaee",
   "metadata": {},
   "source": [
    "Let's start by creating a blank Cubic network.  As we can see by printing it, there only coordinates, connections, and some labels, but no geometric properties:"
   ]
  },
  {
   "cell_type": "code",
   "execution_count": 2,
   "id": "142050f5",
   "metadata": {},
   "outputs": [
    {
     "name": "stdout",
     "output_type": "stream",
     "text": [
      "\n",
      "══════════════════════════════════════════════════════════════════════════════\n",
      "net : <openpnm.network.Cubic at 0x210ce189bd0>\n",
      "――――――――――――――――――――――――――――――――――――――――――――――――――――――――――――――――――――――――――――――\n",
      "  #  Properties                                                   Valid Values\n",
      "――――――――――――――――――――――――――――――――――――――――――――――――――――――――――――――――――――――――――――――\n",
      "  1  pore.coords                                                   8000 / 8000\n",
      "  2  throat.conns                                                22800 / 22800\n",
      "――――――――――――――――――――――――――――――――――――――――――――――――――――――――――――――――――――――――――――――\n",
      "  #  Labels                                                 Assigned Locations\n",
      "――――――――――――――――――――――――――――――――――――――――――――――――――――――――――――――――――――――――――――――\n",
      "  1  pore.back                                                             400\n",
      "  2  pore.bottom                                                           400\n",
      "  3  pore.front                                                            400\n",
      "  4  pore.left                                                             400\n",
      "  5  pore.right                                                            400\n",
      "  6  pore.surface                                                         2168\n",
      "  7  pore.top                                                              400\n",
      "  8  throat.surface                                                       4332\n",
      "――――――――――――――――――――――――――――――――――――――――――――――――――――――――――――――――――――――――――――――\n"
     ]
    }
   ],
   "source": [
    "pn = op.network.Cubic([20, 20, 20], spacing=5e-5)\n",
    "print(pn)"
   ]
  },
  {
   "cell_type": "markdown",
   "id": "d7e40b76",
   "metadata": {},
   "source": [
    "> In OpenPNM V3 we have removed the concept of ``Geometry`` and ``Physics`` objects, in favor of placing all the properties on the ``Network`` and ``Phase`` objects instead. "
   ]
  },
  {
   "cell_type": "markdown",
   "id": "35629fd2",
   "metadata": {},
   "source": [
    "To add geometrical properties to a network, we have a few different options.  Each will be explored below:"
   ]
  },
  {
   "cell_type": "markdown",
   "id": "51da4915",
   "metadata": {},
   "source": [
    "## Manually Calculating Properties\n",
    "\n",
    "> This is not the preferred way to do things, but does illustrate the processes very well. The preferred way is using pore-scale models, which allow for the automatic regeneration of dependent properities when something changes. \n",
    "\n",
    "Let's start by adding pore and throat size distributions.  There are a few different ways to do this, and we'll explore each one just to be thorough.  "
   ]
  },
  {
   "cell_type": "markdown",
   "id": "f7ad8f43",
   "metadata": {},
   "source": [
    "### Adding pore and throat sizes from `scipy.stats` distributions\n",
    "\n",
    "Scipy's `stats` module has a *lot* of statistical distributions defined.  Let's generate pore and throat sizes using some of these.  First, let's use a normal distribution to generate pore sizes within the range ~1 to 50 um:"
   ]
  },
  {
   "cell_type": "code",
   "execution_count": 3,
   "id": "7f638068",
   "metadata": {},
   "outputs": [
    {
     "data": {
      "image/png": "[encoded data removed]",
      "text/plain": [
       "<Figure size 432x288 with 1 Axes>"
      ]
     },
     "metadata": {
      "needs_background": "light"
     },
     "output_type": "display_data"
    }
   ],
   "source": [
    "np.random.seed(0)\n",
    "import scipy.stats as spst\n",
    "psd = spst.norm.rvs(loc=25, scale=6, size=pn.Np)\n",
    "plt.hist(psd, edgecolor='k')\n",
    "plt.xlim([0, 50]);"
   ]
  },
  {
   "cell_type": "markdown",
   "id": "da11cebf",
   "metadata": {},
   "source": [
    "The above distribution looks good, let's just make absolutely sure that our distribution is not so wide that it has negative numbers or values greater than 50 um:"
   ]
  },
  {
   "cell_type": "code",
   "execution_count": 4,
   "id": "8efcd33a",
   "metadata": {},
   "outputs": [
    {
     "name": "stdout",
     "output_type": "stream",
     "text": [
      "2.5593961722893255\n",
      "47.80996128980269\n"
     ]
    }
   ],
   "source": [
    "print(psd.min())\n",
    "print(psd.max())"
   ]
  },
  {
   "cell_type": "markdown",
   "id": "59b3a0eb",
   "metadata": {},
   "source": [
    "Now we'll convert these values to SI and assign to the network:"
   ]
  },
  {
   "cell_type": "code",
   "execution_count": 5,
   "id": "98c6c031",
   "metadata": {},
   "outputs": [],
   "source": [
    "pn['pore.diameter'] = psd*1e-6"
   ]
  },
  {
   "cell_type": "markdown",
   "id": "d3e52c17",
   "metadata": {},
   "source": [
    "Next we need to define throat diameters. We can do this in the same way, but let's use a different distribution.  Note that this approach is not recommended because as we'll see it results in throats that are larger than the two pores they are connected two.  We'll fix this in the following section:"
   ]
  },
  {
   "cell_type": "code",
   "execution_count": 6,
   "id": "3dd8c095",
   "metadata": {},
   "outputs": [
    {
     "data": {
      "image/png": "[encoded data removed]",
      "text/plain": [
       "<Figure size 432x288 with 1 Axes>"
      ]
     },
     "metadata": {
      "needs_background": "light"
     },
     "output_type": "display_data"
    }
   ],
   "source": [
    "np.random.seed(0)\n",
    "tsd = spst.weibull_min.rvs(c=1.5, loc=.5, scale=7.5, size=pn.Nt)\n",
    "plt.hist(tsd, edgecolor='k')\n",
    "plt.xlim([0, 50]);"
   ]
  },
  {
   "cell_type": "markdown",
   "id": "60cc7cb1",
   "metadata": {},
   "source": [
    "Again, let's inspect the high and low values:"
   ]
  },
  {
   "cell_type": "code",
   "execution_count": 7,
   "id": "6dee2380",
   "metadata": {},
   "outputs": [
    {
     "name": "stdout",
     "output_type": "stream",
     "text": [
      "0.5130345457395142\n",
      "36.96861960231873\n"
     ]
    }
   ],
   "source": [
    "print(tsd.min())\n",
    "print(tsd.max())"
   ]
  },
  {
   "cell_type": "markdown",
   "id": "9fb4889c",
   "metadata": {},
   "source": [
    "So we can see that we have throats as small as 500 nm, and as large as 37 um.  These can be assigned to the network as well:"
   ]
  },
  {
   "cell_type": "code",
   "execution_count": 8,
   "id": "e1cf0757",
   "metadata": {},
   "outputs": [],
   "source": [
    "pn['throat.diameter'] = tsd*1e-6"
   ]
  },
  {
   "cell_type": "markdown",
   "id": "73a09aab",
   "metadata": {},
   "source": [
    "The problem with this approach is that both pore and throat sizes were just assigned to random locations, rather than putting small throats between small pores and vice-versa. When throats are larger than the pores they connect it can cause problems or strangeness in the results since we generally assume a throat is a constriction between two pores.  Let's count how many are problematic."
   ]
  },
  {
   "cell_type": "code",
   "execution_count": 9,
   "id": "a6e0cbbd",
   "metadata": {},
   "outputs": [],
   "source": [
    "hits = np.any(pn['pore.diameter'][pn.conns].T < pn['throat.diameter'], axis=0)"
   ]
  },
  {
   "cell_type": "code",
   "execution_count": 10,
   "id": "b27b6342",
   "metadata": {},
   "outputs": [
    {
     "data": {
      "text/plain": [
       "564"
      ]
     },
     "execution_count": 10,
     "metadata": {},
     "output_type": "execute_result"
    }
   ],
   "source": [
    "hits.sum()"
   ]
  },
  {
   "cell_type": "markdown",
   "id": "f403af58",
   "metadata": {},
   "source": [
    "> 💡 **ProTip! - Indexing pore properties by `conns`**\n",
    "> \n",
    "> Using the ``conns`` array to index into a pore property returns an Nt-by-2 array with the properties of the pores on the end of a throat in each column.  For instance, so see the diameter of the pore on each end of a throat, use ``pn['pore.diameter'][pn.conns]``.  This approach is very powerful.  If you ever feel tempted to use a for-loop to scan over each pore, then inspect the properties of the neighboring throats, consider instead if you can \"loop\" over the throats then interogate each pore.  If yes, then you can use this conns-indexing trick."
   ]
  },
  {
   "cell_type": "code",
   "execution_count": 159,
   "id": "888d231d",
   "metadata": {},
   "outputs": [],
   "source": [
    "def spheres_and_cylinders(\n",
    "    network,\n",
    "    pore_diameter='pore.diameter',\n",
    "    throat_diameter='throat.diameter',\n",
    "    throat_centroid='throat.centroid',\n",
    "):\n",
    "    import numpy as _np\n",
    "    xyz = network.coords\n",
    "    cn = network.conns\n",
    "    L = network['throat.spacing']\n",
    "    Dt = network[throat_diameter]\n",
    "    D1 = network[pore_diameter][cn[:, 0]]\n",
    "    D2 = network[pore_diameter][cn[:, 1]]\n",
    "    L1 = _np.zeros_like(L)\n",
    "    L2 = _np.zeros_like(L)\n",
    "    # Handle the case where Dt > Dp\n",
    "    mask = Dt > D1\n",
    "    L1[mask] = 0.5 * D1[mask]\n",
    "    L1[~mask] = _np.sqrt(D1[~mask]**2 - Dt[~mask]**2) / 2\n",
    "    mask = Dt > D2\n",
    "    L2[mask] = 0.5 * D2[mask]\n",
    "    L2[~mask] = _np.sqrt(D2[~mask]**2 - Dt[~mask]**2) / 2\n",
    "    # Handle non-colinear pores and throat centroids\n",
    "    try:\n",
    "        TC = network[throat_centroid]\n",
    "        LP1T = _np.linalg.norm(TC - xyz[cn[:, 0]], axis=1) + 1e-15\n",
    "        LP2T = _np.linalg.norm(TC - xyz[cn[:, 1]], axis=1) + 1e-15\n",
    "        unit_vec_P1T = (TC - xyz[cn[:, 0]]) / LP1T[:, None]\n",
    "        unit_vec_P2T = (TC - xyz[cn[:, 1]]) / LP2T[:, None]\n",
    "    except KeyError:\n",
    "        unit_vec_P1T = (xyz[cn[:, 1]] - xyz[cn[:, 0]]) / L[:, None]\n",
    "        unit_vec_P2T = -1 * unit_vec_P1T\n",
    "    # Find throat endpoints\n",
    "    EP1 = xyz[cn[:, 0]] + L1[:, None] * unit_vec_P1T\n",
    "    EP2 = xyz[cn[:, 1]] + L2[:, None] * unit_vec_P2T\n",
    "    # Handle throats w/ overlapping pores\n",
    "    L1 = (4 * L**2 + D1**2 - D2**2) / (8 * L)\n",
    "    L2 = (4 * L**2 + D2**2 - D1**2) / (8 * L)\n",
    "    h = (2 * _np.sqrt(D1**2 / 4 - L1**2)).real\n",
    "    overlap = L - 0.5 * (D1 + D2) < 0\n",
    "    mask = overlap & (Dt < h)\n",
    "    EP1[mask] = (xyz[cn[:, 0]] + L1[:, None] * unit_vec_P1T)[mask]\n",
    "    EP2[mask] = (xyz[cn[:, 1]] + L2[:, None] * unit_vec_P2T)[mask]\n",
    "    return {'head': EP1, 'tail': EP2}"
   ]
  },
  {
   "cell_type": "code",
   "execution_count": 325,
   "id": "83aaaa77",
   "metadata": {},
   "outputs": [
    {
     "data": {
      "image/png": "[encoded data removed]",
      "text/plain": [
       "<Figure size 720x360 with 1 Axes>"
      ]
     },
     "metadata": {
      "needs_background": "light"
     },
     "output_type": "display_data"
    }
   ],
   "source": [
    "import numpy as np\n",
    "from matplotlib.patches import Circle, Wedge, Polygon, Rectangle\n",
    "from matplotlib.collections import PatchCollection\n",
    "import matplotlib.pyplot as plt\n",
    "\n",
    "throat = 20\n",
    "P1, P2 = op.topotools.find_connected_sites(g=pn, bonds=throat)\n",
    "new_net = op.network.Network(coords=pn.coords[[P1, P2], :], conns=np.atleast_2d([0, 1]))\n",
    "new_net.regenerate_models()\n",
    "new_net['pore.diameter'] = pn['pore.diameter'][[P1, P2]]\n",
    "new_net['throat.diameter'] = [pn['throat.diameter'][throat]]\n",
    "new_net['throat.length'] = op.models.geometry.throat_length.circles_and_rectangles(new_net)\n",
    "new_net['throat.endpoints'] = spheres_and_cylinders(new_net)\n",
    "\n",
    "Pcrds = op._skgraph.tools.rotate_coords(new_net['pore.coords'], b=270)\n",
    "fig, ax = plt.subplots(figsize=[10, 5])\n",
    "patches = []\n",
    "for i, P in enumerate([0, 1]):\n",
    "    x, y, r = Pcrds[P, 0], Pcrds[P, 1], new_net['pore.diameter'][P]/2\n",
    "    circle = Circle((x, y), r)\n",
    "    patches.append(circle)\n",
    "Tcrds = np.vstack(list(new_net['throat.endpoints'].values()))\n",
    "Tcrds = op._skgraph.tools.rotate_coords(Tcrds, b=270)\n",
    "H = new_net['throat.diameter'][0]\n",
    "W = new_net['throat.length'][0]\n",
    "R1 = new_net['pore.diameter'][0]/2\n",
    "R2 = new_net['pore.diameter'][1]/2\n",
    "rect = Rectangle(xy=(Tcrds[0, 0], Tcrds[0, 1]-H/2), height=H, width=W)\n",
    "patches.append(rect)\n",
    "p = PatchCollection(patches, alpha=0.5, edgecolor='k', linewidth=3)\n",
    "p.set_array([1, 1, 2])\n",
    "p.cmap = plt.cm.bwr\n",
    "ax.add_collection(p)\n",
    "ax.scatter(*Pcrds[0, :2], marker='+', c='k', s=100)\n",
    "ax.scatter(*Pcrds[1, :2], marker='+', c='k', s=100)\n",
    "left = min(Pcrds[:, 0])-R1\n",
    "right = max(Pcrds[:, 0])+R2\n",
    "ax.set_xlim([left, right])\n",
    "temp = (Pcrds[:, 1]).mean()\n",
    "ax.set_ylim([temp - abs(left-right)/4, temp + abs(left-right)/4]);"
   ]
  },
  {
   "cell_type": "code",
   "execution_count": null,
   "id": "81a9a79c",
   "metadata": {},
   "outputs": [],
   "source": []
  }
 ],
 "metadata": {
  "kernelspec": {
   "display_name": "Python 3 (ipykernel)",
   "language": "python",
   "name": "python3"
  },
  "language_info": {
   "codemirror_mode": {
    "name": "ipython",
    "version": 3
   },
   "file_extension": ".py",
   "mimetype": "text/x-python",
   "name": "python",
   "nbconvert_exporter": "python",
   "pygments_lexer": "ipython3",
   "version": "3.9.7"
  }
 },
 "nbformat": 4,
 "nbformat_minor": 5
}

{
 "cells": [
  {
   "cell_type": "markdown",
   "id": "5172ee2e",
   "metadata": {},
   "source": [
    "# Data Storage in OpenPNM"
   ]
  },
  {
   "cell_type": "markdown",
   "id": "d24cf7d9",
   "metadata": {},
   "source": [
    "OpenPNM uses 2 very common python data structures, so it's best to get comfortable with them right away.  In this example we'll cover:\n",
    "\n",
    "| Topics Covered |\n",
    "| :- |\n",
    "| Python's ``list`` |\n",
    "| Numpy's ``ndarray`` |\n",
    "| Python's `dict` or *dictionary* |\n",
    "| OpenPNM's naming convention |\n",
    "| Data vs Labels in OpenPNM |"
   ]
  },
  {
   "cell_type": "markdown",
   "id": "c8ef6811",
   "metadata": {},
   "source": [
    "## Python Lists: Flexible but Slow\n",
    "First lets quickly look at Python's *array*, which is called a ``list``.  It is indicated by the square brackets:"
   ]
  },
  {
   "cell_type": "code",
   "execution_count": 1,
   "id": "f11dc182",
   "metadata": {},
   "outputs": [],
   "source": [
    "L = [0, 2, 4, 6, 8]"
   ]
  },
  {
   "cell_type": "markdown",
   "id": "32b661dd",
   "metadata": {},
   "source": [
    "You can read and write values as follows:"
   ]
  },
  {
   "cell_type": "code",
   "execution_count": 2,
   "id": "8044b257",
   "metadata": {},
   "outputs": [
    {
     "name": "stdout",
     "output_type": "stream",
     "text": [
      "[32, 2, 4, 6, 8]\n"
     ]
    }
   ],
   "source": [
    "L[0] = L[2]*L[4]\n",
    "print(L)"
   ]
  },
  {
   "cell_type": "markdown",
   "id": "1952522b",
   "metadata": {},
   "source": [
    "Note that Python uses 0-indexing, and also that square brackets are used to index into any sequence."
   ]
  },
  {
   "cell_type": "markdown",
   "id": "e6846474",
   "metadata": {},
   "source": [
    "You can make the ``list`` longer, and remove items:"
   ]
  },
  {
   "cell_type": "code",
   "execution_count": 3,
   "id": "ff50442c",
   "metadata": {},
   "outputs": [
    {
     "name": "stdout",
     "output_type": "stream",
     "text": [
      "[32, 2, 4, 6, 8, 100]\n"
     ]
    }
   ],
   "source": [
    "L.append(100)\n",
    "print(L)"
   ]
  },
  {
   "cell_type": "code",
   "execution_count": 4,
   "id": "9562a42c",
   "metadata": {},
   "outputs": [
    {
     "name": "stdout",
     "output_type": "stream",
     "text": [
      "[32, 2, 6, 8, 100]\n"
     ]
    }
   ],
   "source": [
    "L.pop(2)\n",
    "print(L)"
   ]
  },
  {
   "cell_type": "markdown",
   "id": "128cabfc",
   "metadata": {},
   "source": [
    "However, this list is not very good at math:"
   ]
  },
  {
   "cell_type": "code",
   "execution_count": 5,
   "id": "ea4c14a8",
   "metadata": {},
   "outputs": [
    {
     "name": "stdout",
     "output_type": "stream",
     "text": [
      "Adding to a list assumes you are joining 2 lists\n",
      "[32, 2, 6, 8, 100, 2, 3]\n"
     ]
    }
   ],
   "source": [
    "try:\n",
    "    print(L + 2)\n",
    "except TypeError:\n",
    "    print('Adding to a list assumes you are joining 2 lists')\n",
    "print(L + [2, 3])"
   ]
  },
  {
   "cell_type": "markdown",
   "id": "f83d880b",
   "metadata": {},
   "source": [
    "And multiplication assumes you want to duplicate the list N times:"
   ]
  },
  {
   "cell_type": "code",
   "execution_count": 6,
   "id": "02de8b44",
   "metadata": {},
   "outputs": [
    {
     "name": "stdout",
     "output_type": "stream",
     "text": [
      "[32, 2, 6, 8, 100, 32, 2, 6, 8, 100]\n"
     ]
    }
   ],
   "source": [
    "print(L*2)"
   ]
  },
  {
   "cell_type": "markdown",
   "id": "e9ccec19",
   "metadata": {},
   "source": [
    "The reason the list is not ideal for numerical operations is that *anything* can be stored in each element:"
   ]
  },
  {
   "cell_type": "code",
   "execution_count": 7,
   "id": "3c612173",
   "metadata": {},
   "outputs": [
    {
     "name": "stdout",
     "output_type": "stream",
     "text": [
      "['str', 2, 6, 8, 100]\n"
     ]
    }
   ],
   "source": [
    "L[0] = 'str'\n",
    "print(L)"
   ]
  },
  {
   "cell_type": "markdown",
   "id": "dd7827f4",
   "metadata": {},
   "source": [
    "This is why it's not possible to add or multiply a list, since Python does not necessarily know the meaning of adding an integer and a string (i.e. 'one' + 1.0)."
   ]
  },
  {
   "cell_type": "markdown",
   "id": "aef206a9",
   "metadata": {},
   "source": [
    "## Numpy ``ndarray``: Optimized for Numerics\n",
    "Now let's take a look at the Numpy ``ndarray``. Numpy has been around almost as longs python, and it is used almost exclusively in scientific python because discussed above the native `list` is not very fast. Numpy arrays on the other hand are actually \"C\" arrays behind the scenes so are very fast. The downside is that you must learn a 'mini-language' to use them. The following few code blocks illustrate this.  "
   ]
  },
  {
   "cell_type": "code",
   "execution_count": 8,
   "id": "d113e3fc",
   "metadata": {},
   "outputs": [
    {
     "name": "stdout",
     "output_type": "stream",
     "text": [
      "[ 0 15 30 45 60 75 90]\n"
     ]
    }
   ],
   "source": [
    "import numpy as np\n",
    "a = np.arange(0, 100, 15)\n",
    "print(a)"
   ]
  },
  {
   "cell_type": "markdown",
   "id": "dfa588e4",
   "metadata": {},
   "source": [
    "This is an example of the 'mini-language' that you needs to learn, since ``arange`` is the Numpy version of ``range``.  The Numpy package has hundreds of functions available, and to be proficient with Numpy you need to at least be aware of most of them. "
   ]
  },
  {
   "cell_type": "markdown",
   "id": "bae52efe",
   "metadata": {},
   "source": [
    "List the ``list`` you can index into Numpy arrays for reading and writing:"
   ]
  },
  {
   "cell_type": "code",
   "execution_count": 9,
   "id": "a7fded9e",
   "metadata": {},
   "outputs": [
    {
     "name": "stdout",
     "output_type": "stream",
     "text": [
      "30\n"
     ]
    }
   ],
   "source": [
    "print(a[2])"
   ]
  },
  {
   "cell_type": "code",
   "execution_count": 10,
   "id": "47388a7d",
   "metadata": {},
   "outputs": [
    {
     "name": "stdout",
     "output_type": "stream",
     "text": [
      "[999  15  30  45  60  75  90]\n"
     ]
    }
   ],
   "source": [
    "a[0] = 999\n",
    "print(a)"
   ]
  },
  {
   "cell_type": "markdown",
   "id": "1a8ff417",
   "metadata": {},
   "source": [
    "You can also use what is called 'fancy indexing', which allow you to index into an ``ndarray`` with another array:"
   ]
  },
  {
   "cell_type": "code",
   "execution_count": 11,
   "id": "8630d254",
   "metadata": {},
   "outputs": [
    {
     "name": "stdout",
     "output_type": "stream",
     "text": [
      "[999  30  60]\n"
     ]
    }
   ],
   "source": [
    "print(a[[0, 2, 4]])"
   ]
  },
  {
   "cell_type": "markdown",
   "id": "cf21d771",
   "metadata": {},
   "source": [
    "You can set multiple locations with a single value:"
   ]
  },
  {
   "cell_type": "code",
   "execution_count": 12,
   "id": "7b03303e",
   "metadata": {},
   "outputs": [
    {
     "name": "stdout",
     "output_type": "stream",
     "text": [
      "[-100   15 -100   45 -100   75   90]\n"
     ]
    }
   ],
   "source": [
    "a[[0, 2, 4]] = -100\n",
    "print(a)"
   ]
  },
  {
   "cell_type": "markdown",
   "id": "c08b9aeb",
   "metadata": {},
   "source": [
    "Or an array of values:"
   ]
  },
  {
   "cell_type": "code",
   "execution_count": 13,
   "id": "7c0cb79f",
   "metadata": {},
   "outputs": [
    {
     "name": "stdout",
     "output_type": "stream",
     "text": [
      "[-100  111 -100  222 -100  333   90]\n"
     ]
    }
   ],
   "source": [
    "a[[1, 3, 5]] = [111, 222, 333]\n",
    "print(a)"
   ]
  },
  {
   "cell_type": "markdown",
   "id": "1c79ac1b",
   "metadata": {},
   "source": [
    "You can also use \"masks\" of boolean values, which is interpreted to mean any index where the mask is ``True``:"
   ]
  },
  {
   "cell_type": "code",
   "execution_count": 17,
   "id": "262b3c26",
   "metadata": {},
   "outputs": [
    {
     "name": "stdout",
     "output_type": "stream",
     "text": [
      "[  0 111   0 222   0 333  90]\n"
     ]
    }
   ],
   "source": [
    "mask = a < 0\n",
    "a[mask] = 0\n",
    "print(a)"
   ]
  },
  {
   "cell_type": "markdown",
   "id": "162b7cfd",
   "metadata": {},
   "source": [
    "And of course, math makes sense to an ``ndarray`` since *all* the elements are assured to be numbers:"
   ]
  },
  {
   "cell_type": "code",
   "execution_count": 18,
   "id": "b9007729",
   "metadata": {},
   "outputs": [
    {
     "name": "stdout",
     "output_type": "stream",
     "text": [
      "[  0 222   0 444   0 666 180]\n"
     ]
    }
   ],
   "source": [
    "print(a*2)"
   ]
  },
  {
   "cell_type": "code",
   "execution_count": 19,
   "id": "501c3cd3",
   "metadata": {},
   "outputs": [
    {
     "name": "stdout",
     "output_type": "stream",
     "text": [
      "[100 211 100 322 100 433 190]\n"
     ]
    }
   ],
   "source": [
    "print(a + 100)"
   ]
  },
  {
   "cell_type": "code",
   "execution_count": 20,
   "id": "80206e56",
   "metadata": {},
   "outputs": [
    {
     "name": "stdout",
     "output_type": "stream",
     "text": [
      "[     0  12321      0  49284      0 110889   8100]\n"
     ]
    }
   ],
   "source": [
    "print(a*a)"
   ]
  },
  {
   "cell_type": "markdown",
   "id": "3c2c231c",
   "metadata": {},
   "source": [
    "There are many resources for learning and understaning Numpy arrays.  Below is a list of our favorite:\n",
    "\n",
    "| Reference | Description |\n",
    "| :- | :- |\n",
    "| [1]() | (The one with the pictures) |"
   ]
  },
  {
   "cell_type": "markdown",
   "id": "2e684534",
   "metadata": {},
   "source": [
    "## Dictionaries: Holding Things Together\n",
    "The last piece of the puzzle is Python's built-in ``dict`` which is much like a list, in the sense that it can act as a container for any datatype, but items are addressed by name instead of index. "
   ]
  },
  {
   "cell_type": "code",
   "execution_count": 21,
   "id": "171f689b",
   "metadata": {},
   "outputs": [
    {
     "name": "stdout",
     "output_type": "stream",
     "text": [
      "{'arr': array([  0, 111,   0, 222,   0, 333,  90]), 'list': ['str', 2, 6, 8, 100]}\n"
     ]
    }
   ],
   "source": [
    "d = dict()\n",
    "d['arr'] = a\n",
    "d['list'] = L\n",
    "print(d)"
   ]
  },
  {
   "cell_type": "markdown",
   "id": "d59514d4",
   "metadata": {},
   "source": [
    "You can retrieve any element by name:"
   ]
  },
  {
   "cell_type": "code",
   "execution_count": 22,
   "id": "97f811be",
   "metadata": {},
   "outputs": [
    {
     "name": "stdout",
     "output_type": "stream",
     "text": [
      "[  0 111   0 222   0 333  90]\n"
     ]
    }
   ],
   "source": [
    "print(d['arr'])"
   ]
  },
  {
   "cell_type": "markdown",
   "id": "3fedfd0f",
   "metadata": {},
   "source": [
    "And adding new items is easy:"
   ]
  },
  {
   "cell_type": "code",
   "execution_count": 23,
   "id": "19cc45ee",
   "metadata": {},
   "outputs": [
    {
     "name": "stdout",
     "output_type": "stream",
     "text": [
      "{'arr': array([  0, 111,   0, 222,   0, 333,  90]), 'list': ['str', 2, 6, 8, 100], 'test': 1.0}\n"
     ]
    }
   ],
   "source": [
    "d['test'] = 1.0\n",
    "print(d)"
   ]
  },
  {
   "cell_type": "markdown",
   "id": "b44cc893",
   "metadata": {},
   "source": [
    "### Subclassing ``dict`` \n",
    "\n",
    "This is may seem like an intimidating concept at first, but it's actually beautifully simple once you see how it works. It's also relevant to learning OpenPNM since it uses ``dict``s extensively, and these are often subclassed to augment their functionality.  Subclassing means \"taking the basic functionality of the ``dict``, then adding to and/or changing it\". \n",
    "\n",
    "To illustrate the idea of subclasses, as it pertains to OpenPNM, let's change how the reading and writing of items works. Whenever you use the square brackets ``[ ]`` to index into a ``dict``, this *actually* calls the ``__getitem__`` and ``__setitem__`` methods.  The double underscores indicate that these are intrinsic Python methods which the user should not call directly, but they do the bulk of the work.  So let's try it out by creating a class that tells us what is going on each time we read and write something:"
   ]
  },
  {
   "cell_type": "code",
   "execution_count": 28,
   "id": "4cf90058",
   "metadata": {},
   "outputs": [],
   "source": [
    "# Create a new class which is a dict PLUS the extra functionality we will add\n",
    "class NewDict(dict): \n",
    "    \n",
    "    def __setitem__(self, key, value):\n",
    "        # This is our customization\n",
    "        print(\"The key being written is:\", key)\n",
    "        print(\"The value being written is:\", value)\n",
    "        # Now we call the setitem on the actual dict class\n",
    "        super().__setitem__(key, value)\n",
    "        \n",
    "    def __getitem__(self, key):\n",
    "        print(\"The key being retrieved is:\", key)\n",
    "        return super().__getitem__(key)\n"
   ]
  },
  {
   "cell_type": "code",
   "execution_count": 29,
   "id": "306be022",
   "metadata": {},
   "outputs": [],
   "source": [
    "dnew = NewDict()"
   ]
  },
  {
   "cell_type": "code",
   "execution_count": 30,
   "id": "3af4dc99",
   "metadata": {},
   "outputs": [
    {
     "name": "stdout",
     "output_type": "stream",
     "text": [
      "The key being written is: test\n",
      "The value being written is: 1.0\n"
     ]
    }
   ],
   "source": [
    "dnew['test'] = 1.0"
   ]
  }
 ],
 "metadata": {
  "kernelspec": {
   "display_name": "Python 3 (ipykernel)",
   "language": "python",
   "name": "python3"
  },
  "language_info": {
   "codemirror_mode": {
    "name": "ipython",
    "version": 3
   },
   "file_extension": ".py",
   "mimetype": "text/x-python",
   "name": "python",
   "nbconvert_exporter": "python",
   "pygments_lexer": "ipython3",
   "version": "3.9.7"
  }
 },
 "nbformat": 4,
 "nbformat_minor": 5
}

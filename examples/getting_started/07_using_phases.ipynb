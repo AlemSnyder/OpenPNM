{
 "cells": [
  {
   "cell_type": "markdown",
   "id": "fce43591",
   "metadata": {},
   "source": [
    "# Using Basic Phases\n",
    "\n",
    "All simulations in OpenPNM eventually require knowing the physical and thermodynamic properties of the fluids and phases.  OpenPNM provides a framework for computing these values in the ``phase`` submodule, along with a *basic* set of functions for predicting the properties pure phases and mixtures. Since we can't possibly support an exhaustive physical proprety library, our policy is to provide a set of reasonable default functions for use as first approximations.  There are a number of other packages that can be used when more exacting values are required, such as ``chemicals`` and ``cantera``, which can be used within the framework of OpenPNM.\n",
    "\n",
    "In the first part of this notebook, we will be cover: \n",
    "* The use of the basic ``Phase`` class\n",
    "* Assigning constant values\n",
    "* Generating values using built-in pore-scale models\n",
    "* Creating custom pore-scale models\n",
    "* Specific classes for common fluids like ``Air`` and ``Water``\n",
    "\n",
    "In the second part we will cover topics relating to Mixtures, including:\n",
    "* Creating individual ``Species`` objects from the CAS number\n",
    "* Combining components into a ``Mixture``\n",
    "* Utilizing the built-in classes for first-approximations of pure gas and liquid properties, and for mixture properties\n",
    "* Leveraging external packages for making better estimates of pure component and mixture properties"
   ]
  },
  {
   "cell_type": "code",
   "execution_count": 2,
   "id": "d0583d45",
   "metadata": {},
   "outputs": [],
   "source": [
    "import openpnm as op\n",
    "import numpy as np"
   ]
  },
  {
   "cell_type": "markdown",
   "id": "d8429ae3",
   "metadata": {},
   "source": [
    "All simulations start by defining/creating a network.  The ``Demo`` class creates a very simple cubic network with an assortment of useful properties included:"
   ]
  },
  {
   "cell_type": "code",
   "execution_count": 3,
   "id": "41da6fd0",
   "metadata": {},
   "outputs": [],
   "source": [
    "pn = op.network.Demo()"
   ]
  },
  {
   "cell_type": "markdown",
   "id": "5699516f",
   "metadata": {},
   "source": [
    "## Part 1: The ``Phase`` class\n",
    "\n",
    "If your simulation is simple, then a simple ``Phase`` object may be sufficient.  It has no predefined models from computing anything, so you have to either assign known values directly (e.g ``water['pore.viscosity'] = 0.001``) or define models that will compute the values you need.  The models can be taken from the ``openpnm.models.phase`` library, or you can write your own."
   ]
  },
  {
   "cell_type": "code",
   "execution_count": 4,
   "id": "41924bb8",
   "metadata": {},
   "outputs": [
    {
     "name": "stdout",
     "output_type": "stream",
     "text": [
      "\n",
      "══════════════════════════════════════════════════════════════════════════════\n",
      "phase_01 : <openpnm.phase.Phase at 0x2320e778220>\n",
      "――――――――――――――――――――――――――――――――――――――――――――――――――――――――――――――――――――――――――――――\n",
      "  #  Properties                                                   Valid Values\n",
      "――――――――――――――――――――――――――――――――――――――――――――――――――――――――――――――――――――――――――――――\n",
      "  1  pore.pressure                                                       9 / 9\n",
      "  2  pore.temperature                                                    9 / 9\n",
      "――――――――――――――――――――――――――――――――――――――――――――――――――――――――――――――――――――――――――――――\n",
      "  #  Labels                                                 Assigned Locations\n",
      "――――――――――――――――――――――――――――――――――――――――――――――――――――――――――――――――――――――――――――――\n",
      "  1  pore.all                                                                9\n",
      "  2  throat.all                                                             12\n",
      "――――――――――――――――――――――――――――――――――――――――――――――――――――――――――――――――――――――――――――――\n"
     ]
    }
   ],
   "source": [
    "phase1 = op.phase.Phase(network=pn)\n",
    "print(phase1)"
   ]
  },
  {
   "cell_type": "markdown",
   "id": "d00c1a42",
   "metadata": {},
   "source": [
    "Note that all ``phase`` objects need to be associated with a network, which is how ``phase1`` knows how many pore (and throat) values to compute...in this case 9 (and 12). "
   ]
  },
  {
   "cell_type": "markdown",
   "id": "356d4148",
   "metadata": {},
   "source": [
    "### Direct assignment of a constant value"
   ]
  },
  {
   "cell_type": "markdown",
   "id": "ad4bdbeb",
   "metadata": {},
   "source": [
    "The basic ``Phase`` class creates a more or less empty object with only standard temperature and pressure assigned to each pore. In order to use this object for simulations it needs some additional information. For instance, to compute the permeability of ``pn`` we will need the viscosity.  So, let's assign a known value directly for liquid water:"
   ]
  },
  {
   "cell_type": "code",
   "execution_count": 4,
   "id": "8f98fb81",
   "metadata": {},
   "outputs": [],
   "source": [
    "phase1['pore.viscosity'] = 0.001  # Pa.s\n",
    "phase1['pore.temperature'] = 273.0"
   ]
  },
  {
   "cell_type": "markdown",
   "id": "dac6d7d4",
   "metadata": {},
   "source": [
    "*Pro Tip*: When assigning a scalar value to a dictionary key it gets assigned to every pore (or throat).  The result of the above assignment can be seen below:"
   ]
  },
  {
   "cell_type": "code",
   "execution_count": 5,
   "id": "50b97f81",
   "metadata": {},
   "outputs": [
    {
     "data": {
      "text/plain": [
       "array([0.001, 0.001, 0.001, 0.001, 0.001, 0.001, 0.001, 0.001, 0.001])"
      ]
     },
     "execution_count": 5,
     "metadata": {},
     "output_type": "execute_result"
    }
   ],
   "source": [
    "phase1['pore.viscosity']"
   ]
  },
  {
   "cell_type": "markdown",
   "id": "836b20da",
   "metadata": {},
   "source": [
    "### Using a built-in model\n",
    "\n",
    "Perhaps you would like to run simulation in the presence of a temperature gradient, and viscosity is a strong function of temperature.  Instead of assigning a constant viscosity, in this case it is better to assign a pore-scale model that OpenPNM will call to compute the viscosity in each pore.  \n",
    "\n",
    "The ``models`` library in OpenPNM contains some general models which can be used, such as polynomials or linear lines. A 4th order polynomial can be fit to experimental data yielding the following coefficients:"
   ]
  },
  {
   "cell_type": "code",
   "execution_count": 6,
   "id": "0a61bc2a",
   "metadata": {},
   "outputs": [],
   "source": [
    "a4 = 5.8543E-11\n",
    "a3 = -7.6756E-08\n",
    "a2 = 3.7831E-05\n",
    "a1 = -8.3156E-03\n",
    "a0 = 6.8898E-01"
   ]
  },
  {
   "cell_type": "markdown",
   "id": "32fb85d8",
   "metadata": {},
   "source": [
    "These can be used in the the ``op.models.misc.polynomial`` model as follows:"
   ]
  },
  {
   "cell_type": "code",
   "execution_count": 15,
   "id": "57f24409",
   "metadata": {},
   "outputs": [
    {
     "name": "stdout",
     "output_type": "stream",
     "text": [
      "[0.00179952 0.00179952 0.00179952 0.00179952 0.00179952 0.00179952\n",
      " 0.00179952 0.00179952 0.00179952]\n",
      "[0.00078261 0.00047368 0.0006127  0.00042288 0.00066796 0.00083404\n",
      " 0.00047012 0.00059282 0.00056671]\n",
      "[0.00067764 0.00042716 0.00087339 0.0004289  0.00086183 0.00044696\n",
      " 0.00065252 0.0004201  0.00069108]\n"
     ]
    }
   ],
   "source": [
    "print(phase1['pore.viscosity'])\n",
    "f = op.models.misc.polynomial\n",
    "phase1.add_model(propname='pore.viscosity', \n",
    "                 model=f,\n",
    "                 a = (a0, a1, a2, a3, a4),\n",
    "                 prop='pore.temperature')\n",
    "print(phase1['pore.viscosity'])\n",
    "phase1['pore.temperature'] = 300.0 + np.random.rand(pn.Np)*50\n",
    "phase1.regenerate_models()\n",
    "print(phase1['pore.viscosity'])"
   ]
  },
  {
   "cell_type": "markdown",
   "id": "9a0e3c74",
   "metadata": {},
   "source": [
    "In the above block we can see that the values of ``0.001`` are present from the previous assignment, then after we add the model the values are recomputed at the temperature indicated in ``phase1['pore.temperature']``.  To illustrate the point of using a temperature dependent model, we then set the temperature to a random number between 300 and 350 K, the rerun the models at the new temperatures."
   ]
  },
  {
   "cell_type": "markdown",
   "id": "1d74915a",
   "metadata": {},
   "source": [
    "### Using a water-specific model\n",
    "\n",
    "Because water is so common, OpenPNM has some available functions for its properties:"
   ]
  },
  {
   "cell_type": "code",
   "execution_count": 16,
   "id": "97a5b4ec",
   "metadata": {},
   "outputs": [
    {
     "name": "stdout",
     "output_type": "stream",
     "text": [
      "[0.000647   0.00039139 0.00085086 0.0003938  0.00083897 0.00041547\n",
      " 0.00062088 0.00038031 0.00066103]\n"
     ]
    }
   ],
   "source": [
    "f = op.models.phase.viscosity.water_correlation\n",
    "phase1.add_model(propname='pore.viscosity',\n",
    "                 model=f)\n",
    "print(phase1['pore.viscosity'])"
   ]
  },
  {
   "cell_type": "markdown",
   "id": "d79fca2e",
   "metadata": {},
   "source": [
    "### Writing your own custom model\n",
    "\n",
    "This subject is explained in detail in another tutorial, but the basic outline is as follows. "
   ]
  },
  {
   "cell_type": "code",
   "execution_count": 17,
   "id": "a30c7773",
   "metadata": {},
   "outputs": [
    {
     "name": "stdout",
     "output_type": "stream",
     "text": [
      "[ 3.21402876e-04 -1.80439511e-05  5.50708547e-04 -1.49215969e-05\n",
      "  5.37611746e-04  1.48067041e-05  2.90493860e-04 -3.16812236e-05\n",
      "  3.37779603e-04]\n"
     ]
    }
   ],
   "source": [
    "def custom_mu(target, temperature='pore.temperature'):\n",
    "    T = target[temperature]\n",
    "    a4 = 5.854E-11\n",
    "    a3 = -7.676E-08\n",
    "    a2 = 3.783E-05\n",
    "    a1 = -8.316E-03\n",
    "    a0 = 6.890E-01\n",
    "    mu = a0 + a1*T + a2*T**2 + a3*T**3 + a4*T**4\n",
    "    return mu\n",
    "\n",
    "phase1.add_model(propname='pore.viscosity',\n",
    "                 model=custom_mu)\n",
    "print(phase1['pore.viscosity'])\n"
   ]
  },
  {
   "cell_type": "markdown",
   "id": "e69c514a",
   "metadata": {},
   "source": [
    "## Specific Classes for Common Fluids\n",
    "\n",
    "Air, water, and mercury are used commonly enough that OpenPNM not only has pore-scale models for their propertie (i.e. ``op.models.viscosity.water_correlation``, but we have also created pre-defined classes with all the appropriate models already attached:"
   ]
  },
  {
   "cell_type": "code",
   "execution_count": 18,
   "id": "d7232b92",
   "metadata": {},
   "outputs": [],
   "source": [
    "water = op.phase.Water(network=pn)"
   ]
  },
  {
   "cell_type": "code",
   "execution_count": 19,
   "id": "2a00c73f",
   "metadata": {},
   "outputs": [
    {
     "name": "stdout",
     "output_type": "stream",
     "text": [
      "\n",
      "══════════════════════════════════════════════════════════════════════════════\n",
      "phase_03 : <openpnm.phase.Water at 0x29032055e50>\n",
      "――――――――――――――――――――――――――――――――――――――――――――――――――――――――――――――――――――――――――――――\n",
      "  #  Properties                                                   Valid Values\n",
      "――――――――――――――――――――――――――――――――――――――――――――――――――――――――――――――――――――――――――――――\n",
      "  1  pore.contact_angle                                                  9 / 9\n",
      "  2  pore.density                                                        9 / 9\n",
      "  3  pore.molar_density                                                  9 / 9\n",
      "  4  pore.pressure                                                       9 / 9\n",
      "  5  pore.surface_tension                                                9 / 9\n",
      "  6  pore.temperature                                                    9 / 9\n",
      "  7  pore.thermal_conductivity                                           9 / 9\n",
      "  8  pore.vapor_pressure                                                 9 / 9\n",
      "  9  pore.viscosity                                                      9 / 9\n",
      "――――――――――――――――――――――――――――――――――――――――――――――――――――――――――――――――――――――――――――――\n",
      "  #  Labels                                                 Assigned Locations\n",
      "――――――――――――――――――――――――――――――――――――――――――――――――――――――――――――――――――――――――――――――\n",
      "  1  pore.all                                                                9\n",
      "  2  throat.all                                                             12\n",
      "――――――――――――――――――――――――――――――――――――――――――――――――――――――――――――――――――――――――――――――\n"
     ]
    }
   ],
   "source": [
    "print(water)"
   ]
  },
  {
   "cell_type": "markdown",
   "id": "c3578f9a",
   "metadata": {},
   "source": [
    "As can be seen in the above print-out, a variety of things have been computed, most of which is coming from a specific pore-scale model.  These can be viewed with:"
   ]
  },
  {
   "cell_type": "code",
   "execution_count": 20,
   "id": "f9f8f4df",
   "metadata": {},
   "outputs": [
    {
     "name": "stdout",
     "output_type": "stream",
     "text": [
      "―――――――――――――――――――――――――――――――――――――――――――――――――――――――――――――――――――――――――――――――――――――\n",
      "#   Property Name                       Parameter                 Value\n",
      "―――――――――――――――――――――――――――――――――――――――――――――――――――――――――――――――――――――――――――――――――――――\n",
      "1   pore.contact_angle@all              model:                    constant\n",
      "                                        value:                    110.0\n",
      "                                        regeneration mode:        normal\n",
      "―――――――――――――――――――――――――――――――――――――――――――――――――――――――――――――――――――――――――――――――――――――\n",
      "2   pore.density@all                    model:                    water_correlation\n",
      "                                        T:                        pore.temperature\n",
      "                                        salinity:                 pore.salinity\n",
      "                                        regeneration mode:        normal\n",
      "―――――――――――――――――――――――――――――――――――――――――――――――――――――――――――――――――――――――――――――――――――――\n",
      "3   pore.molar_density@all              model:                    mass_to_molar\n",
      "                                        MW:                       param.molecular_weight\n",
      "                                        rho:                      pore.density\n",
      "                                        regeneration mode:        normal\n",
      "―――――――――――――――――――――――――――――――――――――――――――――――――――――――――――――――――――――――――――――――――――――\n",
      "4   pore.surface_tension@all            model:                    water_correlation\n",
      "                                        T:                        pore.temperature\n",
      "                                        salinity:                 pore.salinity\n",
      "                                        regeneration mode:        normal\n",
      "―――――――――――――――――――――――――――――――――――――――――――――――――――――――――――――――――――――――――――――――――――――\n",
      "5   pore.thermal_conductivity@all       model:                    water_correlation\n",
      "                                        T:                        pore.temperature\n",
      "                                        salinity:                 pore.salinity\n",
      "                                        regeneration mode:        normal\n",
      "―――――――――――――――――――――――――――――――――――――――――――――――――――――――――――――――――――――――――――――――――――――\n",
      "6   pore.vapor_pressure@all             model:                    liquid_pure_antoine\n",
      "                                        T:                        pore.temperature\n",
      "                                        Tc:                       param.critical_temperature\n",
      "                                        regeneration mode:        normal\n",
      "―――――――――――――――――――――――――――――――――――――――――――――――――――――――――――――――――――――――――――――――――――――\n",
      "7   pore.viscosity@all                  model:                    water_correlation\n",
      "                                        T:                        pore.temperature\n",
      "                                        salinity:                 pore.salinity\n",
      "                                        regeneration mode:        normal\n",
      "―――――――――――――――――――――――――――――――――――――――――――――――――――――――――――――――――――――――――――――――――――――\n"
     ]
    }
   ],
   "source": [
    "print(water.models)"
   ]
  },
  {
   "cell_type": "markdown",
   "id": "89b218f8",
   "metadata": {},
   "source": [
    "All of these models are functions of all relevant properties, so we can change the temperature and see the new viscosity:"
   ]
  },
  {
   "cell_type": "code",
   "execution_count": 22,
   "id": "b21de53d",
   "metadata": {},
   "outputs": [
    {
     "name": "stdout",
     "output_type": "stream",
     "text": [
      "[0.0005704  0.00062362 0.00041976 0.00053435 0.00062575 0.00080914\n",
      " 0.0004782  0.000501   0.00038744]\n",
      "[0.00042246 0.00037174 0.00071614 0.0003947  0.00047906 0.0005611\n",
      " 0.00037583 0.00041211 0.00075005]\n"
     ]
    }
   ],
   "source": [
    "print(water['pore.viscosity'])\n",
    "water['pore.temperature'] = 300.0 + np.random.rand(pn.Np)*50\n",
    "water.regenerate_models()\n",
    "print(water['pore.viscosity'])"
   ]
  },
  {
   "cell_type": "markdown",
   "id": "2e3a27f2",
   "metadata": {},
   "source": [
    "## Part 2: Using Species and Mixtures\n",
    "\n",
    "OpenPNM provides a small set of default function for computing the physical properties of pure fluids as well as mixtures.  This notebook will cover their use"
   ]
  },
  {
   "cell_type": "markdown",
   "id": "42739852",
   "metadata": {},
   "source": [
    "### Pure Species"
   ]
  },
  {
   "cell_type": "code",
   "execution_count": 5,
   "id": "06659362",
   "metadata": {},
   "outputs": [
    {
     "name": "stdout",
     "output_type": "stream",
     "text": [
      "\n",
      "══════════════════════════════════════════════════════════════════════════════\n",
      "phase_02 : <openpnm.phase.Species at 0x23207ff65e0>\n",
      "――――――――――――――――――――――――――――――――――――――――――――――――――――――――――――――――――――――――――――――\n",
      "  #  Properties                                                   Valid Values\n",
      "――――――――――――――――――――――――――――――――――――――――――――――――――――――――――――――――――――――――――――――\n",
      "  1  pore.pressure                                                       9 / 9\n",
      "  2  pore.temperature                                                    9 / 9\n",
      "――――――――――――――――――――――――――――――――――――――――――――――――――――――――――――――――――――――――――――――\n",
      "  #  Labels                                                 Assigned Locations\n",
      "――――――――――――――――――――――――――――――――――――――――――――――――――――――――――――――――――――――――――――――\n",
      "  1  pore.all                                                                9\n",
      "  2  throat.all                                                             12\n",
      "――――――――――――――――――――――――――――――――――――――――――――――――――――――――――――――――――――――――――――――\n"
     ]
    }
   ],
   "source": [
    "A = op.phase.Species(network=pn, species='ethanol')\n",
    "print(A)"
   ]
  },
  {
   "cell_type": "markdown",
   "id": "27b12098",
   "metadata": {},
   "source": [
    "As can be seen above the ``Species`` class does not compute any properties of the given species, *BUT* it does contain a host of thermodynamic properties in the ``params`` attribute:"
   ]
  },
  {
   "cell_type": "code",
   "execution_count": 6,
   "id": "271081b5",
   "metadata": {},
   "outputs": [
    {
     "name": "stdout",
     "output_type": "stream",
     "text": [
      "――――――――――――――――――――――――――――――――――――――――――――――――――――――――――――――――――――――――――――――\n",
      "Parameters                          Value\n",
      "――――――――――――――――――――――――――――――――――――――――――――――――――――――――――――――――――――――――――――――\n",
      "CAS                                 64-17-5\n",
      "common_name                         ethanol\n",
      "charge                              0\n",
      "formula                             C2H6O\n",
      "boiling_temperature                 351.39\n",
      "melting_temperature                 159.05\n",
      "triple_point_temperature            150.0\n",
      "triple_point_pressure               0.0003029719071725671\n",
      "dipole_moment                       1.44\n",
      "LJ_diameter                         4.23738\n",
      "LJ_energy                           1.7829839250900002e-20\n",
      "surface_tension_Tb                  0.016709805941752066\n",
      "molar_volume_Tb                     6.269082962629869e-05\n",
      "molecular_weight                    46.06844\n",
      "critical_temperature                514.0\n",
      "critical_pressure                   6137000.0\n",
      "critical_volume                     0.000168\n",
      "critical_compressibilty_factor      0.24125043269792065\n",
      "acentric_factor                     0.635\n",
      "――――――――――――――――――――――――――――――――――――――――――――――――――――――――――――――――――――――――――――――\n"
     ]
    }
   ],
   "source": [
    "print(A.params)"
   ]
  },
  {
   "cell_type": "markdown",
   "id": "dc90c5bc",
   "metadata": {},
   "source": [
    "----\n",
    "💡 **Pro Tip**: You can access the values of these parameters either from the ``params`` attribute or using the dictionary lookup of the main object which will dispatch the query to the ``params`` attribute. "
   ]
  },
  {
   "cell_type": "code",
   "execution_count": 43,
   "id": "abb267b0",
   "metadata": {},
   "outputs": [
    {
     "data": {
      "text/plain": [
       "'7732-18-5'"
      ]
     },
     "execution_count": 43,
     "metadata": {},
     "output_type": "execute_result"
    }
   ],
   "source": [
    "water.params['CAS']"
   ]
  },
  {
   "cell_type": "code",
   "execution_count": 45,
   "id": "f4fa075f",
   "metadata": {},
   "outputs": [
    {
     "data": {
      "text/plain": [
       "'7732-18-5'"
      ]
     },
     "execution_count": 45,
     "metadata": {},
     "output_type": "execute_result"
    }
   ],
   "source": [
    "water['param.CAS']"
   ]
  },
  {
   "cell_type": "markdown",
   "id": "7e005e68",
   "metadata": {},
   "source": [
    "Writing also works."
   ]
  },
  {
   "cell_type": "code",
   "execution_count": 46,
   "id": "0d372fb3",
   "metadata": {},
   "outputs": [
    {
     "data": {
      "text/plain": [
       "'bar'"
      ]
     },
     "execution_count": 46,
     "metadata": {},
     "output_type": "execute_result"
    }
   ],
   "source": [
    "water['param.foo'] = 'bar'\n",
    "water.params['foo']"
   ]
  },
  {
   "cell_type": "markdown",
   "id": "c5be01d2",
   "metadata": {},
   "source": [
    "----"
   ]
  },
  {
   "cell_type": "markdown",
   "id": "0409947c",
   "metadata": {},
   "source": [
    "These parameters are all used in the various property estimation methods.  For instance, to compute the viscosity of ethanol, OpenPNM provides a function that implements the model of Steil and Thodos (``openpnm.models.phase.viscosity.liquid_pure_ls``):"
   ]
  },
  {
   "cell_type": "code",
   "execution_count": 7,
   "id": "4eb23ca6",
   "metadata": {},
   "outputs": [
    {
     "name": "stdout",
     "output_type": "stream",
     "text": [
      "[0.00041951 0.00041951 0.00041951 0.00041951 0.00041951 0.00041951\n",
      " 0.00041951 0.00041951 0.00041951]\n"
     ]
    }
   ],
   "source": [
    "f = op.models.phase.viscosity.liquid_pure_ls\n",
    "A.add_model(propname='pore.viscosity',\n",
    "            model=f)\n",
    "print(A['pore.viscosity'])"
   ]
  },
  {
   "cell_type": "markdown",
   "id": "04be66b5",
   "metadata": {},
   "source": [
    "This function requires several pieces of thermodynamics information, such as the critical temperature and pressure. You can see all the arguments below:"
   ]
  },
  {
   "cell_type": "code",
   "execution_count": 8,
   "id": "4c994288",
   "metadata": {},
   "outputs": [
    {
     "name": "stdout",
     "output_type": "stream",
     "text": [
      "―――――――――――――――――――――――――――――――――――――――――――――――――――――――――――――――――――――――――――――――――――――\n",
      "#   Property Name                       Parameter                 Value\n",
      "―――――――――――――――――――――――――――――――――――――――――――――――――――――――――――――――――――――――――――――――――――――\n",
      "1   pore.viscosity@all                  model:                    liquid_pure_ls\n",
      "                                        T:                        pore.temperature\n",
      "                                        MW:                       param.molecular_weight\n",
      "                                        Tc:                       param.critical_temperature\n",
      "                                        Pc:                       param.critical_pressure\n",
      "                                        omega:                    param.acentric_factor\n",
      "                                        regeneration mode:        normal\n",
      "―――――――――――――――――――――――――――――――――――――――――――――――――――――――――――――――――――――――――――――――――――――\n"
     ]
    }
   ],
   "source": [
    "print(A.models)"
   ]
  },
  {
   "cell_type": "markdown",
   "id": "282088bd",
   "metadata": {},
   "source": [
    "The above shows that the temperature of the phase is fetched as ``'pore.temperature'``, while all the rest are retrieved from the ``params`` attribute.  To further illustrate this behavior, we could write the critical temperature ``A['pore.critical_temperature']`` and also overwrite the default argument:"
   ]
  },
  {
   "cell_type": "code",
   "execution_count": 9,
   "id": "9f9e8ac3",
   "metadata": {},
   "outputs": [],
   "source": [
    "A.models['pore.viscosity@all']['Tc'] = 'pore.critical_temperature'\n",
    "A['pore.critical_temperature'] = A['param.critical_temperature']"
   ]
  },
  {
   "cell_type": "code",
   "execution_count": 10,
   "id": "1409b0ef",
   "metadata": {},
   "outputs": [
    {
     "name": "stdout",
     "output_type": "stream",
     "text": [
      "―――――――――――――――――――――――――――――――――――――――――――――――――――――――――――――――――――――――――――――――――――――\n",
      "#   Property Name                       Parameter                 Value\n",
      "―――――――――――――――――――――――――――――――――――――――――――――――――――――――――――――――――――――――――――――――――――――\n",
      "1   pore.viscosity@all                  model:                    liquid_pure_ls\n",
      "                                        T:                        pore.temperature\n",
      "                                        MW:                       param.molecular_weight\n",
      "                                        Tc:                       pore.critical_temperature\n",
      "                                        Pc:                       param.critical_pressure\n",
      "                                        omega:                    param.acentric_factor\n",
      "                                        regeneration mode:        normal\n",
      "―――――――――――――――――――――――――――――――――――――――――――――――――――――――――――――――――――――――――――――――――――――\n"
     ]
    }
   ],
   "source": [
    "print(A.models)"
   ]
  },
  {
   "cell_type": "markdown",
   "id": "00f54050",
   "metadata": {},
   "source": [
    "Now when we regenerate the model it will fetch the critical temperature values for each pore but will work as expected:"
   ]
  },
  {
   "cell_type": "code",
   "execution_count": 11,
   "id": "ddc5d20b",
   "metadata": {},
   "outputs": [
    {
     "name": "stdout",
     "output_type": "stream",
     "text": [
      "[0.00041951 0.00041951 0.00041951 0.00041951 0.00041951 0.00041951\n",
      " 0.00041951 0.00041951 0.00041951]\n"
     ]
    }
   ],
   "source": [
    "A.regenerate_models()\n",
    "print(A['pore.viscosity'])"
   ]
  },
  {
   "cell_type": "markdown",
   "id": "71d64da2",
   "metadata": {},
   "source": [
    "### Gas and Liquid Species\n",
    "\n",
    "OpenPNM has a suite of functions for computing the properties of pure phases, but these functions differ for gases and liquids.  For this reason we offer two classes for gas and liquid with the appropriate models already defined.  These are referred to as ``StandardLiquid`` and ``StandardGas`` to indicate that the models being used are the standard selection which provide a first-approximatation:"
   ]
  },
  {
   "cell_type": "code",
   "execution_count": 12,
   "id": "5f02a314",
   "metadata": {},
   "outputs": [],
   "source": [
    "A = op.phase.StandardGas(network=pn, species='o2')\n",
    "B = op.phase.StandardLiquid(network=pn, species='h2o')"
   ]
  },
  {
   "cell_type": "markdown",
   "id": "9512a56b",
   "metadata": {},
   "source": [
    "These objects are populated with their respective thermodynamic properties:"
   ]
  },
  {
   "cell_type": "code",
   "execution_count": 13,
   "id": "87e215c2",
   "metadata": {},
   "outputs": [
    {
     "name": "stdout",
     "output_type": "stream",
     "text": [
      "――――――――――――――――――――――――――――――――――――――――――――――――――――――――――――――――――――――――――――――\n",
      "Parameters                          Value\n",
      "――――――――――――――――――――――――――――――――――――――――――――――――――――――――――――――――――――――――――――――\n",
      "CAS                                 7782-44-7\n",
      "common_name                         oxygen\n",
      "charge                              0\n",
      "formula                             O2\n",
      "boiling_temperature                 90.188\n",
      "melting_temperature                 54.36\n",
      "triple_point_temperature            54.33\n",
      "triple_point_pressure               148.9796864589355\n",
      "dipole_moment                       0.0\n",
      "LJ_diameter                         3.29728\n",
      "LJ_energy                           1.6520845934e-21\n",
      "surface_tension_Tb                  0.013145633010272155\n",
      "molar_volume_Tb                     2.802254619756072e-05\n",
      "molecular_weight                    31.9988\n",
      "critical_temperature                154.58\n",
      "critical_pressure                   5042945.25\n",
      "critical_volume                     7.34e-05\n",
      "critical_compressibilty_factor      0.2880002236716698\n",
      "acentric_factor                     0.021\n",
      "――――――――――――――――――――――――――――――――――――――――――――――――――――――――――――――――――――――――――――――\n"
     ]
    }
   ],
   "source": [
    "print(A.params)"
   ]
  },
  {
   "cell_type": "markdown",
   "id": "99c91dbc",
   "metadata": {},
   "source": [
    "The models used on each can be seen by printing the models attribute:"
   ]
  },
  {
   "cell_type": "code",
   "execution_count": 14,
   "id": "bce39721",
   "metadata": {},
   "outputs": [
    {
     "name": "stdout",
     "output_type": "stream",
     "text": [
      "\n",
      "══════════════════════════════════════════════════════════════════════════════\n",
      "phase_03 : <openpnm.phase.StandardGas at 0x2320e778180>\n",
      "――――――――――――――――――――――――――――――――――――――――――――――――――――――――――――――――――――――――――――――\n",
      "  #  Properties                                                   Valid Values\n",
      "――――――――――――――――――――――――――――――――――――――――――――――――――――――――――――――――――――――――――――――\n",
      "  1  pore.density                                                        9 / 9\n",
      "  2  pore.heat_capacity                                                  9 / 9\n",
      "  3  pore.heat_capacity_gas                                              9 / 9\n",
      "  4  pore.pressure                                                       9 / 9\n",
      "  5  pore.temperature                                                    9 / 9\n",
      "  6  pore.thermal_conductivity                                           9 / 9\n",
      "  7  pore.viscosity                                                      9 / 9\n",
      "――――――――――――――――――――――――――――――――――――――――――――――――――――――――――――――――――――――――――――――\n",
      "  #  Labels                                                 Assigned Locations\n",
      "――――――――――――――――――――――――――――――――――――――――――――――――――――――――――――――――――――――――――――――\n",
      "  1  pore.all                                                                9\n",
      "  2  throat.all                                                             12\n",
      "――――――――――――――――――――――――――――――――――――――――――――――――――――――――――――――――――――――――――――――\n"
     ]
    }
   ],
   "source": [
    "print(A)"
   ]
  },
  {
   "cell_type": "code",
   "execution_count": 15,
   "id": "21e4fad1",
   "metadata": {},
   "outputs": [
    {
     "name": "stdout",
     "output_type": "stream",
     "text": [
      "\n",
      "══════════════════════════════════════════════════════════════════════════════\n",
      "phase_04 : <openpnm.phase.StandardLiquid at 0x23213344ef0>\n",
      "――――――――――――――――――――――――――――――――――――――――――――――――――――――――――――――――――――――――――――――\n",
      "  #  Properties                                                   Valid Values\n",
      "――――――――――――――――――――――――――――――――――――――――――――――――――――――――――――――――――――――――――――――\n",
      "  1  pore.density                                                        9 / 9\n",
      "  2  pore.heat_capacity                                                  9 / 9\n",
      "  3  pore.heat_capacity_gas                                              9 / 9\n",
      "  4  pore.pressure                                                       9 / 9\n",
      "  5  pore.temperature                                                    9 / 9\n",
      "  6  pore.thermal_conductivity                                           9 / 9\n",
      "  7  pore.vapor_pressure                                                 9 / 9\n",
      "  8  pore.viscosity                                                      9 / 9\n",
      "――――――――――――――――――――――――――――――――――――――――――――――――――――――――――――――――――――――――――――――\n",
      "  #  Labels                                                 Assigned Locations\n",
      "――――――――――――――――――――――――――――――――――――――――――――――――――――――――――――――――――――――――――――――\n",
      "  1  pore.all                                                                9\n",
      "  2  throat.all                                                             12\n",
      "――――――――――――――――――――――――――――――――――――――――――――――――――――――――――――――――――――――――――――――\n"
     ]
    }
   ],
   "source": [
    "print(B)"
   ]
  },
  {
   "cell_type": "markdown",
   "id": "38b2d615",
   "metadata": {},
   "source": [
    "### Gas and Liquid Mixtures\n",
    "\n",
    "The framework for defining mixtures was officially added in V3, and it allows for the calculation of mixture properties based on the properties of the individual phases and their relative concentrations. There are a number of pore-scale models added to the ``openpnm.models.phase`` library for making these estimations, either using mixing rules or other correlations."
   ]
  },
  {
   "cell_type": "markdown",
   "id": "9d174ae8",
   "metadata": {},
   "source": [
    "Creating a mixture first requires defining each of the pure components.  In this case, let's create vodka:"
   ]
  },
  {
   "cell_type": "code",
   "execution_count": 17,
   "id": "b3a564e7",
   "metadata": {},
   "outputs": [],
   "source": [
    "water = op.phase.StandardLiquid(network=pn, species='h2o')\n",
    "etoh = op.phase.StandardLiquid(network=pn, species='ethanol')"
   ]
  },
  {
   "cell_type": "markdown",
   "id": "b8ff1765",
   "metadata": {},
   "source": [
    "Next let's create the mixture:"
   ]
  },
  {
   "cell_type": "code",
   "execution_count": 18,
   "id": "9faf6146",
   "metadata": {},
   "outputs": [],
   "source": [
    "vodka = op.phase.StandardLiquidMixture(network=pn, components=[water, etoh])"
   ]
  },
  {
   "cell_type": "markdown",
   "id": "5ec5daf1",
   "metadata": {},
   "source": [
    "Before using this we must first specify the compositions:"
   ]
  },
  {
   "cell_type": "code",
   "execution_count": 19,
   "id": "555e09fa",
   "metadata": {},
   "outputs": [],
   "source": [
    "vodka.x(water, 0.6)\n",
    "vodka.x(etoh, 0.4)"
   ]
  },
  {
   "cell_type": "markdown",
   "id": "083bfb4c",
   "metadata": {},
   "source": [
    "Now we can run the models, which all require knowing the composition:"
   ]
  },
  {
   "cell_type": "code",
   "execution_count": 20,
   "id": "5e4f682d",
   "metadata": {},
   "outputs": [],
   "source": [
    "vodka.regenerate_models()"
   ]
  },
  {
   "cell_type": "markdown",
   "id": "6c0bca16",
   "metadata": {},
   "source": [
    "The main class is the ``Mixture`` class, and there are several subclasses which each add some specific functionality\n",
    "\n",
    "The printout of a mixture includes not only the mixture properties, but also shows the individual components as well:"
   ]
  },
  {
   "cell_type": "code",
   "execution_count": 22,
   "id": "c42b4502",
   "metadata": {},
   "outputs": [],
   "source": [
    "f = vodka.models['pore.heat_capacity@all']['model']"
   ]
  },
  {
   "cell_type": "markdown",
   "id": "dc162e0f",
   "metadata": {},
   "source": [
    "We can see that several properties for the mixture have been computed:"
   ]
  },
  {
   "cell_type": "code",
   "execution_count": 23,
   "id": "692476e6",
   "metadata": {},
   "outputs": [
    {
     "name": "stdout",
     "output_type": "stream",
     "text": [
      "\n",
      "══════════════════════════════════════════════════════════════════════════════\n",
      "mixture_01 : <openpnm.phase.StandardLiquidMixture at 0x2321336c720>\n",
      "――――――――――――――――――――――――――――――――――――――――――――――――――――――――――――――――――――――――――――――\n",
      "  #  Properties                                                   Valid Values\n",
      "――――――――――――――――――――――――――――――――――――――――――――――――――――――――――――――――――――――――――――――\n",
      "  1  pore.density                                                        9 / 9\n",
      "  2  pore.heat_capacity                                                  9 / 9\n",
      "  3  pore.mole_fraction.phase_07                                         9 / 9\n",
      "  4  pore.mole_fraction.phase_08                                         9 / 9\n",
      "  5  pore.pressure                                                       9 / 9\n",
      "  6  pore.temperature                                                    9 / 9\n",
      "  7  pore.thermal_conductivity                                           9 / 9\n",
      "  8  pore.viscosity                                                      9 / 9\n",
      "――――――――――――――――――――――――――――――――――――――――――――――――――――――――――――――――――――――――――――――\n",
      "  #  Labels                                                 Assigned Locations\n",
      "――――――――――――――――――――――――――――――――――――――――――――――――――――――――――――――――――――――――――――――\n",
      "  1  pore.all                                                                9\n",
      "  2  throat.all                                                             12\n",
      "――――――――――――――――――――――――――――――――――――――――――――――――――――――――――――――――――――――――――――――\n"
     ]
    }
   ],
   "source": [
    "print(vodka)"
   ]
  },
  {
   "cell_type": "markdown",
   "id": "ea7590ff",
   "metadata": {},
   "source": [
    "If we change the composition of the components, and rerun the models, the mixture properties will change:"
   ]
  },
  {
   "cell_type": "code",
   "execution_count": 24,
   "id": "85a2ed10",
   "metadata": {},
   "outputs": [
    {
     "name": "stdout",
     "output_type": "stream",
     "text": [
      "[0.00053084 0.00053084 0.00053084 0.00053084 0.00053084 0.00053084\n",
      " 0.00053084 0.00053084 0.00053084]\n",
      "[0.00057417 0.00057417 0.00057417 0.00057417 0.00057417 0.00057417\n",
      " 0.00057417 0.00057417 0.00057417]\n"
     ]
    }
   ],
   "source": [
    "print(vodka['pore.viscosity'])\n",
    "vodka.x(water, 0.8)\n",
    "vodka.x(etoh, 0.2)\n",
    "vodka.regenerate_models()\n",
    "print(vodka['pore.viscosity'])"
   ]
  },
  {
   "cell_type": "markdown",
   "id": "1944472c",
   "metadata": {},
   "source": [
    "----\n",
    "💡 **ProTip!** The mole fractions of *both* species can be retrieved using the `dict` lookup without specifying which component.  OpenPNM will return a dictionary of both components with their names as they keys:"
   ]
  },
  {
   "cell_type": "code",
   "execution_count": 47,
   "id": "9cfb0801",
   "metadata": {},
   "outputs": [
    {
     "name": "stdout",
     "output_type": "stream",
     "text": [
      "{'phase_07': array([0.6, 0.6, 0.6, 0.6, 0.6, 0.6, 0.6, 0.6, 0.6]), 'phase_08': array([0.4, 0.4, 0.4, 0.4, 0.4, 0.4, 0.4, 0.4, 0.4])}\n"
     ]
    }
   ],
   "source": [
    "print(vodka['pore.mole_fraction'])"
   ]
  },
  {
   "cell_type": "markdown",
   "id": "317c92b2",
   "metadata": {},
   "source": [
    "💡 This also means you can index into the returned dictionary using the names:"
   ]
  },
  {
   "cell_type": "code",
   "execution_count": 48,
   "id": "fa02fd83",
   "metadata": {},
   "outputs": [
    {
     "name": "stdout",
     "output_type": "stream",
     "text": [
      "[0.6 0.6 0.6 0.6 0.6 0.6 0.6 0.6 0.6]\n"
     ]
    }
   ],
   "source": [
    "print(vodka['pore.mole_fraction'][water.name])"
   ]
  },
  {
   "cell_type": "markdown",
   "id": "a799d459",
   "metadata": {},
   "source": [
    "💡 Alternatively the returned dictionary can be used to get a list of components that are currently part of the mixture:"
   ]
  },
  {
   "cell_type": "code",
   "execution_count": 49,
   "id": "abc8bffe",
   "metadata": {},
   "outputs": [
    {
     "data": {
      "text/plain": [
       "dict_keys(['phase_07', 'phase_08'])"
      ]
     },
     "execution_count": 49,
     "metadata": {},
     "output_type": "execute_result"
    }
   ],
   "source": [
    "vodka['pore.mole_fraction'].keys()"
   ]
  },
  {
   "cell_type": "markdown",
   "id": "de741d9c",
   "metadata": {},
   "source": [
    "💡 The individual species can be retrieved using the ``components`` attribute which returns a dictionary with component names as the keys and handles to the actual objects as values:"
   ]
  },
  {
   "cell_type": "code",
   "execution_count": 50,
   "id": "e102fe27",
   "metadata": {},
   "outputs": [
    {
     "data": {
      "text/plain": [
       "{'phase_07': phase_07 : <openpnm.phase.StandardLiquid at 0x232133376d0>,\n",
       " 'phase_08': phase_08 : <openpnm.phase.StandardLiquid at 0x2321336cf40>}"
      ]
     },
     "execution_count": 50,
     "metadata": {},
     "output_type": "execute_result"
    }
   ],
   "source": [
    "vodka.components"
   ]
  },
  {
   "cell_type": "markdown",
   "id": "e08b19d9",
   "metadata": {},
   "source": [
    "---"
   ]
  },
  {
   "cell_type": "markdown",
   "id": "6bc1e20c",
   "metadata": {},
   "source": [
    "### Getting and Setting Compositions\n",
    "\n",
    "The ``x`` method (and ``y`` on ``GasMixture``) can also be used to retrieve the mole fraction of one or both components:"
   ]
  },
  {
   "cell_type": "code",
   "execution_count": 51,
   "id": "ff18e855",
   "metadata": {},
   "outputs": [
    {
     "data": {
      "text/plain": [
       "{'phase_07': array([0.6, 0.6, 0.6, 0.6, 0.6, 0.6, 0.6, 0.6, 0.6]),\n",
       " 'phase_08': array([0.4, 0.4, 0.4, 0.4, 0.4, 0.4, 0.4, 0.4, 0.4])}"
      ]
     },
     "execution_count": 51,
     "metadata": {},
     "output_type": "execute_result"
    }
   ],
   "source": [
    "vodka.x()"
   ]
  },
  {
   "cell_type": "code",
   "execution_count": 54,
   "id": "fa400400",
   "metadata": {},
   "outputs": [],
   "source": [
    "vodka.x(water.name)"
   ]
  },
  {
   "cell_type": "markdown",
   "id": "de84215e",
   "metadata": {},
   "source": [
    "In addition to keeping track of the species and their compositions, the mixture object also computes mixture properties. These can be seen by printing ``air``.  Note that we must first called ``regenerate_models`` since the models were not run on instantiation since the mole fraction was not set:"
   ]
  },
  {
   "cell_type": "code",
   "execution_count": 55,
   "id": "10fb4efa",
   "metadata": {},
   "outputs": [
    {
     "name": "stdout",
     "output_type": "stream",
     "text": [
      "\n",
      "══════════════════════════════════════════════════════════════════════════════\n",
      "mixture_01 : <openpnm.phase.StandardLiquidMixture at 0x2321336c720>\n",
      "――――――――――――――――――――――――――――――――――――――――――――――――――――――――――――――――――――――――――――――\n",
      "  #  Properties                                                   Valid Values\n",
      "――――――――――――――――――――――――――――――――――――――――――――――――――――――――――――――――――――――――――――――\n",
      "  1  pore.density                                                        9 / 9\n",
      "  2  pore.heat_capacity                                                  9 / 9\n",
      "  3  pore.mole_fraction.phase_07                                         9 / 9\n",
      "  4  pore.mole_fraction.phase_08                                         9 / 9\n",
      "  5  pore.pressure                                                       9 / 9\n",
      "  6  pore.temperature                                                    9 / 9\n",
      "  7  pore.thermal_conductivity                                           9 / 9\n",
      "  8  pore.viscosity                                                      9 / 9\n",
      "――――――――――――――――――――――――――――――――――――――――――――――――――――――――――――――――――――――――――――――\n",
      "  #  Labels                                                 Assigned Locations\n",
      "――――――――――――――――――――――――――――――――――――――――――――――――――――――――――――――――――――――――――――――\n",
      "  1  pore.all                                                                9\n",
      "  2  throat.all                                                             12\n",
      "――――――――――――――――――――――――――――――――――――――――――――――――――――――――――――――――――――――――――――――\n"
     ]
    }
   ],
   "source": [
    "vodka.regenerate_models()\n",
    "print(vodka)"
   ]
  },
  {
   "cell_type": "markdown",
   "id": "5c3059db",
   "metadata": {},
   "source": [
    "Several of the properties listed above were on the species objects, such as viscosity.  These viscosity of the mixture is computed using a mole-weighted approach. The molecular weight is also the mole-weighted average of the two species.  "
   ]
  },
  {
   "cell_type": "code",
   "execution_count": 58,
   "id": "bdab4074",
   "metadata": {},
   "outputs": [
    {
     "data": {
      "text/plain": [
       "array([0.00053084, 0.00053084, 0.00053084, 0.00053084, 0.00053084,\n",
       "       0.00053084, 0.00053084, 0.00053084, 0.00053084])"
      ]
     },
     "execution_count": 58,
     "metadata": {},
     "output_type": "execute_result"
    }
   ],
   "source": [
    "vodka['pore.viscosity']"
   ]
  },
  {
   "cell_type": "markdown",
   "id": "7d97a169",
   "metadata": {},
   "source": [
    "### Exploring the Features of the Mixture Objects"
   ]
  },
  {
   "cell_type": "markdown",
   "id": "c40f1857",
   "metadata": {},
   "source": [
    "#### Adding and Removing Species\n",
    "\n",
    "You can remove a species:"
   ]
  },
  {
   "cell_type": "code",
   "execution_count": 38,
   "id": "8d1dcc11",
   "metadata": {},
   "outputs": [
    {
     "data": {
      "text/plain": [
       "{'phase_08': phase_08 : <openpnm.phase.StandardLiquid at 0x2321336cf40>}"
      ]
     },
     "execution_count": 38,
     "metadata": {},
     "output_type": "execute_result"
    }
   ],
   "source": [
    "vodka.remove_comp(water.name)\n",
    "vodka.components"
   ]
  },
  {
   "cell_type": "markdown",
   "id": "c257cab8",
   "metadata": {},
   "source": [
    "----\n",
    "💡 **ProTip!** A species is considered a component of a mixture *if and only if* ``'pore.mole_fraction.<species.name>'`` appears in the mixture dictionary. Adding and removing the corresponding array from the dictionary is literally how the components are defined. For instance:"
   ]
  },
  {
   "cell_type": "code",
   "execution_count": 39,
   "id": "781001d6",
   "metadata": {},
   "outputs": [
    {
     "data": {
      "text/plain": [
       "{}"
      ]
     },
     "execution_count": 39,
     "metadata": {},
     "output_type": "execute_result"
    }
   ],
   "source": [
    "del vodka['pore.mole_fraction.' + etoh.name]\n",
    "vodka.components"
   ]
  },
  {
   "cell_type": "markdown",
   "id": "e3684b4a",
   "metadata": {},
   "source": [
    "They can be readded in the same way:"
   ]
  },
  {
   "cell_type": "code",
   "execution_count": 40,
   "id": "413dace1",
   "metadata": {},
   "outputs": [
    {
     "data": {
      "text/plain": [
       "{'phase_07': phase_07 : <openpnm.phase.StandardLiquid at 0x232133376d0>}"
      ]
     },
     "execution_count": 40,
     "metadata": {},
     "output_type": "execute_result"
    }
   ],
   "source": [
    "vodka['pore.mole_fraction.' + water.name] = 0.60\n",
    "vodka.components"
   ]
  },
  {
   "cell_type": "markdown",
   "id": "4ddefabc",
   "metadata": {},
   "source": [
    "But there is a specific method for this:"
   ]
  },
  {
   "cell_type": "code",
   "execution_count": 41,
   "id": "99f85168",
   "metadata": {},
   "outputs": [
    {
     "data": {
      "text/plain": [
       "{'phase_07': phase_07 : <openpnm.phase.StandardLiquid at 0x232133376d0>,\n",
       " 'phase_08': phase_08 : <openpnm.phase.StandardLiquid at 0x2321336cf40>}"
      ]
     },
     "execution_count": 41,
     "metadata": {},
     "output_type": "execute_result"
    }
   ],
   "source": [
    "vodka.add_comp(etoh, mole_fraction=0.40)\n",
    "vodka.components"
   ]
  },
  {
   "cell_type": "markdown",
   "id": "9e52b677",
   "metadata": {},
   "source": [
    "#### ``info``\n",
    "The info attribute reports all the existing properties on the mixture (similar to ``print``) but also of each of the components:"
   ]
  },
  {
   "cell_type": "code",
   "execution_count": 25,
   "id": "9e7473ec",
   "metadata": {},
   "outputs": [
    {
     "name": "stdout",
     "output_type": "stream",
     "text": [
      "\n",
      "══════════════════════════════════════════════════════════════════════════════\n",
      "mixture_01 : <openpnm.phase.StandardLiquidMixture at 0x2321336c720>\n",
      "――――――――――――――――――――――――――――――――――――――――――――――――――――――――――――――――――――――――――――――\n",
      "  #  Properties                                                   Valid Values\n",
      "――――――――――――――――――――――――――――――――――――――――――――――――――――――――――――――――――――――――――――――\n",
      "  1  pore.density                                                        9 / 9\n",
      "  2  pore.heat_capacity                                                  9 / 9\n",
      "  3  pore.mole_fraction.phase_07                                         9 / 9\n",
      "  4  pore.mole_fraction.phase_08                                         9 / 9\n",
      "  5  pore.pressure                                                       9 / 9\n",
      "  6  pore.temperature                                                    9 / 9\n",
      "  7  pore.thermal_conductivity                                           9 / 9\n",
      "  8  pore.viscosity                                                      9 / 9\n",
      "――――――――――――――――――――――――――――――――――――――――――――――――――――――――――――――――――――――――――――――\n",
      "  #  Labels                                                 Assigned Locations\n",
      "――――――――――――――――――――――――――――――――――――――――――――――――――――――――――――――――――――――――――――――\n",
      "  1  pore.all                                                                9\n",
      "  2  throat.all                                                             12\n",
      "――――――――――――――――――――――――――――――――――――――――――――――――――――――――――――――――――――――――――――――\n",
      "Component Phases\n",
      "══════════════════════════════════════════════════════════════════════════════\n",
      "phase_07 : <openpnm.phase.StandardLiquid at 0x232133376d0>\n",
      "――――――――――――――――――――――――――――――――――――――――――――――――――――――――――――――――――――――――――――――\n",
      "  #  Properties                                                   Valid Values\n",
      "――――――――――――――――――――――――――――――――――――――――――――――――――――――――――――――――――――――――――――――\n",
      "  1  pore.density.phase_07                                               9 / 9\n",
      "  2  pore.heat_capacity.phase_07                                         9 / 9\n",
      "  3  pore.heat_capacity_gas.phase_07                                     9 / 9\n",
      "  4  pore.pressure.phase_07                                              9 / 9\n",
      "  5  pore.temperature.phase_07                                           9 / 9\n",
      "  6  pore.thermal_conductivity.phase_07                                  9 / 9\n",
      "  7  pore.vapor_pressure.phase_07                                        9 / 9\n",
      "  8  pore.viscosity.phase_07                                             9 / 9\n",
      "――――――――――――――――――――――――――――――――――――――――――――――――――――――――――――――――――――――――――――――\n",
      "  #  Labels                                                 Assigned Locations\n",
      "――――――――――――――――――――――――――――――――――――――――――――――――――――――――――――――――――――――――――――――\n",
      "  1  pore.all.phase_07                                                       9\n",
      "  2  throat.all.phase_07                                                    12\n",
      "══════════════════════════════════════════════════════════════════════════════\n",
      "phase_08 : <openpnm.phase.StandardLiquid at 0x2321336cf40>\n",
      "――――――――――――――――――――――――――――――――――――――――――――――――――――――――――――――――――――――――――――――\n",
      "  #  Properties                                                   Valid Values\n",
      "――――――――――――――――――――――――――――――――――――――――――――――――――――――――――――――――――――――――――――――\n",
      "  1  pore.density.phase_08                                               9 / 9\n",
      "  2  pore.heat_capacity.phase_08                                         9 / 9\n",
      "  3  pore.heat_capacity_gas.phase_08                                     9 / 9\n",
      "  4  pore.pressure.phase_08                                              9 / 9\n",
      "  5  pore.temperature.phase_08                                           9 / 9\n",
      "  6  pore.thermal_conductivity.phase_08                                  9 / 9\n",
      "  7  pore.vapor_pressure.phase_08                                        9 / 9\n",
      "  8  pore.viscosity.phase_08                                             9 / 9\n",
      "――――――――――――――――――――――――――――――――――――――――――――――――――――――――――――――――――――――――――――――\n",
      "  #  Labels                                                 Assigned Locations\n",
      "――――――――――――――――――――――――――――――――――――――――――――――――――――――――――――――――――――――――――――――\n",
      "  1  pore.all.phase_08                                                       9\n",
      "  2  throat.all.phase_08                                                    12\n",
      "――――――――――――――――――――――――――――――――――――――――――――――――――――――――――――――――――――――――――――――\n"
     ]
    }
   ],
   "source": [
    "vodka.info"
   ]
  },
  {
   "cell_type": "markdown",
   "id": "dea5ed85",
   "metadata": {},
   "source": [
    "#### Get component mole fractions\n",
    "\n",
    "You'll notice that the mixture object has arrays called ``'pore.mole_fraction.<compname>'`` for each component. The dictionary look-up in OpenPNM will return a subdictionary if the given key is just ``'pore.mole_fraction'``."
   ]
  },
  {
   "cell_type": "code",
   "execution_count": 26,
   "id": "5636fdfa",
   "metadata": {},
   "outputs": [
    {
     "data": {
      "text/plain": [
       "{'phase_07': array([0.8, 0.8, 0.8, 0.8, 0.8, 0.8, 0.8, 0.8, 0.8]),\n",
       " 'phase_08': array([0.2, 0.2, 0.2, 0.2, 0.2, 0.2, 0.2, 0.2, 0.2])}"
      ]
     },
     "execution_count": 26,
     "metadata": {},
     "output_type": "execute_result"
    }
   ],
   "source": [
    "vodka['pore.mole_fraction']"
   ]
  },
  {
   "cell_type": "markdown",
   "id": "00de50e2",
   "metadata": {},
   "source": [
    "#### ``components``\n",
    "This attribute returns a dictionary with each of the components accessible by their name:"
   ]
  },
  {
   "cell_type": "code",
   "execution_count": 27,
   "id": "692448e5",
   "metadata": {},
   "outputs": [
    {
     "name": "stdout",
     "output_type": "stream",
     "text": [
      "dict_keys(['phase_07', 'phase_08'])\n"
     ]
    }
   ],
   "source": [
    "d = vodka.components\n",
    "print(d.keys())"
   ]
  },
  {
   "cell_type": "markdown",
   "id": "524b72f2",
   "metadata": {},
   "source": [
    "#### ``get_comp_vals``\n",
    "Since the mixture is made from several components, it is often desired get the values of a specific property from each component.  This method provides a convenient way to do this:"
   ]
  },
  {
   "cell_type": "code",
   "execution_count": 28,
   "id": "e1a60168",
   "metadata": {},
   "outputs": [
    {
     "name": "stdout",
     "output_type": "stream",
     "text": [
      "{'phase_07': array([0.00062103, 0.00062103, 0.00062103, 0.00062103, 0.00062103,\n",
      "       0.00062103, 0.00062103, 0.00062103, 0.00062103]), 'phase_08': array([0.00041951, 0.00041951, 0.00041951, 0.00041951, 0.00041951,\n",
      "       0.00041951, 0.00041951, 0.00041951, 0.00041951])}\n"
     ]
    }
   ],
   "source": [
    "mus = vodka.get_comp_vals('pore.viscosity')\n",
    "print(mus)"
   ]
  },
  {
   "cell_type": "markdown",
   "id": "7bfab499",
   "metadata": {},
   "source": [
    "It is also possible to retrieve the properteis of a component by asking the mixture and appending the component name, as follows:"
   ]
  },
  {
   "cell_type": "code",
   "execution_count": 30,
   "id": "87dfb7ab",
   "metadata": {},
   "outputs": [
    {
     "data": {
      "text/plain": [
       "array([0.00062103, 0.00062103, 0.00062103, 0.00062103, 0.00062103,\n",
       "       0.00062103, 0.00062103, 0.00062103, 0.00062103])"
      ]
     },
     "execution_count": 30,
     "metadata": {},
     "output_type": "execute_result"
    }
   ],
   "source": [
    "vodka['pore.viscosity.' + water.name]"
   ]
  },
  {
   "cell_type": "markdown",
   "id": "964bf9f9",
   "metadata": {},
   "source": [
    "In reality there is no array on ``vodka`` with the name ``'pore.viscosity.phase_01'``, but failure to find this array is what actually triggers the look-up of the array from ``water``. This is a convenient feature that is added using some 'syntactic sugar' behind the scenes in Python.  "
   ]
  },
  {
   "cell_type": "markdown",
   "id": "a666f7e3",
   "metadata": {},
   "source": [
    "#### ``check_mixture_health``\n",
    "\n",
    "You can also check the health of the mixture, such as whether all the mole fractions add to 1.0 each each pore:"
   ]
  },
  {
   "cell_type": "code",
   "execution_count": 35,
   "id": "a5bd5ca5",
   "metadata": {},
   "outputs": [
    {
     "name": "stdout",
     "output_type": "stream",
     "text": [
      "――――――――――――――――――――――――――――――――――――――――――――――――――――――――――――――――――――――――――――――\n",
      "Key                                 Value\n",
      "――――――――――――――――――――――――――――――――――――――――――――――――――――――――――――――――――――――――――――――\n",
      "mole_fraction_too_low               []\n",
      "mole_fraction_too_high              []\n",
      "――――――――――――――――――――――――――――――――――――――――――――――――――――――――――――――――――――――――――――――\n"
     ]
    }
   ],
   "source": [
    "print(vodka.check_mixture_health())"
   ]
  },
  {
   "cell_type": "code",
   "execution_count": 37,
   "id": "b809ec4c",
   "metadata": {},
   "outputs": [
    {
     "name": "stdout",
     "output_type": "stream",
     "text": [
      "――――――――――――――――――――――――――――――――――――――――――――――――――――――――――――――――――――――――――――――\n",
      "Key                                 Value\n",
      "――――――――――――――――――――――――――――――――――――――――――――――――――――――――――――――――――――――――――――――\n",
      "mole_fraction_too_low               (9,)\n",
      "mole_fraction_too_high              []\n",
      "――――――――――――――――――――――――――――――――――――――――――――――――――――――――――――――――――――――――――――――\n"
     ]
    }
   ],
   "source": [
    "vodka.x(water.name, 0.1)\n",
    "print(vodka.check_mixture_health())"
   ]
  },
  {
   "cell_type": "markdown",
   "id": "5e93c379",
   "metadata": {},
   "source": [
    "#### Retrieving Species Properties\n",
    "\n",
    "Lastly, the properties of the individual species can be retrieved from the mixture as follows:"
   ]
  },
  {
   "cell_type": "code",
   "execution_count": 42,
   "id": "b0a699ad",
   "metadata": {},
   "outputs": [
    {
     "data": {
      "text/plain": [
       "{'phase_07': array([0.00062103, 0.00062103, 0.00062103, 0.00062103, 0.00062103,\n",
       "        0.00062103, 0.00062103, 0.00062103, 0.00062103]),\n",
       " 'phase_08': array([0.00041951, 0.00041951, 0.00041951, 0.00041951, 0.00041951,\n",
       "        0.00041951, 0.00041951, 0.00041951, 0.00041951])}"
      ]
     },
     "execution_count": 42,
     "metadata": {},
     "output_type": "execute_result"
    }
   ],
   "source": [
    "vodka.get_comp_vals('pore.viscosity')"
   ]
  },
  {
   "cell_type": "markdown",
   "id": "8fedb1a4",
   "metadata": {},
   "source": [
    "#### Using the wildcard (``*``) syntax\n",
    "\n",
    "One more feature that has been added is the ability to fetch requested property arrays from *all* the components by replacing the component name with the universal *wildcard* symbmol: ``*`` as follows:"
   ]
  },
  {
   "cell_type": "code",
   "execution_count": 31,
   "id": "b5a49a14",
   "metadata": {},
   "outputs": [
    {
     "data": {
      "text/plain": [
       "{'phase_07': array([0.00062103, 0.00062103, 0.00062103, 0.00062103, 0.00062103,\n",
       "        0.00062103, 0.00062103, 0.00062103, 0.00062103]),\n",
       " 'phase_08': array([0.00041951, 0.00041951, 0.00041951, 0.00041951, 0.00041951,\n",
       "        0.00041951, 0.00041951, 0.00041951, 0.00041951])}"
      ]
     },
     "execution_count": 31,
     "metadata": {},
     "output_type": "execute_result"
    }
   ],
   "source": [
    "vodka['pore.viscosity.*']"
   ]
  },
  {
   "cell_type": "markdown",
   "id": "f48d9a8b",
   "metadata": {},
   "source": [
    "Note that this returns exactly the same dictionary as the ``get_comp_vals`` method (in fact this function gets called behind the scenes), but this feature is offered for more than just convenience.  The main reason for supporting this feature is so that pore-scale models can be instructed to fetch the needed arrays for computing the mixture properties.  This is demonstrated in the following simple example of a custom mixture model:"
   ]
  },
  {
   "cell_type": "code",
   "execution_count": 32,
   "id": "3a51e8fe",
   "metadata": {},
   "outputs": [],
   "source": [
    "def mole_fraction_weighting(phase, propname):\n",
    "    xs = phase['pore.mole_fraction']\n",
    "    ys = phase[propname]  # This is the key step\n",
    "    z = 0.0\n",
    "    for i in xs.keys():\n",
    "        z += xs[i]*ys[i]\n",
    "    return z"
   ]
  },
  {
   "cell_type": "code",
   "execution_count": 33,
   "id": "5971bfe3",
   "metadata": {},
   "outputs": [
    {
     "name": "stdout",
     "output_type": "stream",
     "text": [
      "[0.00058073 0.00058073 0.00058073 0.00058073 0.00058073 0.00058073\n",
      " 0.00058073 0.00058073 0.00058073]\n"
     ]
    }
   ],
   "source": [
    "vals = mole_fraction_weighting(phase=vodka, propname='pore.viscosity.*')\n",
    "print(vals)"
   ]
  },
  {
   "cell_type": "markdown",
   "id": "bede68a9",
   "metadata": {},
   "source": [
    "The use of the ``'.*'`` as the suffix of the ``propname`` argument is crucial here.  As can be seen in the definition of ``mole_fraction_weighting``, the call to ``phase[propname]`` passes ``'pore.viscsoity.*'`` directly to the dictionary lookup of values from ``phase``, and this in turn triggers the retrieval of the ``'pore.viscosity'`` values from each component. \n",
    "\n",
    "If we were to pass ``'pore.viscosity'`` then the function would throw an error since the call to ``phase['pore.viscosity']`` would return a single numpy array of viscosity values of the mixture (or not find any values at all)."
   ]
  }
 ],
 "metadata": {
  "kernelspec": {
   "display_name": "Python 3 (ipykernel)",
   "language": "python",
   "name": "python3"
  },
  "language_info": {
   "codemirror_mode": {
    "name": "ipython",
    "version": 3
   },
   "file_extension": ".py",
   "mimetype": "text/x-python",
   "name": "python",
   "nbconvert_exporter": "python",
   "pygments_lexer": "ipython3",
   "version": "3.9.7"
  }
 },
 "nbformat": 4,
 "nbformat_minor": 5
}

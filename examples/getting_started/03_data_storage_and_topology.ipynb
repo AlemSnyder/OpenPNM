{
 "cells": [
  {
   "cell_type": "markdown",
   "id": "5172ee2e",
   "metadata": {},
   "source": [
    "# Data Storage in OpenPNM"
   ]
  },
  {
   "cell_type": "markdown",
   "id": "d24cf7d9",
   "metadata": {},
   "source": [
    "OpenPNM uses 2 very common python data structures, so it's best to get comfortable with them right away.  In this example we'll cover:\n",
    "\n",
    "1. Python's ``list``\n",
    "1. Numpy's ``ndarray``\n",
    "1. Python's `dict` or *dictionary*\n",
    "1. OpenPNM's naming convention\n",
    "1. Data vs Labels in OpenPNM"
   ]
  },
  {
   "cell_type": "markdown",
   "id": "c8ef6811",
   "metadata": {},
   "source": [
    "## Python Lists: Flexible but Slow\n",
    "First lets quickly look at Python's *array*, which is called a ``list``.  It is indicated by the square brackets:"
   ]
  },
  {
   "cell_type": "code",
   "execution_count": 33,
   "id": "f11dc182",
   "metadata": {},
   "outputs": [],
   "source": [
    "L = [0, 2, 4, 6, 8]"
   ]
  },
  {
   "cell_type": "markdown",
   "id": "32b661dd",
   "metadata": {},
   "source": [
    "You can read and write values as follows:"
   ]
  },
  {
   "cell_type": "code",
   "execution_count": 34,
   "id": "8044b257",
   "metadata": {},
   "outputs": [
    {
     "name": "stdout",
     "output_type": "stream",
     "text": [
      "[32, 2, 4, 6, 8]\n"
     ]
    }
   ],
   "source": [
    "L[0] = L[2]*L[4]\n",
    "print(L)"
   ]
  },
  {
   "cell_type": "markdown",
   "id": "1952522b",
   "metadata": {},
   "source": [
    "Note that Python uses 0-indexing, and also that square brackets are used to index into any sequence."
   ]
  },
  {
   "cell_type": "markdown",
   "id": "e6846474",
   "metadata": {},
   "source": [
    "You can make the ``list`` longer, and remove items:"
   ]
  },
  {
   "cell_type": "code",
   "execution_count": 40,
   "id": "ff50442c",
   "metadata": {},
   "outputs": [
    {
     "name": "stdout",
     "output_type": "stream",
     "text": [
      "[32, 2, 6, 8, 100, 100]\n"
     ]
    }
   ],
   "source": [
    "L.append(100)\n",
    "print(L)"
   ]
  },
  {
   "cell_type": "code",
   "execution_count": 41,
   "id": "9562a42c",
   "metadata": {},
   "outputs": [
    {
     "name": "stdout",
     "output_type": "stream",
     "text": [
      "[32, 2, 8, 100, 100]\n"
     ]
    }
   ],
   "source": [
    "L.pop(2)\n",
    "print(L)"
   ]
  },
  {
   "cell_type": "markdown",
   "id": "128cabfc",
   "metadata": {},
   "source": [
    "However, this list is not very good at math:"
   ]
  },
  {
   "cell_type": "code",
   "execution_count": 42,
   "id": "ea4c14a8",
   "metadata": {},
   "outputs": [
    {
     "name": "stdout",
     "output_type": "stream",
     "text": [
      "Adding to a list assumes you are joining 2 lists\n",
      "[32, 2, 8, 100, 100, 2, 3]\n"
     ]
    }
   ],
   "source": [
    "try:\n",
    "    print(L + 2)\n",
    "except TypeError:\n",
    "    print('Adding to a list assumes you are joining 2 lists')\n",
    "print(L + [2, 3])"
   ]
  },
  {
   "cell_type": "markdown",
   "id": "f83d880b",
   "metadata": {},
   "source": [
    "And multiplication assumes you want to duplicate the list N times:"
   ]
  },
  {
   "cell_type": "code",
   "execution_count": 43,
   "id": "02de8b44",
   "metadata": {},
   "outputs": [
    {
     "name": "stdout",
     "output_type": "stream",
     "text": [
      "[32, 2, 8, 100, 100, 32, 2, 8, 100, 100]\n"
     ]
    }
   ],
   "source": [
    "print(L*2)"
   ]
  },
  {
   "cell_type": "markdown",
   "id": "e9ccec19",
   "metadata": {},
   "source": [
    "The reason the list is not ideal for numerical operations is that *anything* can be stored in each element:"
   ]
  },
  {
   "cell_type": "code",
   "execution_count": 44,
   "id": "3c612173",
   "metadata": {},
   "outputs": [
    {
     "name": "stdout",
     "output_type": "stream",
     "text": [
      "['str', 2, 8, 100, 100]\n"
     ]
    }
   ],
   "source": [
    "L[0] = 'str'\n",
    "print(L)"
   ]
  },
  {
   "cell_type": "markdown",
   "id": "dd7827f4",
   "metadata": {},
   "source": [
    "This is why it's not possible to add or multiply a list, since Python does not necessarily know the meaning of adding an integer and a string (i.e. 'str' + 1)."
   ]
  },
  {
   "cell_type": "markdown",
   "id": "aef206a9",
   "metadata": {},
   "source": [
    "## Numpy ``ndarray``: Optimized for Numerics\n",
    "Now let's take a look at the Numpy ``ndarray``. Numpy is used *very* extensively in scientific python because the native `list` discussed above is not very fast. Numpy arrays on the other hand are actually \"C\" arrays behind the scenes so are very fast. The downside is that you must learn a 'mini-language' to use them.  The following few code blocks illustrate this.  "
   ]
  },
  {
   "cell_type": "code",
   "execution_count": 16,
   "id": "d113e3fc",
   "metadata": {},
   "outputs": [
    {
     "name": "stdout",
     "output_type": "stream",
     "text": [
      "[ 0 15 30 45 60 75 90]\n"
     ]
    }
   ],
   "source": [
    "import numpy as np\n",
    "a = np.arange(0, 100, 15)\n",
    "print(a)"
   ]
  },
  {
   "cell_type": "code",
   "execution_count": 17,
   "id": "a7fded9e",
   "metadata": {},
   "outputs": [
    {
     "name": "stdout",
     "output_type": "stream",
     "text": [
      "30\n"
     ]
    }
   ],
   "source": [
    "print(a[2])"
   ]
  },
  {
   "cell_type": "code",
   "execution_count": 18,
   "id": "47388a7d",
   "metadata": {},
   "outputs": [
    {
     "name": "stdout",
     "output_type": "stream",
     "text": [
      "[999  15  30  45  60  75  90]\n"
     ]
    }
   ],
   "source": [
    "a[0] = 999\n",
    "print(a)"
   ]
  },
  {
   "cell_type": "markdown",
   "id": "1a8ff417",
   "metadata": {},
   "source": [
    "You can also choose a subset of indices:"
   ]
  },
  {
   "cell_type": "code",
   "execution_count": 19,
   "id": "8630d254",
   "metadata": {},
   "outputs": [
    {
     "name": "stdout",
     "output_type": "stream",
     "text": [
      "[999  30  60]\n"
     ]
    }
   ],
   "source": [
    "print(a[[0, 2, 4]])"
   ]
  },
  {
   "cell_type": "markdown",
   "id": "cf21d771",
   "metadata": {},
   "source": [
    "You can set multiple locations with a single value:"
   ]
  },
  {
   "cell_type": "code",
   "execution_count": 22,
   "id": "7b03303e",
   "metadata": {},
   "outputs": [
    {
     "name": "stdout",
     "output_type": "stream",
     "text": [
      "[-100   15 -100   45 -100   75   90]\n"
     ]
    }
   ],
   "source": [
    "a[[0, 2, 4]] = -100\n",
    "print(a)"
   ]
  },
  {
   "cell_type": "markdown",
   "id": "c08b9aeb",
   "metadata": {},
   "source": [
    "Or an array of values:"
   ]
  },
  {
   "cell_type": "code",
   "execution_count": 23,
   "id": "7c0cb79f",
   "metadata": {},
   "outputs": [
    {
     "name": "stdout",
     "output_type": "stream",
     "text": [
      "[-100  111 -100  222 -100  333   90]\n"
     ]
    }
   ],
   "source": [
    "a[[1, 3, 5]] = [111, 222, 333]\n",
    "print(a)"
   ]
  },
  {
   "cell_type": "markdown",
   "id": "162b7cfd",
   "metadata": {},
   "source": [
    "And of course, math makes sense to an ``ndarray`` since *all* the elements are assured to be numbers:"
   ]
  },
  {
   "cell_type": "code",
   "execution_count": 45,
   "id": "b9007729",
   "metadata": {},
   "outputs": [
    {
     "name": "stdout",
     "output_type": "stream",
     "text": [
      "[-200  222 -200  444 -200  666  180]\n"
     ]
    }
   ],
   "source": [
    "print(a*2)"
   ]
  },
  {
   "cell_type": "code",
   "execution_count": 46,
   "id": "501c3cd3",
   "metadata": {},
   "outputs": [
    {
     "name": "stdout",
     "output_type": "stream",
     "text": [
      "[  0 211   0 322   0 433 190]\n"
     ]
    }
   ],
   "source": [
    "print(a + 100)"
   ]
  },
  {
   "cell_type": "code",
   "execution_count": 47,
   "id": "80206e56",
   "metadata": {},
   "outputs": [
    {
     "name": "stdout",
     "output_type": "stream",
     "text": [
      "[ 10000  12321  10000  49284  10000 110889   8100]\n"
     ]
    }
   ],
   "source": [
    "print(a*a)"
   ]
  },
  {
   "cell_type": "markdown",
   "id": "2e684534",
   "metadata": {},
   "source": [
    "## Dictionaries: Holding Things Together\n",
    "The last piece of the puzzle is Python's built-in ``dict``.  This allow one to store *anything* by name in a single container:"
   ]
  },
  {
   "cell_type": "code",
   "execution_count": 51,
   "id": "171f689b",
   "metadata": {},
   "outputs": [
    {
     "name": "stdout",
     "output_type": "stream",
     "text": [
      "{'arr': array([-100,  111, -100,  222, -100,  333,   90]), 'list': ['str', 2, 8, 100, 100]}\n"
     ]
    }
   ],
   "source": [
    "d = dict()\n",
    "d['arr'] = a\n",
    "d['list'] = L\n",
    "print(d)"
   ]
  },
  {
   "cell_type": "markdown",
   "id": "d59514d4",
   "metadata": {},
   "source": [
    "You can retrieve any element by name:"
   ]
  },
  {
   "cell_type": "code",
   "execution_count": 52,
   "id": "97f811be",
   "metadata": {},
   "outputs": [
    {
     "name": "stdout",
     "output_type": "stream",
     "text": [
      "[-100  111 -100  222 -100  333   90]\n"
     ]
    }
   ],
   "source": [
    "print(d['arr'])"
   ]
  },
  {
   "cell_type": "markdown",
   "id": "3fedfd0f",
   "metadata": {},
   "source": [
    "And adding new items is easy:"
   ]
  },
  {
   "cell_type": "code",
   "execution_count": 55,
   "id": "19cc45ee",
   "metadata": {},
   "outputs": [
    {
     "name": "stdout",
     "output_type": "stream",
     "text": [
      "{'arr': array([-100,  111, -100,  222, -100,  333,   90]), 'list': ['str', 2, 8, 100, 100], 'test': 1.0}\n"
     ]
    }
   ],
   "source": [
    "d['test'] = 1.0\n",
    "print(d)"
   ]
  },
  {
   "cell_type": "markdown",
   "id": "ad8f2fc7",
   "metadata": {},
   "source": [
    "Like lists, ``dict``s can hold anything in each element, including arrays, lists or even other ``dict``s."
   ]
  }
 ],
 "metadata": {
  "kernelspec": {
   "display_name": "Python 3 (ipykernel)",
   "language": "python",
   "name": "python3"
  },
  "language_info": {
   "codemirror_mode": {
    "name": "ipython",
    "version": 3
   },
   "file_extension": ".py",
   "mimetype": "text/x-python",
   "name": "python",
   "nbconvert_exporter": "python",
   "pygments_lexer": "ipython3",
   "version": "3.9.7"
  }
 },
 "nbformat": 4,
 "nbformat_minor": 5
}

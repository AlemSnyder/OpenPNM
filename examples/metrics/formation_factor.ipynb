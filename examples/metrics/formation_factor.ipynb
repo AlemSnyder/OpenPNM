{
 "cells": [
  {
   "cell_type": "markdown",
   "metadata": {},
   "source": [
    "# Predicting formation factor"
   ]
  },
  {
   "cell_type": "markdown",
   "metadata": {},
   "source": [
    "The example explains formation factor calculations on a cubic network. Note that formation factor calcualtion for an extracted network from PoreSpy follows similar steps in assigning phase, algorithm and calculating the effective property."
   ]
  },
  {
   "cell_type": "code",
   "execution_count": 1,
   "metadata": {},
   "outputs": [],
   "source": [
    "import numpy as np\n",
    "import openpnm as op\n",
    "%config InlineBackend.figure_formats = ['svg']\n",
    "np.random.seed(10)\n",
    "%matplotlib inline\n",
    "np.set_printoptions(precision=5)"
   ]
  },
  {
   "cell_type": "markdown",
   "metadata": {},
   "source": [
    "### Create a random cubic network"
   ]
  },
  {
   "cell_type": "code",
   "execution_count": 2,
   "metadata": {},
   "outputs": [],
   "source": [
    "np.random.seed(10)\n",
    "pn = op.network.Cubic(shape=[15, 15, 15], spacing=1e-6)\n",
    "pn.add_model_collection(op.models.collections.geometry.spheres_and_cylinders)\n",
    "pn.regenerate_models()"
   ]
  },
  {
   "cell_type": "markdown",
   "metadata": {},
   "source": [
    "### Create phase object"
   ]
  },
  {
   "cell_type": "markdown",
   "metadata": {},
   "source": [
    "It is assumed that a generic phase is the phase difffusing through the porous medium. As formation factor is the porous medium property and not the phase property, any other phase asumming a diffusion coefficient value can be used as the phase."
   ]
  },
  {
   "cell_type": "code",
   "execution_count": 3,
   "metadata": {},
   "outputs": [],
   "source": [
    "phase = op.phase.Phase(network=pn)\n",
    "phase['pore.diffusivity']=1\n",
    "phase.add_model_collection(op.models.collections.physics.basic)\n",
    "phase.regenerate_models()"
   ]
  },
  {
   "cell_type": "markdown",
   "metadata": {},
   "source": [
    "### Apply fickian diffusion"
   ]
  },
  {
   "cell_type": "markdown",
   "metadata": {},
   "source": [
    "To calculate formation factor in x direction, a constant concentration boundary condition is applied on the left and right side of the network. Note that a similar procedure can be followed to find the formation factor in y and z directions."
   ]
  },
  {
   "cell_type": "code",
   "execution_count": 4,
   "metadata": {},
   "outputs": [
    {
     "name": "stdout",
     "output_type": "stream",
     "text": [
      "                                                                                                                       \r"
     ]
    },
    {
     "data": {
      "text/plain": [
       "{'pore.concentration': SteadyStateSolution([1., 1., 1., ..., 0., 0., 0.])}"
      ]
     },
     "execution_count": 4,
     "metadata": {},
     "output_type": "execute_result"
    }
   ],
   "source": [
    "inlet = pn.pores('left')\n",
    "outlet = pn.pores('right')\n",
    "Diff = op.algorithms.FickianDiffusion(network=pn, phase=phase)\n",
    "Diff.set_value_BC(pores=inlet, values=1)\n",
    "Diff.set_value_BC(pores=outlet, values=0)\n",
    "Diff.run()"
   ]
  },
  {
   "cell_type": "markdown",
   "metadata": {},
   "source": [
    "### Calculate formation factor"
   ]
  },
  {
   "cell_type": "markdown",
   "metadata": {},
   "source": [
    "Calculate the formation factor, which is the inverse of effective diffusivity of the medium. Assuming concentration difference and diffusivity of 1, we have a simplified equation:"
   ]
  },
  {
   "cell_type": "code",
   "execution_count": 5,
   "metadata": {},
   "outputs": [
    {
     "name": "stderr",
     "output_type": "stream",
     "text": [
      "------------------------------------------------------------\n",
      "    WARNING    : Attempting to estimate inlet area...will be low \n",
      "    SOURCE     : openpnm.topotools._topotools.get_domain_area \n",
      "    TIME STAMP : 2022-07-13 11:35:52,104    \n",
      "------------------------------------------------------------\n",
      "------------------------------------------------------------\n",
      "    WARNING    : Attempting to estimate domain length...could be low if\n",
      "             boundary pores were not added \n",
      "    SOURCE     : openpnm.topotools._topotools.get_domain_length \n",
      "    TIME STAMP : 2022-07-13 11:35:52,119    \n",
      "------------------------------------------------------------\n"
     ]
    },
    {
     "name": "stdout",
     "output_type": "stream",
     "text": [
      "Formation factor is: 23.20\n"
     ]
    }
   ],
   "source": [
    "# NBVAL_IGNORE_OUTPUT\n",
    "R = Diff.rate(pores=inlet, mode='group')[0]\n",
    "A = op.topotools.get_domain_area(pn, inlets=inlet, outlets=outlet)\n",
    "L = op.topotools.get_domain_length(pn, inlets=inlet, outlets=outlet)\n",
    "D_eff = R * L / (A)\n",
    "F = 1/D_eff\n",
    "print(f'Formation factor is: {F:.2f}')"
   ]
  }
 ],
 "metadata": {
  "@webio": {
   "lastCommId": null,
   "lastKernelId": null
  },
  "hide_input": false,
  "kernelspec": {
   "display_name": "Python 3",
   "language": "python",
   "name": "python3"
  },
  "language_info": {
   "codemirror_mode": {
    "name": "ipython",
    "version": 3
   },
   "file_extension": ".py",
   "mimetype": "text/x-python",
   "name": "python",
   "nbconvert_exporter": "python",
   "pygments_lexer": "ipython3",
   "version": "3.8.3"
  }
 },
 "nbformat": 4,
 "nbformat_minor": 2
}

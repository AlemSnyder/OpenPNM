{
 "cells": [
  {
   "cell_type": "markdown",
   "metadata": {},
   "source": [
    "# Predicting Porosity"
   ]
  },
  {
   "cell_type": "markdown",
   "metadata": {},
   "source": [
    "The example explains how to estimate porosity of a network. We also discuss some challenges in estimating the porosity of the network and how to reduce the estimation error."
   ]
  },
  {
   "cell_type": "code",
   "execution_count": 1,
   "metadata": {},
   "outputs": [],
   "source": [
    "import numpy as np\n",
    "import openpnm as op\n",
    "%config InlineBackend.figure_formats = ['svg']\n",
    "np.random.seed(10)\n",
    "%matplotlib inline\n",
    "np.set_printoptions(precision=5)"
   ]
  },
  {
   "cell_type": "markdown",
   "metadata": {},
   "source": [
    "### Create a random cubic network"
   ]
  },
  {
   "cell_type": "code",
   "execution_count": 2,
   "metadata": {},
   "outputs": [],
   "source": [
    "pn = op.network.Cubic(shape=[15, 15, 15], spacing=1e-6)\n",
    "pn.add_model_collection(op.models.collections.geometry.cubes_and_cuboids)\n",
    "pn.regenerate_models()"
   ]
  },
  {
   "cell_type": "markdown",
   "metadata": {},
   "source": [
    "### Calculate total void volume"
   ]
  },
  {
   "cell_type": "code",
   "execution_count": 3,
   "metadata": {},
   "outputs": [],
   "source": [
    "Vol_void = np.sum(pn['pore.volume'])+np.sum(pn['throat.volume'])"
   ]
  },
  {
   "cell_type": "markdown",
   "metadata": {},
   "source": [
    "### Calculate total domain volume"
   ]
  },
  {
   "cell_type": "code",
   "execution_count": 4,
   "metadata": {},
   "outputs": [
    {
     "name": "stderr",
     "output_type": "stream",
     "text": [
      "------------------------------------------------------------\n",
      "    WARNING    : Attempting to estimate inlet area...will be low \n",
      "    SOURCE     : openpnm.topotools._topotools.get_domain_area \n",
      "    TIME STAMP : 2022-07-13 16:47:17,025    \n",
      "------------------------------------------------------------\n",
      "------------------------------------------------------------\n",
      "    WARNING    : Attempting to estimate domain length...could be low if\n",
      "             boundary pores were not added \n",
      "    SOURCE     : openpnm.topotools._topotools.get_domain_length \n",
      "    TIME STAMP : 2022-07-13 16:47:17,038    \n",
      "------------------------------------------------------------\n"
     ]
    },
    {
     "name": "stdout",
     "output_type": "stream",
     "text": [
      "The value of Porosity is: 0.21\n"
     ]
    }
   ],
   "source": [
    "inlet = pn.pores('left')\n",
    "outlet = pn.pores('right')\n",
    "A = op.topotools.get_domain_area(pn, inlets=inlet, outlets=outlet)\n",
    "L = op.topotools.get_domain_length(pn, inlets=inlet, outlets=outlet)\n",
    "Vol_bulk = A * L\n",
    "Poro = Vol_void / Vol_bulk\n",
    "print(f'The value of Porosity is: {Poro:.2f}')"
   ]
  },
  {
   "cell_type": "markdown",
   "metadata": {},
   "source": [
    "### Discussions and Issues"
   ]
  },
  {
   "cell_type": "markdown",
   "metadata": {},
   "source": [
    "One of the issues in estimation of porosity of the network is to estimate the domain volume correctly. In a cubic network for example, finding the length at x direction using Nx * spacing is erroneous. The reason is the actual domain length in x direction includes additional lengths from half of pore diameter for pores that locate on the left and right side. This issue becomes more problematic in extracted networks where the image data is not available and pore centers at the surface of the domain may not align at the same x coordinate. For such cases using OpenPNM's get_domain_area and get_domain_length is recommended to provide a better approximation of the domain volume."
   ]
  },
  {
   "cell_type": "markdown",
   "metadata": {},
   "source": [
    "Another issue is to ensure that the pore-scale models for volume are consistent. For example there is no overlapping pores, because in this case the void volume calculation will overestimate the real void space. Depending on the pore scale model used for the shape of pores and throats, they may need special methods to calculate the void volume to account for the overlap between throats and pores. For example in spheres and cylinders models, there is an overlap of pore volume in throats. Depending on the method that was used for assigning throat lengths, this overlap volume may be included in volume calculations. Existing methods to correct the throat volumes are ``lens`` and ``pendular_ring`` methods. See following example:"
   ]
  },
  {
   "cell_type": "markdown",
   "metadata": {},
   "source": [
    "Pendular_ring method calculates the volume of the pendular rings residing between the end of a cylindrical throat and spherical pores that are in contact but not overlapping. This volume should be added to the throat volume if the throat length was\n",
    "found as the center-to-center distance less the pore radii. Let's create a spheres and cylinders geometry:"
   ]
  },
  {
   "cell_type": "code",
   "execution_count": 5,
   "metadata": {},
   "outputs": [],
   "source": [
    "pn.add_model_collection(op.models.collections.geometry.spheres_and_cylinders)\n",
    "pn.regenerate_models()"
   ]
  },
  {
   "cell_type": "code",
   "execution_count": 6,
   "metadata": {},
   "outputs": [
    {
     "name": "stdout",
     "output_type": "stream",
     "text": [
      "The value of Porosity is: 0.13\n"
     ]
    }
   ],
   "source": [
    "Vol_pendular_ring = np.sum(op.models.geometry.throat_volume.pendular_ring(pn))\n",
    "Vol_void = np.sum(pn['pore.volume'])+np.sum(pn['throat.volume'])-Vol_pendular_ring\n",
    "Poro = Vol_void / Vol_bulk\n",
    "print(f'The value of Porosity is: {Poro:.2f}')"
   ]
  },
  {
   "cell_type": "markdown",
   "metadata": {},
   "source": [
    "Although in this example the volume of pendular ring was negligible, depending on the size of the pores and throats, this value can be too high to be neglected."
   ]
  }
 ],
 "metadata": {
  "@webio": {
   "lastCommId": null,
   "lastKernelId": null
  },
  "hide_input": false,
  "kernelspec": {
   "display_name": "Python 3",
   "language": "python",
   "name": "python3"
  },
  "language_info": {
   "codemirror_mode": {
    "name": "ipython",
    "version": 3
   },
   "file_extension": ".py",
   "mimetype": "text/x-python",
   "name": "python",
   "nbconvert_exporter": "python",
   "pygments_lexer": "ipython3",
   "version": "3.8.3"
  }
 },
 "nbformat": 4,
 "nbformat_minor": 2
}

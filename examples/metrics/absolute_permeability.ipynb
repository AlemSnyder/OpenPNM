{
 "cells": [
  {
   "cell_type": "markdown",
   "metadata": {},
   "source": [
    "# Predicting absolute permeability"
   ]
  },
  {
   "cell_type": "markdown",
   "metadata": {},
   "source": [
    "The example explains absolute permeabilty calculations on a cubic network. Note that permeability calcualtion for an extracted network from PoreSpy follows similar steps in assigning phase, algorithm and calculating permeability."
   ]
  },
  {
   "cell_type": "code",
   "execution_count": 1,
   "metadata": {},
   "outputs": [],
   "source": [
    "import numpy as np\n",
    "import openpnm as op\n",
    "%config InlineBackend.figure_formats = ['svg']\n",
    "np.random.seed(10)\n",
    "%matplotlib inline\n",
    "np.set_printoptions(precision=5)"
   ]
  },
  {
   "cell_type": "markdown",
   "metadata": {},
   "source": [
    "### Create a random cubic network"
   ]
  },
  {
   "cell_type": "code",
   "execution_count": 2,
   "metadata": {},
   "outputs": [],
   "source": [
    "pn = op.network.Cubic(shape=[15, 15, 15], spacing=1e-6)\n",
    "pn.add_model_collection(op.models.collections.geometry.spheres_and_cylinders)\n",
    "pn.regenerate_models()"
   ]
  },
  {
   "cell_type": "markdown",
   "metadata": {},
   "source": [
    "### Create phase object"
   ]
  },
  {
   "cell_type": "markdown",
   "metadata": {},
   "source": [
    "It is assumed that a generic phase flowing through the porous medium. As absolute permeability is the porous medium property and not the fluid property, any other fluid asumming a viscosity value can be used as the phase."
   ]
  },
  {
   "cell_type": "code",
   "execution_count": 3,
   "metadata": {},
   "outputs": [],
   "source": [
    "phase = op.phase.Phase(network=pn)\n",
    "phase['pore.viscosity']=1\n",
    "phase.add_model_collection(op.models.collections.physics.basic)\n",
    "phase.regenerate_models()"
   ]
  },
  {
   "cell_type": "markdown",
   "metadata": {},
   "source": [
    "### Apply Stokes flow"
   ]
  },
  {
   "cell_type": "markdown",
   "metadata": {},
   "source": [
    "To calculate permeability in x direction, a constant pressure boundary condition is applied on the left and right side of the network. Note that a similar procedure can be followed to find the permeability in y and z directions."
   ]
  },
  {
   "cell_type": "code",
   "execution_count": 4,
   "metadata": {},
   "outputs": [
    {
     "name": "stdout",
     "output_type": "stream",
     "text": [
      "                                                                                                                       \r"
     ]
    },
    {
     "data": {
      "text/plain": [
       "{'pore.pressure': SteadyStateSolution([1., 1., 1., ..., 0., 0., 0.])}"
      ]
     },
     "execution_count": 4,
     "metadata": {},
     "output_type": "execute_result"
    }
   ],
   "source": [
    "inlet = pn.pores('left')\n",
    "outlet = pn.pores('right')\n",
    "flow = op.algorithms.StokesFlow(network=pn, phase=phase)\n",
    "flow.set_value_BC(pores=inlet, values=1)\n",
    "flow.set_value_BC(pores=outlet, values=0)\n",
    "flow.run()"
   ]
  },
  {
   "cell_type": "markdown",
   "metadata": {},
   "source": [
    "### Calculate permeability"
   ]
  },
  {
   "cell_type": "markdown",
   "metadata": {},
   "source": [
    "Calculate the permeability using Darcy's law. As pressure difference and viscosity were assumed to be 1, we have a simplified equation:"
   ]
  },
  {
   "cell_type": "code",
   "execution_count": 5,
   "metadata": {},
   "outputs": [
    {
     "name": "stderr",
     "output_type": "stream",
     "text": [
      "------------------------------------------------------------\n",
      "    WARNING    : Attempting to estimate inlet area...will be low \n",
      "    SOURCE     : openpnm.topotools._topotools.get_domain_area \n",
      "    TIME STAMP : 2022-07-13 12:46:51,362    \n",
      "------------------------------------------------------------\n",
      "------------------------------------------------------------\n",
      "    WARNING    : Attempting to estimate domain length...could be low if\n",
      "             boundary pores were not added \n",
      "    SOURCE     : openpnm.topotools._topotools.get_domain_length \n",
      "    TIME STAMP : 2022-07-13 12:46:51,372    \n",
      "------------------------------------------------------------\n"
     ]
    },
    {
     "name": "stdout",
     "output_type": "stream",
     "text": [
      "The value of K is: 0.07 mD\n"
     ]
    }
   ],
   "source": [
    "# NBVAL_IGNORE_OUTPUT\n",
    "Q = flow.rate(pores=inlet, mode='group')[0]\n",
    "A = op.topotools.get_domain_area(pn, inlets=inlet, outlets=outlet)\n",
    "L = op.topotools.get_domain_length(pn, inlets=inlet, outlets=outlet)\n",
    "# K = Q * L * mu / (A * Delta_P) # mu and Delta_P were assumed to be 1.\n",
    "K = Q * L / A\n",
    "print(f'The value of K is: {K/0.98e-12*1000:.2f} mD')"
   ]
  }
 ],
 "metadata": {
  "@webio": {
   "lastCommId": null,
   "lastKernelId": null
  },
  "hide_input": false,
  "kernelspec": {
   "display_name": "Python 3",
   "language": "python",
   "name": "python3"
  },
  "language_info": {
   "codemirror_mode": {
    "name": "ipython",
    "version": 3
   },
   "file_extension": ".py",
   "mimetype": "text/x-python",
   "name": "python",
   "nbconvert_exporter": "python",
   "pygments_lexer": "ipython3",
   "version": "3.8.3"
  }
 },
 "nbformat": 4,
 "nbformat_minor": 2
}
